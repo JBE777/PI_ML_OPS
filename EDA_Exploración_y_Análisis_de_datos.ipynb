{
 "cells": [
  {
   "cell_type": "markdown",
   "id": "300e5f68",
   "metadata": {},
   "source": [
    "<h1 align=right><span style='font-family:Arial Black'>Henry</span></h1>\n",
    "<h2 align=center><span style='font-family:Arial Black'>EDA</span></h2>\n",
    "<p><img src=\"formas/ETL.jpg\", width=\"200\"></p>"
   ]
  },
  {
   "cell_type": "code",
   "execution_count": null,
   "id": "9f4cf1e7",
   "metadata": {},
   "outputs": [],
   "source": [
    "# Importamos las librerías requeridas\n",
    "import pandas as pd\n",
    "import seaborn as sns\n",
    "import matplotlib.pyplot as plt\n",
    "from wordcloud import WordCloud, STOPWORDS\n",
    "import warnings\n",
    "warnings.filterwarnings('ignore')"
   ]
  },
  {
   "cell_type": "markdown",
   "id": "44f82e2a",
   "metadata": {},
   "source": [
    "### *Nube de palabras de la columna:* `genero`"
   ]
  },
  {
   "cell_type": "code",
   "execution_count": null,
   "id": "85a16c65",
   "metadata": {},
   "outputs": [],
   "source": [
    "# Creamos variable para 'genero', para desplegar palabras que mas se repiten en 'genero' de los juegos. \n",
    "genero['genero'] = genero['genero'].astype('str')\n",
    "genero_wd = ' '.join(genero['genero'])\n",
    "genero_wc = WordCloud(stopwords=STOPWORDS,background_color='black',height=2000,width=4000).generate(genero_wd)\n",
    "plt.figure(figsize=(8,6))\n",
    "plt.imshow(genero_wc)\n",
    "plt.axis('off');"
   ]
  },
  {
   "cell_type": "markdown",
   "id": "329f8e69",
   "metadata": {},
   "source": [
    "### `Creamos una grafica con principales generos de los juegos`"
   ]
  },
  {
   "cell_type": "code",
   "execution_count": null,
   "id": "90d96cf3",
   "metadata": {},
   "outputs": [],
   "source": [
    "genero = df2[df2['genero'].isin(['Casual','Indie','Adventure','Action','RPG','Simulation','Strategy'])]\n",
    "plt.figure(figsize=(5,4))\n",
    "plt.title('Cantidad de juegos por genero',fontname='Times New Roman')\n",
    "sns.countplot(y='genero',data=genero)\n",
    "plt.ylabel('Género del Juego',color='gray')\n",
    "plt.plot(5000,1,label='Casual')\n",
    "plt.plot(5000,1,label='Indie',c='orange')\n",
    "plt.plot(5000,1,label='Action',c='g')\n",
    "plt.plot(5000,1,label='RPG',c='r')\n",
    "plt.plot(5000,1,label='Simulation',c='purple')\n",
    "plt.plot(5000,1,label='Strategy',c='brown')\n",
    "plt.xlabel('Cantidad de juegos por genero',color='gray')\n",
    "plt.legend();"
   ]
  },
  {
   "cell_type": "markdown",
   "id": "d0e1fba0",
   "metadata": {},
   "source": [
    "### *Nube de palabras de la columna:* `app_name`"
   ]
  },
  {
   "cell_type": "code",
   "execution_count": null,
   "id": "d3f20a03",
   "metadata": {},
   "outputs": [],
   "source": [
    "# Creamos variable para 'app_name', para desplegar palabras que mas se repiten en 'app_name' o nombres de juegos. \n",
    "rec_juego['app_name'] = rec_juego['app_name'].astype('str')\n",
    "rec_juego_wd = ' '.join(rec_juego['app_name'])\n",
    "rec_juego_wc = WordCloud(stopwords=STOPWORDS,background_color='black',height=2000,width=4000).generate(rec_juego_wd)\n",
    "plt.figure(figsize=(8,6))\n",
    "plt.imshow(rec_juego_wc)\n",
    "plt.axis('off');"
   ]
  },
  {
   "cell_type": "code",
   "execution_count": null,
   "id": "0959761e",
   "metadata": {},
   "outputs": [],
   "source": []
  },
  {
   "cell_type": "code",
   "execution_count": null,
   "id": "fe45dba4",
   "metadata": {},
   "outputs": [],
   "source": []
  },
  {
   "cell_type": "code",
   "execution_count": null,
   "id": "1eef4369",
   "metadata": {},
   "outputs": [],
   "source": []
  }
 ],
 "metadata": {
  "kernelspec": {
   "display_name": "Python 3 (ipykernel)",
   "language": "python",
   "name": "python3"
  },
  "language_info": {
   "codemirror_mode": {
    "name": "ipython",
    "version": 3
   },
   "file_extension": ".py",
   "mimetype": "text/x-python",
   "name": "python",
   "nbconvert_exporter": "python",
   "pygments_lexer": "ipython3",
   "version": "3.11.3"
  }
 },
 "nbformat": 4,
 "nbformat_minor": 5
}
