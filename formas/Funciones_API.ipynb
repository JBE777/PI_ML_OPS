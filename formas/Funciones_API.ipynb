{
 "cells": [
  {
   "cell_type": "markdown",
   "id": "9f7ff335",
   "metadata": {},
   "source": [
    "## *Funciones API*"
   ]
  },
  {
   "cell_type": "code",
   "execution_count": 8,
   "id": "ed4a8bf7",
   "metadata": {
    "scrolled": true
   },
   "outputs": [],
   "source": [
    "import pandas as pd\n",
    "from sklearn.feature_extraction.text import TfidfVectorizer\n",
    "from sklearn.metrics.pairwise import linear_kernel\n",
    "def PlayTimeGenre(genero:str):\n",
    "    '''Debe devolver año con mas horas jugadas para dicho género. Ejemplo de retorno: \n",
    "       {\"Año de lanzamiento con más horas jugadas para Género X\" : 2013}'''\n",
    "    df = pd.read_csv('../dataset/genero.csv')\n",
    "    gen = df[df['genero']==genero]\n",
    "    horas = gen['playtime_forever'].max()\n",
    "    Anio = gen['year'].max()\n",
    "    return {'Año de lanzamiento con más horas jugadas por genero':Anio}\n",
    "def UserForGenre(genero:str): \n",
    "    '''Debe devolver el usuario que acumula más horas jugadas para el género dado y una lista \n",
    "    de la acumulación de horas jugadas por año.Ejemplo de retorno: {\"Usuario con más horas jugadas para Género X\" :\n",
    "    us213ndjss09sdf, \"Horas jugadas\":[{Año: 2013, Horas: 203}, {Año: 2012, Horas: 100}, {Año: 2011, Horas: 23}]}'''\n",
    "    df = pd.read_csv('../dataset/userforgenre.csv')\n",
    "    gene = df[df['genero']==genero]\n",
    "    usuario = gene['user_id'].max()\n",
    "    horas = gene['playtime_forever'].max()\n",
    "    anio = gene['year'].max()\n",
    "    return {'Usuario':usuario, 'Anio':anio, 'Horas':horas}\n",
    "def UsersRecommend(anio:int):\n",
    "    '''Devuelve el top 3 de juegos MÁS recomendados por usuarios para el año dado.\n",
    "    (reviews.recommend = True y comentarios positivos/neutrales) Ejemplo de retorno:\n",
    "    [{\"Puesto 1\" : X}, {\"Puesto 2\" : Y},{\"Puesto 3\" : Z}]'''\n",
    "    df = pd.read_csv('../dataset/UsersRecommend.csv')\n",
    "    year = df[df['year']==anio]\n",
    "    resultado = {\"Puesto numero:\": int(df['review'].index[0])}\n",
    "    del df\n",
    "    return resultado"
   ]
  },
  {
   "cell_type": "code",
   "execution_count": 9,
   "id": "2d846ea9",
   "metadata": {},
   "outputs": [
    {
     "name": "stdout",
     "output_type": "stream",
     "text": [
      "{'Año de lanzamiento con más horas jugadas por genero': 2019}\n",
      "{'Usuario': 'yookobz', 'Anio': 2021, 'Horas': 409}\n",
      "{'Puesto numero:': 0}\n"
     ]
    }
   ],
   "source": [
    "print(PlayTimeGenre('Action')) \n",
    "print(UserForGenre('Indie'))\n",
    "print(UsersRecommend(2021))"
   ]
  },
  {
   "cell_type": "code",
   "execution_count": 5,
   "id": "b6310569",
   "metadata": {},
   "outputs": [
    {
     "data": {
      "text/html": [
       "<div>\n",
       "<style scoped>\n",
       "    .dataframe tbody tr th:only-of-type {\n",
       "        vertical-align: middle;\n",
       "    }\n",
       "\n",
       "    .dataframe tbody tr th {\n",
       "        vertical-align: top;\n",
       "    }\n",
       "\n",
       "    .dataframe thead th {\n",
       "        text-align: right;\n",
       "    }\n",
       "</style>\n",
       "<table border=\"1\" class=\"dataframe\">\n",
       "  <thead>\n",
       "    <tr style=\"text-align: right;\">\n",
       "      <th></th>\n",
       "      <th>year</th>\n",
       "      <th>review</th>\n",
       "      <th>user_id</th>\n",
       "    </tr>\n",
       "  </thead>\n",
       "  <tbody>\n",
       "    <tr>\n",
       "      <th>0</th>\n",
       "      <td>2014</td>\n",
       "      <td>good game</td>\n",
       "      <td>48</td>\n",
       "    </tr>\n",
       "    <tr>\n",
       "      <th>1</th>\n",
       "      <td>2014</td>\n",
       "      <td>great game</td>\n",
       "      <td>40</td>\n",
       "    </tr>\n",
       "    <tr>\n",
       "      <th>2</th>\n",
       "      <td>2014</td>\n",
       "      <td>good</td>\n",
       "      <td>40</td>\n",
       "    </tr>\n",
       "    <tr>\n",
       "      <th>3</th>\n",
       "      <td>2015</td>\n",
       "      <td>10/10</td>\n",
       "      <td>35</td>\n",
       "    </tr>\n",
       "    <tr>\n",
       "      <th>4</th>\n",
       "      <td>2015</td>\n",
       "      <td>great game</td>\n",
       "      <td>28</td>\n",
       "    </tr>\n",
       "    <tr>\n",
       "      <th>...</th>\n",
       "      <td>...</td>\n",
       "      <td>...</td>\n",
       "      <td>...</td>\n",
       "    </tr>\n",
       "    <tr>\n",
       "      <th>49577</th>\n",
       "      <td>2014</td>\n",
       "      <td>No matter how old this game is, it is still pr...</td>\n",
       "      <td>1</td>\n",
       "    </tr>\n",
       "    <tr>\n",
       "      <th>49578</th>\n",
       "      <td>2014</td>\n",
       "      <td>No matter the complaints about the games perfo...</td>\n",
       "      <td>1</td>\n",
       "    </tr>\n",
       "    <tr>\n",
       "      <th>49579</th>\n",
       "      <td>2014</td>\n",
       "      <td>No offense.Better than all COD's.</td>\n",
       "      <td>1</td>\n",
       "    </tr>\n",
       "    <tr>\n",
       "      <th>49580</th>\n",
       "      <td>2014</td>\n",
       "      <td>No one plays this soooo...</td>\n",
       "      <td>1</td>\n",
       "    </tr>\n",
       "    <tr>\n",
       "      <th>49581</th>\n",
       "      <td>2023</td>\n",
       "      <td>👌👌👌👌👌</td>\n",
       "      <td>1</td>\n",
       "    </tr>\n",
       "  </tbody>\n",
       "</table>\n",
       "<p>49582 rows × 3 columns</p>\n",
       "</div>"
      ],
      "text/plain": [
       "       year                                             review  user_id\n",
       "0      2014                                          good game       48\n",
       "1      2014                                         great game       40\n",
       "2      2014                                               good       40\n",
       "3      2015                                              10/10       35\n",
       "4      2015                                         great game       28\n",
       "...     ...                                                ...      ...\n",
       "49577  2014  No matter how old this game is, it is still pr...        1\n",
       "49578  2014  No matter the complaints about the games perfo...        1\n",
       "49579  2014                  No offense.Better than all COD's.        1\n",
       "49580  2014                         No one plays this soooo...        1\n",
       "49581  2023                                              👌👌👌👌👌        1\n",
       "\n",
       "[49582 rows x 3 columns]"
      ]
     },
     "execution_count": 5,
     "metadata": {},
     "output_type": "execute_result"
    }
   ],
   "source": [
    "import pandas as pd\n",
    "df = pd.read_csv('../dataset/UsersRecommend.csv')\n",
    "df"
   ]
  },
  {
   "cell_type": "code",
   "execution_count": 13,
   "id": "3959415b",
   "metadata": {},
   "outputs": [
    {
     "data": {
      "text/plain": [
       "4843"
      ]
     },
     "execution_count": 13,
     "metadata": {},
     "output_type": "execute_result"
    }
   ],
   "source": [
    "total = gen['playtime_forever'].max()\n",
    "    Anio = gen['year'].max()"
   ]
  },
  {
   "cell_type": "code",
   "execution_count": null,
   "id": "d64e456c",
   "metadata": {},
   "outputs": [],
   "source": []
  }
 ],
 "metadata": {
  "kernelspec": {
   "display_name": "Python 3 (ipykernel)",
   "language": "python",
   "name": "python3"
  },
  "language_info": {
   "codemirror_mode": {
    "name": "ipython",
    "version": 3
   },
   "file_extension": ".py",
   "mimetype": "text/x-python",
   "name": "python",
   "nbconvert_exporter": "python",
   "pygments_lexer": "ipython3",
   "version": "3.11.3"
  }
 },
 "nbformat": 4,
 "nbformat_minor": 5
}
