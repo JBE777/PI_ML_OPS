{
 "cells": [
  {
   "cell_type": "markdown",
   "id": "8b808e99",
   "metadata": {},
   "source": [
    "<h1 align=right><span style='font-family:Arial Black'>Henry</span></h1>\n",
    "<h1 align=center><span style='font-family:Arial Black'>ETL</span></h1>\n",
    "<p><img src=\"formas/ETL.jpg\", width=\"300\"></p>\n",
    "<h6 align=center><span style='font-family:Arial Black'>Parte 1</span></h6>"
   ]
  },
  {
   "cell_type": "markdown",
   "id": "08623268",
   "metadata": {},
   "source": [
    "# *`Para iniciar la exploración, transformación y carga de datos,necesitamos trabajar en los`*:\n",
    "### 1. *`Archivos Originales gz`*:\n",
    "* `steam_games.json.gz`\n",
    "* `user_reviews.json.gz`\n",
    "* `users_items.json.gz`\n",
    "\n",
    "### 2. *`De los anteriores se obtuvieron los respectivos json en folder zip`*:\n",
    "* `steam_games.json`\n",
    "* `user_reviews.json`\n",
    "* `users_items.json`\n",
    "\n",
    "### 3. *`De los archivos zip se extraen los correspondientes json`*:\n",
    "* `output_steam_games.json`\n",
    "* `australian_user_reviews.json`\n",
    "* `australian_user_items.json`"
   ]
  },
  {
   "cell_type": "markdown",
   "id": "60f2fd10",
   "metadata": {},
   "source": [
    "### Obtenidos los archivos de trabajo, borré sus correspondientes folders para alojarlos en la carpeta `data`.\n",
    "* Mismos que quedaron en `Desktop` y a un lado del proyecto `PI_ML_OPS`.\n",
    "* Estos archivos no podrán ser vistos en `GitHub`, cuando suba el proyecto.\n",
    "* Los archivos aparecen junto con el `Diccionario de Datos STEAM`.\n",
    "* Capturamos la ubicación del folder `data` y su apertura para ver contenido."
   ]
  },
  {
   "cell_type": "markdown",
   "id": "7984df84",
   "metadata": {},
   "source": [
    "<p><img src=\"formas/data.png\", width=\"500\"></p>\n",
    "<p><img src=\"formas/data_open.png\", width=\"700\"></p>"
   ]
  },
  {
   "cell_type": "code",
   "execution_count": 1,
   "id": "d937fe2f",
   "metadata": {},
   "outputs": [],
   "source": [
    "# Para iniciar el ETL, necesitamos importar las librerias necesarias para trabajar en la apertura de archivos json.\n",
    "import pandas as pd\n",
    "import ast"
   ]
  },
  {
   "cell_type": "markdown",
   "id": "3fdbd97a",
   "metadata": {},
   "source": [
    "### Empezando por abrir el archivo:*`steam_games.json`*\n",
    "* Este archivo no lo pude abrir sin `lines=True`.\n",
    "* Aunque este parametro no es nativo de Python.\n",
    "* Ello, puede abrir un archivo `JSON en Python` y \n",
    "* puede procesar cada `línea del archivo JSON`, \n",
    "* si el `archivo JSON está formateado` de tal manera\n",
    "* que cada línea sea un `objeto JSON independiente`. \n",
    "* Esto es comúnmente conocido como `JSON Line`"
   ]
  },
  {
   "cell_type": "code",
   "execution_count": 2,
   "id": "60aa474c",
   "metadata": {},
   "outputs": [],
   "source": [
    "df_games = pd.read_json('../data/output_steam_games.json',lines=True)"
   ]
  },
  {
   "cell_type": "code",
   "execution_count": 3,
   "id": "dc0f5faf",
   "metadata": {
    "scrolled": true
   },
   "outputs": [
    {
     "data": {
      "text/html": [
       "<div>\n",
       "<style scoped>\n",
       "    .dataframe tbody tr th:only-of-type {\n",
       "        vertical-align: middle;\n",
       "    }\n",
       "\n",
       "    .dataframe tbody tr th {\n",
       "        vertical-align: top;\n",
       "    }\n",
       "\n",
       "    .dataframe thead th {\n",
       "        text-align: right;\n",
       "    }\n",
       "</style>\n",
       "<table border=\"1\" class=\"dataframe\">\n",
       "  <thead>\n",
       "    <tr style=\"text-align: right;\">\n",
       "      <th></th>\n",
       "      <th>publisher</th>\n",
       "      <th>genres</th>\n",
       "      <th>app_name</th>\n",
       "      <th>title</th>\n",
       "      <th>url</th>\n",
       "      <th>release_date</th>\n",
       "      <th>tags</th>\n",
       "      <th>reviews_url</th>\n",
       "      <th>specs</th>\n",
       "      <th>price</th>\n",
       "      <th>early_access</th>\n",
       "      <th>id</th>\n",
       "      <th>developer</th>\n",
       "    </tr>\n",
       "  </thead>\n",
       "  <tbody>\n",
       "    <tr>\n",
       "      <th>0</th>\n",
       "      <td>None</td>\n",
       "      <td>None</td>\n",
       "      <td>None</td>\n",
       "      <td>None</td>\n",
       "      <td>None</td>\n",
       "      <td>None</td>\n",
       "      <td>None</td>\n",
       "      <td>None</td>\n",
       "      <td>None</td>\n",
       "      <td>None</td>\n",
       "      <td>NaN</td>\n",
       "      <td>NaN</td>\n",
       "      <td>None</td>\n",
       "    </tr>\n",
       "    <tr>\n",
       "      <th>1</th>\n",
       "      <td>None</td>\n",
       "      <td>None</td>\n",
       "      <td>None</td>\n",
       "      <td>None</td>\n",
       "      <td>None</td>\n",
       "      <td>None</td>\n",
       "      <td>None</td>\n",
       "      <td>None</td>\n",
       "      <td>None</td>\n",
       "      <td>None</td>\n",
       "      <td>NaN</td>\n",
       "      <td>NaN</td>\n",
       "      <td>None</td>\n",
       "    </tr>\n",
       "  </tbody>\n",
       "</table>\n",
       "</div>"
      ],
      "text/plain": [
       "  publisher genres app_name title   url release_date  tags reviews_url specs  \\\n",
       "0      None   None     None  None  None         None  None        None  None   \n",
       "1      None   None     None  None  None         None  None        None  None   \n",
       "\n",
       "  price  early_access  id developer  \n",
       "0  None           NaN NaN      None  \n",
       "1  None           NaN NaN      None  "
      ]
     },
     "execution_count": 3,
     "metadata": {},
     "output_type": "execute_result"
    }
   ],
   "source": [
    "df_games.head(2)"
   ]
  },
  {
   "cell_type": "code",
   "execution_count": 4,
   "id": "937f55f3",
   "metadata": {
    "scrolled": true
   },
   "outputs": [
    {
     "data": {
      "text/plain": [
       "Index(['publisher', 'genres', 'app_name', 'title', 'url', 'release_date',\n",
       "       'tags', 'reviews_url', 'specs', 'price', 'early_access', 'id',\n",
       "       'developer'],\n",
       "      dtype='object')"
      ]
     },
     "execution_count": 4,
     "metadata": {},
     "output_type": "execute_result"
    }
   ],
   "source": [
    "# Revisando las columnas del archivo abierto\n",
    "df_games.columns"
   ]
  },
  {
   "cell_type": "code",
   "execution_count": 5,
   "id": "57d25045",
   "metadata": {},
   "outputs": [
    {
     "data": {
      "text/plain": [
       "(120445, 13)"
      ]
     },
     "execution_count": 5,
     "metadata": {},
     "output_type": "execute_result"
    }
   ],
   "source": [
    "df_games.shape"
   ]
  },
  {
   "cell_type": "code",
   "execution_count": 5,
   "id": "6fbe22e2",
   "metadata": {},
   "outputs": [
    {
     "data": {
      "text/html": [
       "<div>\n",
       "<style scoped>\n",
       "    .dataframe tbody tr th:only-of-type {\n",
       "        vertical-align: middle;\n",
       "    }\n",
       "\n",
       "    .dataframe tbody tr th {\n",
       "        vertical-align: top;\n",
       "    }\n",
       "\n",
       "    .dataframe thead th {\n",
       "        text-align: right;\n",
       "    }\n",
       "</style>\n",
       "<table border=\"1\" class=\"dataframe\">\n",
       "  <thead>\n",
       "    <tr style=\"text-align: right;\">\n",
       "      <th></th>\n",
       "      <th>publisher</th>\n",
       "      <th>genres</th>\n",
       "      <th>app_name</th>\n",
       "      <th>title</th>\n",
       "      <th>url</th>\n",
       "      <th>release_date</th>\n",
       "      <th>tags</th>\n",
       "      <th>reviews_url</th>\n",
       "      <th>specs</th>\n",
       "      <th>price</th>\n",
       "      <th>early_access</th>\n",
       "      <th>id</th>\n",
       "      <th>developer</th>\n",
       "    </tr>\n",
       "  </thead>\n",
       "  <tbody>\n",
       "    <tr>\n",
       "      <th>88310</th>\n",
       "      <td>Kotoshiro</td>\n",
       "      <td>[Action, Casual, Indie, Simulation, Strategy]</td>\n",
       "      <td>Lost Summoner Kitty</td>\n",
       "      <td>Lost Summoner Kitty</td>\n",
       "      <td>http://store.steampowered.com/app/761140/Lost_...</td>\n",
       "      <td>2018-01-04</td>\n",
       "      <td>[Strategy, Action, Indie, Casual, Simulation]</td>\n",
       "      <td>http://steamcommunity.com/app/761140/reviews/?...</td>\n",
       "      <td>[Single-player]</td>\n",
       "      <td>4.99</td>\n",
       "      <td>0.0</td>\n",
       "      <td>761140.0</td>\n",
       "      <td>Kotoshiro</td>\n",
       "    </tr>\n",
       "    <tr>\n",
       "      <th>88311</th>\n",
       "      <td>Making Fun, Inc.</td>\n",
       "      <td>[Free to Play, Indie, RPG, Strategy]</td>\n",
       "      <td>Ironbound</td>\n",
       "      <td>Ironbound</td>\n",
       "      <td>http://store.steampowered.com/app/643980/Ironb...</td>\n",
       "      <td>2018-01-04</td>\n",
       "      <td>[Free to Play, Strategy, Indie, RPG, Card Game...</td>\n",
       "      <td>http://steamcommunity.com/app/643980/reviews/?...</td>\n",
       "      <td>[Single-player, Multi-player, Online Multi-Pla...</td>\n",
       "      <td>Free To Play</td>\n",
       "      <td>0.0</td>\n",
       "      <td>643980.0</td>\n",
       "      <td>Secret Level SRL</td>\n",
       "    </tr>\n",
       "  </tbody>\n",
       "</table>\n",
       "</div>"
      ],
      "text/plain": [
       "              publisher                                         genres  \\\n",
       "88310         Kotoshiro  [Action, Casual, Indie, Simulation, Strategy]   \n",
       "88311  Making Fun, Inc.           [Free to Play, Indie, RPG, Strategy]   \n",
       "\n",
       "                  app_name                title  \\\n",
       "88310  Lost Summoner Kitty  Lost Summoner Kitty   \n",
       "88311            Ironbound            Ironbound   \n",
       "\n",
       "                                                     url release_date  \\\n",
       "88310  http://store.steampowered.com/app/761140/Lost_...   2018-01-04   \n",
       "88311  http://store.steampowered.com/app/643980/Ironb...   2018-01-04   \n",
       "\n",
       "                                                    tags  \\\n",
       "88310      [Strategy, Action, Indie, Casual, Simulation]   \n",
       "88311  [Free to Play, Strategy, Indie, RPG, Card Game...   \n",
       "\n",
       "                                             reviews_url  \\\n",
       "88310  http://steamcommunity.com/app/761140/reviews/?...   \n",
       "88311  http://steamcommunity.com/app/643980/reviews/?...   \n",
       "\n",
       "                                                   specs         price  \\\n",
       "88310                                    [Single-player]          4.99   \n",
       "88311  [Single-player, Multi-player, Online Multi-Pla...  Free To Play   \n",
       "\n",
       "       early_access        id         developer  \n",
       "88310           0.0  761140.0         Kotoshiro  \n",
       "88311           0.0  643980.0  Secret Level SRL  "
      ]
     },
     "execution_count": 5,
     "metadata": {},
     "output_type": "execute_result"
    }
   ],
   "source": [
    "# Eliminamos los valores nulos y revisamos el tipo de columnas, y vemos que\n",
    "# Las columnas: 'genres','tags' y 'specs' aparecen como lista cada registro.\n",
    "df_games = df_games.dropna()\n",
    "df_games.head(2)"
   ]
  },
  {
   "cell_type": "code",
   "execution_count": 6,
   "id": "10310d8f",
   "metadata": {},
   "outputs": [
    {
     "data": {
      "text/plain": [
       "(120445, 13)"
      ]
     },
     "execution_count": 6,
     "metadata": {},
     "output_type": "execute_result"
    }
   ],
   "source": [
    "# Checamos la cantidad de registros y columnas\n",
    "df_games.shape"
   ]
  },
  {
   "cell_type": "code",
   "execution_count": 7,
   "id": "92f6fbcb",
   "metadata": {},
   "outputs": [
    {
     "data": {
      "text/plain": [
       "89687     1983-06-19\n",
       "89855     1984-04-29\n",
       "110028    1984-11-01\n",
       "116377    1985-01-01\n",
       "99223     1986-05-01\n",
       "             ...    \n",
       "109456      Oct 2016\n",
       "101344          SOON\n",
       "120318         SOON™\n",
       "119928      Sep 2009\n",
       "90917       Sep 2014\n",
       "Name: release_date, Length: 22530, dtype: object"
      ]
     },
     "execution_count": 7,
     "metadata": {},
     "output_type": "execute_result"
    }
   ],
   "source": [
    "# Verificamos columna 'release_date' para extaer la columna 'year'\n",
    "df_games.release_date.sort_values()"
   ]
  },
  {
   "cell_type": "code",
   "execution_count": 8,
   "id": "a57ac48e",
   "metadata": {},
   "outputs": [],
   "source": [
    "# Eliminamos los indices: 'SOON' y ' SOON™'\n",
    "df_games= df_games.drop([101344,120318])"
   ]
  },
  {
   "cell_type": "code",
   "execution_count": 9,
   "id": "7bbc14f8",
   "metadata": {},
   "outputs": [
    {
     "data": {
      "text/plain": [
       "89687     1983-06-19\n",
       "89855     1984-04-29\n",
       "110028    1984-11-01\n",
       "116377    1985-01-01\n",
       "99223     1986-05-01\n",
       "             ...    \n",
       "88819       Oct 2010\n",
       "88816       Oct 2010\n",
       "109456      Oct 2016\n",
       "119928      Sep 2009\n",
       "90917       Sep 2014\n",
       "Name: release_date, Length: 22528, dtype: object"
      ]
     },
     "execution_count": 9,
     "metadata": {},
     "output_type": "execute_result"
    }
   ],
   "source": [
    "# Verificamos la eliminación de los indices anteriores\n",
    "df_games.release_date.sort_values()"
   ]
  },
  {
   "cell_type": "code",
   "execution_count": 10,
   "id": "eee58cea",
   "metadata": {},
   "outputs": [],
   "source": [
    "# Extraemos la columna 'year' de la columna 'release_date', usando el método 'to_datetime' de la librería 'pandas'\n",
    "df_games['year'] = pd.to_datetime(df_games['release_date'],errors='coerce').apply(lambda x:str(x).split('-')[0] if x != None else None)"
   ]
  },
  {
   "cell_type": "code",
   "execution_count": 11,
   "id": "9827c584",
   "metadata": {},
   "outputs": [],
   "source": [
    "# Convertimos los registros de la columna 'year' a 'integer'\n",
    "df_games.year = df_games.year.astype(int)"
   ]
  },
  {
   "cell_type": "code",
   "execution_count": 12,
   "id": "a3d71ca0",
   "metadata": {},
   "outputs": [
    {
     "name": "stdout",
     "output_type": "stream",
     "text": [
      "<class 'pandas.core.frame.DataFrame'>\n",
      "Int64Index: 22528 entries, 88310 to 120443\n",
      "Data columns (total 14 columns):\n",
      " #   Column        Non-Null Count  Dtype  \n",
      "---  ------        --------------  -----  \n",
      " 0   publisher     22528 non-null  object \n",
      " 1   genres        22528 non-null  object \n",
      " 2   app_name      22528 non-null  object \n",
      " 3   title         22528 non-null  object \n",
      " 4   url           22528 non-null  object \n",
      " 5   release_date  22528 non-null  object \n",
      " 6   tags          22528 non-null  object \n",
      " 7   reviews_url   22528 non-null  object \n",
      " 8   specs         22528 non-null  object \n",
      " 9   price         22528 non-null  object \n",
      " 10  early_access  22528 non-null  float64\n",
      " 11  id            22528 non-null  float64\n",
      " 12  developer     22528 non-null  object \n",
      " 13  year          22528 non-null  int32  \n",
      "dtypes: float64(2), int32(1), object(11)\n",
      "memory usage: 2.5+ MB\n"
     ]
    }
   ],
   "source": [
    "# Verificamos el total de columnas y registros\n",
    "df_games.info()"
   ]
  },
  {
   "cell_type": "code",
   "execution_count": 13,
   "id": "b7e052f5",
   "metadata": {},
   "outputs": [
    {
     "data": {
      "text/plain": [
       "88310             4.99\n",
       "88311     Free To Play\n",
       "88312     Free to Play\n",
       "88313             0.99\n",
       "88315             3.99\n",
       "              ...     \n",
       "120439            1.99\n",
       "120440            1.99\n",
       "120441            4.99\n",
       "120442            1.99\n",
       "120443            4.99\n",
       "Name: price, Length: 22528, dtype: object"
      ]
     },
     "execution_count": 13,
     "metadata": {},
     "output_type": "execute_result"
    }
   ],
   "source": [
    "# Verificamos la columna 'price'\n",
    "df_games['price']"
   ]
  },
  {
   "cell_type": "code",
   "execution_count": 14,
   "id": "205986ea",
   "metadata": {},
   "outputs": [],
   "source": [
    "# Convertimos los registros de la columna 'price' a número, usando el método 'to_numeric' de la librería 'pandas'\n",
    "df_games['price'] = pd.to_numeric(df_games['price'],errors='coerce')"
   ]
  },
  {
   "cell_type": "code",
   "execution_count": 15,
   "id": "cc85e67b",
   "metadata": {},
   "outputs": [],
   "source": [
    "# Reemplazamos los strings: 'Free To Play' y 'Free to Play' por '0' en la columna 'price'\n",
    "df_games['price'] = df_games['price'].replace({'Free To Play':'0','Free to Play':'0'})"
   ]
  },
  {
   "cell_type": "code",
   "execution_count": 16,
   "id": "e0d80633",
   "metadata": {},
   "outputs": [
    {
     "data": {
      "text/plain": [
       "88310     4.99\n",
       "88311      NaN\n",
       "88312      NaN\n",
       "88313     0.99\n",
       "88315     3.99\n",
       "          ... \n",
       "120439    1.99\n",
       "120440    1.99\n",
       "120441    4.99\n",
       "120442    1.99\n",
       "120443    4.99\n",
       "Name: price, Length: 22528, dtype: float64"
      ]
     },
     "execution_count": 16,
     "metadata": {},
     "output_type": "execute_result"
    }
   ],
   "source": [
    "# Verificamos la columna 'price'\n",
    "df_games['price']"
   ]
  },
  {
   "cell_type": "code",
   "execution_count": 17,
   "id": "2162c999",
   "metadata": {},
   "outputs": [],
   "source": [
    "# Reemplazamos los valores nulos por '0' en la columna 'price'\n",
    "df_games['price'] = df_games['price'].fillna(0)"
   ]
  },
  {
   "cell_type": "code",
   "execution_count": 18,
   "id": "223fcc12",
   "metadata": {},
   "outputs": [
    {
     "data": {
      "text/plain": [
       "111106      0.00\n",
       "118626      0.00\n",
       "118630      0.00\n",
       "116625      0.00\n",
       "99275       0.00\n",
       "           ...  \n",
       "97384     399.99\n",
       "102614    499.99\n",
       "106104    499.99\n",
       "90702     771.71\n",
       "100398    995.00\n",
       "Name: price, Length: 22528, dtype: float64"
      ]
     },
     "execution_count": 18,
     "metadata": {},
     "output_type": "execute_result"
    }
   ],
   "source": [
    "# Verificamos los valores de la columna 'price'\n",
    "df_games['price'].sort_values()"
   ]
  },
  {
   "cell_type": "code",
   "execution_count": 19,
   "id": "23e73661",
   "metadata": {},
   "outputs": [],
   "source": [
    "# Eliminamos las siguientes columnas porque al parecer, no las voy a necesitar:'tags','specs'y 'early_access'\n",
    "cols = ['tags','specs','early_access']\n",
    "df_games = df_games.drop(cols,axis=1)"
   ]
  },
  {
   "cell_type": "code",
   "execution_count": 20,
   "id": "5db8ad53",
   "metadata": {},
   "outputs": [
    {
     "data": {
      "text/html": [
       "<div>\n",
       "<style scoped>\n",
       "    .dataframe tbody tr th:only-of-type {\n",
       "        vertical-align: middle;\n",
       "    }\n",
       "\n",
       "    .dataframe tbody tr th {\n",
       "        vertical-align: top;\n",
       "    }\n",
       "\n",
       "    .dataframe thead th {\n",
       "        text-align: right;\n",
       "    }\n",
       "</style>\n",
       "<table border=\"1\" class=\"dataframe\">\n",
       "  <thead>\n",
       "    <tr style=\"text-align: right;\">\n",
       "      <th></th>\n",
       "      <th>publisher</th>\n",
       "      <th>genres</th>\n",
       "      <th>app_name</th>\n",
       "      <th>title</th>\n",
       "      <th>url</th>\n",
       "      <th>release_date</th>\n",
       "      <th>reviews_url</th>\n",
       "      <th>price</th>\n",
       "      <th>id</th>\n",
       "      <th>developer</th>\n",
       "      <th>year</th>\n",
       "    </tr>\n",
       "  </thead>\n",
       "  <tbody>\n",
       "    <tr>\n",
       "      <th>88310</th>\n",
       "      <td>Kotoshiro</td>\n",
       "      <td>[Action, Casual, Indie, Simulation, Strategy]</td>\n",
       "      <td>Lost Summoner Kitty</td>\n",
       "      <td>Lost Summoner Kitty</td>\n",
       "      <td>http://store.steampowered.com/app/761140/Lost_...</td>\n",
       "      <td>2018-01-04</td>\n",
       "      <td>http://steamcommunity.com/app/761140/reviews/?...</td>\n",
       "      <td>4.99</td>\n",
       "      <td>761140.0</td>\n",
       "      <td>Kotoshiro</td>\n",
       "      <td>2018</td>\n",
       "    </tr>\n",
       "    <tr>\n",
       "      <th>88311</th>\n",
       "      <td>Making Fun, Inc.</td>\n",
       "      <td>[Free to Play, Indie, RPG, Strategy]</td>\n",
       "      <td>Ironbound</td>\n",
       "      <td>Ironbound</td>\n",
       "      <td>http://store.steampowered.com/app/643980/Ironb...</td>\n",
       "      <td>2018-01-04</td>\n",
       "      <td>http://steamcommunity.com/app/643980/reviews/?...</td>\n",
       "      <td>0.00</td>\n",
       "      <td>643980.0</td>\n",
       "      <td>Secret Level SRL</td>\n",
       "      <td>2018</td>\n",
       "    </tr>\n",
       "  </tbody>\n",
       "</table>\n",
       "</div>"
      ],
      "text/plain": [
       "              publisher                                         genres  \\\n",
       "88310         Kotoshiro  [Action, Casual, Indie, Simulation, Strategy]   \n",
       "88311  Making Fun, Inc.           [Free to Play, Indie, RPG, Strategy]   \n",
       "\n",
       "                  app_name                title  \\\n",
       "88310  Lost Summoner Kitty  Lost Summoner Kitty   \n",
       "88311            Ironbound            Ironbound   \n",
       "\n",
       "                                                     url release_date  \\\n",
       "88310  http://store.steampowered.com/app/761140/Lost_...   2018-01-04   \n",
       "88311  http://store.steampowered.com/app/643980/Ironb...   2018-01-04   \n",
       "\n",
       "                                             reviews_url  price        id  \\\n",
       "88310  http://steamcommunity.com/app/761140/reviews/?...   4.99  761140.0   \n",
       "88311  http://steamcommunity.com/app/643980/reviews/?...   0.00  643980.0   \n",
       "\n",
       "              developer  year  \n",
       "88310         Kotoshiro  2018  \n",
       "88311  Secret Level SRL  2018  "
      ]
     },
     "execution_count": 20,
     "metadata": {},
     "output_type": "execute_result"
    }
   ],
   "source": [
    "# Verificamos los registros y columnas eliminadas\n",
    "df_games.head(2)"
   ]
  },
  {
   "cell_type": "code",
   "execution_count": 21,
   "id": "83277774",
   "metadata": {
    "scrolled": false
   },
   "outputs": [
    {
     "name": "stdout",
     "output_type": "stream",
     "text": [
      "<class 'pandas.core.frame.DataFrame'>\n",
      "Int64Index: 22528 entries, 88310 to 120443\n",
      "Data columns (total 11 columns):\n",
      " #   Column        Non-Null Count  Dtype  \n",
      "---  ------        --------------  -----  \n",
      " 0   publisher     22528 non-null  object \n",
      " 1   genres        22528 non-null  object \n",
      " 2   app_name      22528 non-null  object \n",
      " 3   title         22528 non-null  object \n",
      " 4   url           22528 non-null  object \n",
      " 5   release_date  22528 non-null  object \n",
      " 6   reviews_url   22528 non-null  object \n",
      " 7   price         22528 non-null  float64\n",
      " 8   id            22528 non-null  float64\n",
      " 9   developer     22528 non-null  object \n",
      " 10  year          22528 non-null  int32  \n",
      "dtypes: float64(2), int32(1), object(8)\n",
      "memory usage: 2.0+ MB\n"
     ]
    }
   ],
   "source": [
    "# Verificamos los tipos de datos de los 22528 registros y 10 columnas\n",
    "df_games.info()"
   ]
  },
  {
   "cell_type": "code",
   "execution_count": 23,
   "id": "423401e1",
   "metadata": {},
   "outputs": [],
   "source": [
    "# Salvamos el DataFrame como 'df_games.csv' \n",
    "#df_games.to_csv('df_games.csv',index=False)"
   ]
  },
  {
   "cell_type": "markdown",
   "id": "e6533c25",
   "metadata": {},
   "source": [
    "#### Abriendo el archivo: *`australian_user_reviews.json`*"
   ]
  },
  {
   "cell_type": "code",
   "execution_count": 24,
   "id": "92bf7111",
   "metadata": {},
   "outputs": [],
   "source": [
    "# Una vez extraido el archivo.json: `australian_user_reviews.json`, procedemos a abrirlo con `open` y \n",
    "# partiendo de una lista vacia con el metodo `append` vamos completando nuestro archivo `evaluando cada linea` \n",
    "# del archivo.json y usando la libreria `ast`. Mientras el archivo.json, se apoya en el parámetro:\n",
    "# encoding='utf-8' para ser leído y abierto correctamente.\n",
    "lista = []\n",
    "with open(\"../data/australian_user_reviews.json\",encoding='utf-8') as f:\n",
    "    for line in f.readlines():\n",
    "        lista.append(ast.literal_eval(line))\n",
    "#lista"
   ]
  },
  {
   "cell_type": "markdown",
   "id": "7e145490",
   "metadata": {},
   "source": [
    "#### Una vez abierto el archivo `australian_user_reviews.json`:\n",
    "* `Revisamos si hay columnas a desanidar para tomar los datos`.\n",
    "* `Se corre nuevamente, sin abrir la lista`.\n",
    "* `Enseguida, se transforma la lista en DataFrame`"
   ]
  },
  {
   "cell_type": "code",
   "execution_count": 25,
   "id": "29320bec",
   "metadata": {},
   "outputs": [
    {
     "data": {
      "text/html": [
       "<div>\n",
       "<style scoped>\n",
       "    .dataframe tbody tr th:only-of-type {\n",
       "        vertical-align: middle;\n",
       "    }\n",
       "\n",
       "    .dataframe tbody tr th {\n",
       "        vertical-align: top;\n",
       "    }\n",
       "\n",
       "    .dataframe thead th {\n",
       "        text-align: right;\n",
       "    }\n",
       "</style>\n",
       "<table border=\"1\" class=\"dataframe\">\n",
       "  <thead>\n",
       "    <tr style=\"text-align: right;\">\n",
       "      <th></th>\n",
       "      <th>user_id</th>\n",
       "      <th>user_url</th>\n",
       "      <th>reviews</th>\n",
       "    </tr>\n",
       "  </thead>\n",
       "  <tbody>\n",
       "    <tr>\n",
       "      <th>0</th>\n",
       "      <td>76561197970982479</td>\n",
       "      <td>http://steamcommunity.com/profiles/76561197970...</td>\n",
       "      <td>[{'funny': '', 'posted': 'Posted November 5, 2...</td>\n",
       "    </tr>\n",
       "    <tr>\n",
       "      <th>1</th>\n",
       "      <td>js41637</td>\n",
       "      <td>http://steamcommunity.com/id/js41637</td>\n",
       "      <td>[{'funny': '', 'posted': 'Posted June 24, 2014...</td>\n",
       "    </tr>\n",
       "    <tr>\n",
       "      <th>2</th>\n",
       "      <td>evcentric</td>\n",
       "      <td>http://steamcommunity.com/id/evcentric</td>\n",
       "      <td>[{'funny': '', 'posted': 'Posted February 3.',...</td>\n",
       "    </tr>\n",
       "    <tr>\n",
       "      <th>3</th>\n",
       "      <td>doctr</td>\n",
       "      <td>http://steamcommunity.com/id/doctr</td>\n",
       "      <td>[{'funny': '', 'posted': 'Posted October 14, 2...</td>\n",
       "    </tr>\n",
       "    <tr>\n",
       "      <th>4</th>\n",
       "      <td>maplemage</td>\n",
       "      <td>http://steamcommunity.com/id/maplemage</td>\n",
       "      <td>[{'funny': '3 people found this review funny',...</td>\n",
       "    </tr>\n",
       "  </tbody>\n",
       "</table>\n",
       "</div>"
      ],
      "text/plain": [
       "             user_id                                           user_url  \\\n",
       "0  76561197970982479  http://steamcommunity.com/profiles/76561197970...   \n",
       "1            js41637               http://steamcommunity.com/id/js41637   \n",
       "2          evcentric             http://steamcommunity.com/id/evcentric   \n",
       "3              doctr                 http://steamcommunity.com/id/doctr   \n",
       "4          maplemage             http://steamcommunity.com/id/maplemage   \n",
       "\n",
       "                                             reviews  \n",
       "0  [{'funny': '', 'posted': 'Posted November 5, 2...  \n",
       "1  [{'funny': '', 'posted': 'Posted June 24, 2014...  \n",
       "2  [{'funny': '', 'posted': 'Posted February 3.',...  \n",
       "3  [{'funny': '', 'posted': 'Posted October 14, 2...  \n",
       "4  [{'funny': '3 people found this review funny',...  "
      ]
     },
     "execution_count": 25,
     "metadata": {},
     "output_type": "execute_result"
    }
   ],
   "source": [
    "# Se abre el DataFrame y observamos que la columna 'reviews', se encuentra anidada.\n",
    "df = pd.DataFrame(lista)\n",
    "df.head()"
   ]
  },
  {
   "cell_type": "markdown",
   "id": "44ffbe5b",
   "metadata": {},
   "source": [
    "#### Antes de desanidar la columna: `reviews`\n",
    "* Creamos la columna: `sentiment_analysis`\n",
    "* Con la librería: `TextBlob`"
   ]
  },
  {
   "cell_type": "code",
   "execution_count": 26,
   "id": "4a2ba143",
   "metadata": {},
   "outputs": [],
   "source": [
    "# Importamos la libreria capaz de ayudarnos en la tarea de analisis de sentimientos.\n",
    "# Es decir, creamos la función `sentiment_analysis` con parámetro: `review`\n",
    "from textblob import TextBlob \n",
    "def sentiment_analysis(review):\n",
    "    '''Creamos una función de analisis de sentimientos con parametro `review`, usando\n",
    "       la libreria `TextBlob` para pegarle el metodo `sentiment.polarity` y generar tres\n",
    "       (`0`:Negative,`1`:Neutral,`2`:Positive) mediciones del sentimiento a evaluar.'''\n",
    "    if isinstance(review,list) and len(review) > 0:\n",
    "        text = review[0].get('review','')\n",
    "        sentiment = TextBlob(text).sentiment.polarity\n",
    "        if sentiment < -0.2:\n",
    "            return 0 # Negative\n",
    "        elif sentiment >= -0.2 and sentiment <= 0.2:\n",
    "            return 1 # Neutral\n",
    "        else:\n",
    "            return 2 # Positive\n",
    "    else:\n",
    "        return 1"
   ]
  },
  {
   "cell_type": "markdown",
   "id": "1deb8662",
   "metadata": {},
   "source": [
    "#### Una vez creada la función `sentiment_analysis`\n",
    "* Aplicamos la función `sentiment_analysis`, a la columna `reviews`"
   ]
  },
  {
   "cell_type": "code",
   "execution_count": 27,
   "id": "690fd9a5",
   "metadata": {},
   "outputs": [
    {
     "data": {
      "text/html": [
       "<div>\n",
       "<style scoped>\n",
       "    .dataframe tbody tr th:only-of-type {\n",
       "        vertical-align: middle;\n",
       "    }\n",
       "\n",
       "    .dataframe tbody tr th {\n",
       "        vertical-align: top;\n",
       "    }\n",
       "\n",
       "    .dataframe thead th {\n",
       "        text-align: right;\n",
       "    }\n",
       "</style>\n",
       "<table border=\"1\" class=\"dataframe\">\n",
       "  <thead>\n",
       "    <tr style=\"text-align: right;\">\n",
       "      <th></th>\n",
       "      <th>user_id</th>\n",
       "      <th>user_url</th>\n",
       "      <th>reviews</th>\n",
       "      <th>sentiment_analysis</th>\n",
       "    </tr>\n",
       "  </thead>\n",
       "  <tbody>\n",
       "    <tr>\n",
       "      <th>0</th>\n",
       "      <td>76561197970982479</td>\n",
       "      <td>http://steamcommunity.com/profiles/76561197970...</td>\n",
       "      <td>[{'funny': '', 'posted': 'Posted November 5, 2...</td>\n",
       "      <td>1</td>\n",
       "    </tr>\n",
       "    <tr>\n",
       "      <th>1</th>\n",
       "      <td>js41637</td>\n",
       "      <td>http://steamcommunity.com/id/js41637</td>\n",
       "      <td>[{'funny': '', 'posted': 'Posted June 24, 2014...</td>\n",
       "      <td>1</td>\n",
       "    </tr>\n",
       "    <tr>\n",
       "      <th>2</th>\n",
       "      <td>evcentric</td>\n",
       "      <td>http://steamcommunity.com/id/evcentric</td>\n",
       "      <td>[{'funny': '', 'posted': 'Posted February 3.',...</td>\n",
       "      <td>2</td>\n",
       "    </tr>\n",
       "    <tr>\n",
       "      <th>3</th>\n",
       "      <td>doctr</td>\n",
       "      <td>http://steamcommunity.com/id/doctr</td>\n",
       "      <td>[{'funny': '', 'posted': 'Posted October 14, 2...</td>\n",
       "      <td>2</td>\n",
       "    </tr>\n",
       "    <tr>\n",
       "      <th>4</th>\n",
       "      <td>maplemage</td>\n",
       "      <td>http://steamcommunity.com/id/maplemage</td>\n",
       "      <td>[{'funny': '3 people found this review funny',...</td>\n",
       "      <td>1</td>\n",
       "    </tr>\n",
       "  </tbody>\n",
       "</table>\n",
       "</div>"
      ],
      "text/plain": [
       "             user_id                                           user_url  \\\n",
       "0  76561197970982479  http://steamcommunity.com/profiles/76561197970...   \n",
       "1            js41637               http://steamcommunity.com/id/js41637   \n",
       "2          evcentric             http://steamcommunity.com/id/evcentric   \n",
       "3              doctr                 http://steamcommunity.com/id/doctr   \n",
       "4          maplemage             http://steamcommunity.com/id/maplemage   \n",
       "\n",
       "                                             reviews  sentiment_analysis  \n",
       "0  [{'funny': '', 'posted': 'Posted November 5, 2...                   1  \n",
       "1  [{'funny': '', 'posted': 'Posted June 24, 2014...                   1  \n",
       "2  [{'funny': '', 'posted': 'Posted February 3.',...                   2  \n",
       "3  [{'funny': '', 'posted': 'Posted October 14, 2...                   2  \n",
       "4  [{'funny': '3 people found this review funny',...                   1  "
      ]
     },
     "execution_count": 27,
     "metadata": {},
     "output_type": "execute_result"
    }
   ],
   "source": [
    "# Creamos la columna:`sentiment_analysis`, aplicando la funcion:`sentiment_analysis` a la columna:`reviews`.\n",
    "df['sentiment_analysis'] = df['reviews'].apply(sentiment_analysis)\n",
    "df.head()"
   ]
  },
  {
   "cell_type": "markdown",
   "id": "9f622c98",
   "metadata": {},
   "source": [
    "#### Para desanidar la columna: `reviews`. \n",
    "* Vamos a iterar las columnas del archivo A: `australian_user_reviews.json`\n",
    "* Para este propósito, usaremos el método:`iterrows`\n",
    "* Y mediante un diccionario alojaremos el `archivo A`, incluyendo las columnas desanidadas"
   ]
  },
  {
   "cell_type": "code",
   "execution_count": 28,
   "id": "51a8d7b4",
   "metadata": {},
   "outputs": [],
   "source": [
    "# Creamos una lista vacia para alojar nuestros datos desanidados\n",
    "lista_desanidada = []\n",
    "# `iterrows`, se usa para iterar atravez de las filas del archivo.\n",
    "for index,row in df.iterrows():\n",
    "    user_id = row['user_id']\n",
    "    user_url = row['user_url']\n",
    "    sentiment_analysis_value = row['sentiment_analysis']\n",
    "    reviews = row['reviews']\n",
    "# Le pegamos a la lista_desanidada, el siguiente diccionario.   \n",
    "    for e in reviews:\n",
    "        dicc_row = {\n",
    "            'user_id': user_id,\n",
    "            'user_url': user_url,\n",
    "            'reviews': reviews,\n",
    "            'sentiment_analysis': sentiment_analysis_value,\n",
    "            'funny': e.get('funny', ''),\n",
    "            'posted': e.get('posted', ''),\n",
    "            'last_edited': e.get('last_edited', ''),\n",
    "            'item_id': e.get('item_id', ''),\n",
    "            'helpful': e.get('helpfull', ''),\n",
    "            'recommend': e.get('recommend',False),\n",
    "            'review': e.get('review', '')\n",
    "        }\n",
    "        lista_desanidada.append(dicc_row)"
   ]
  },
  {
   "cell_type": "markdown",
   "id": "1cfeb24f",
   "metadata": {},
   "source": [
    "#### Transformamos a `DataFrame`:\n",
    "- Eliminamos la columna `reviews`"
   ]
  },
  {
   "cell_type": "code",
   "execution_count": 29,
   "id": "753297ec",
   "metadata": {},
   "outputs": [],
   "source": [
    "df_desanidada = pd.DataFrame(lista_desanidada)"
   ]
  },
  {
   "cell_type": "code",
   "execution_count": 30,
   "id": "90557c76",
   "metadata": {},
   "outputs": [
    {
     "data": {
      "text/html": [
       "<div>\n",
       "<style scoped>\n",
       "    .dataframe tbody tr th:only-of-type {\n",
       "        vertical-align: middle;\n",
       "    }\n",
       "\n",
       "    .dataframe tbody tr th {\n",
       "        vertical-align: top;\n",
       "    }\n",
       "\n",
       "    .dataframe thead th {\n",
       "        text-align: right;\n",
       "    }\n",
       "</style>\n",
       "<table border=\"1\" class=\"dataframe\">\n",
       "  <thead>\n",
       "    <tr style=\"text-align: right;\">\n",
       "      <th></th>\n",
       "      <th>user_id</th>\n",
       "      <th>user_url</th>\n",
       "      <th>sentiment_analysis</th>\n",
       "      <th>funny</th>\n",
       "      <th>posted</th>\n",
       "      <th>last_edited</th>\n",
       "      <th>item_id</th>\n",
       "      <th>helpful</th>\n",
       "      <th>recommend</th>\n",
       "      <th>review</th>\n",
       "    </tr>\n",
       "  </thead>\n",
       "  <tbody>\n",
       "    <tr>\n",
       "      <th>0</th>\n",
       "      <td>76561197970982479</td>\n",
       "      <td>http://steamcommunity.com/profiles/76561197970...</td>\n",
       "      <td>1</td>\n",
       "      <td></td>\n",
       "      <td>Posted November 5, 2011.</td>\n",
       "      <td></td>\n",
       "      <td>1250</td>\n",
       "      <td></td>\n",
       "      <td>True</td>\n",
       "      <td>Simple yet with great replayability. In my opi...</td>\n",
       "    </tr>\n",
       "    <tr>\n",
       "      <th>1</th>\n",
       "      <td>76561197970982479</td>\n",
       "      <td>http://steamcommunity.com/profiles/76561197970...</td>\n",
       "      <td>1</td>\n",
       "      <td></td>\n",
       "      <td>Posted July 15, 2011.</td>\n",
       "      <td></td>\n",
       "      <td>22200</td>\n",
       "      <td></td>\n",
       "      <td>True</td>\n",
       "      <td>It's unique and worth a playthrough.</td>\n",
       "    </tr>\n",
       "    <tr>\n",
       "      <th>2</th>\n",
       "      <td>76561197970982479</td>\n",
       "      <td>http://steamcommunity.com/profiles/76561197970...</td>\n",
       "      <td>1</td>\n",
       "      <td></td>\n",
       "      <td>Posted April 21, 2011.</td>\n",
       "      <td></td>\n",
       "      <td>43110</td>\n",
       "      <td></td>\n",
       "      <td>True</td>\n",
       "      <td>Great atmosphere. The gunplay can be a bit chu...</td>\n",
       "    </tr>\n",
       "    <tr>\n",
       "      <th>3</th>\n",
       "      <td>js41637</td>\n",
       "      <td>http://steamcommunity.com/id/js41637</td>\n",
       "      <td>1</td>\n",
       "      <td></td>\n",
       "      <td>Posted June 24, 2014.</td>\n",
       "      <td></td>\n",
       "      <td>251610</td>\n",
       "      <td></td>\n",
       "      <td>True</td>\n",
       "      <td>I know what you think when you see this title ...</td>\n",
       "    </tr>\n",
       "    <tr>\n",
       "      <th>4</th>\n",
       "      <td>js41637</td>\n",
       "      <td>http://steamcommunity.com/id/js41637</td>\n",
       "      <td>1</td>\n",
       "      <td></td>\n",
       "      <td>Posted September 8, 2013.</td>\n",
       "      <td></td>\n",
       "      <td>227300</td>\n",
       "      <td></td>\n",
       "      <td>True</td>\n",
       "      <td>For a simple (it's actually not all that simpl...</td>\n",
       "    </tr>\n",
       "  </tbody>\n",
       "</table>\n",
       "</div>"
      ],
      "text/plain": [
       "             user_id                                           user_url  \\\n",
       "0  76561197970982479  http://steamcommunity.com/profiles/76561197970...   \n",
       "1  76561197970982479  http://steamcommunity.com/profiles/76561197970...   \n",
       "2  76561197970982479  http://steamcommunity.com/profiles/76561197970...   \n",
       "3            js41637               http://steamcommunity.com/id/js41637   \n",
       "4            js41637               http://steamcommunity.com/id/js41637   \n",
       "\n",
       "   sentiment_analysis funny                     posted last_edited item_id  \\\n",
       "0                   1         Posted November 5, 2011.                1250   \n",
       "1                   1            Posted July 15, 2011.               22200   \n",
       "2                   1           Posted April 21, 2011.               43110   \n",
       "3                   1            Posted June 24, 2014.              251610   \n",
       "4                   1        Posted September 8, 2013.              227300   \n",
       "\n",
       "  helpful  recommend                                             review  \n",
       "0               True  Simple yet with great replayability. In my opi...  \n",
       "1               True               It's unique and worth a playthrough.  \n",
       "2               True  Great atmosphere. The gunplay can be a bit chu...  \n",
       "3               True  I know what you think when you see this title ...  \n",
       "4               True  For a simple (it's actually not all that simpl...  "
      ]
     },
     "execution_count": 30,
     "metadata": {},
     "output_type": "execute_result"
    }
   ],
   "source": [
    "# Antes de abrir el dataset, eliminamos la columna reviews\n",
    "df_desanidada.drop(['reviews'],axis=1,inplace=True)\n",
    "df_desanidada.head()"
   ]
  },
  {
   "cell_type": "markdown",
   "id": "5a4e3b26",
   "metadata": {},
   "source": [
    "#### Convertimos la columna *`posted`* a formato fecha *`AAAA-MM-DD`*\n",
    "* Usamos las librerías: `dateutil y parser`\n",
    "* Eliminamos la palabra **`Posted`** de cada registro de la columna *`posted`*\n",
    "* Aplicamos la función `parse_date`a la columna `posted`"
   ]
  },
  {
   "cell_type": "code",
   "execution_count": 31,
   "id": "411f1a49",
   "metadata": {},
   "outputs": [],
   "source": [
    "# Importamos la libreria `parser` de `dateutil` para covertir a formato fecha(AAAA-MM-DD).\n",
    "from dateutil import parser\n",
    "# Enseguida creamos una funcion para tal efecto y sustituyendo la palabra:\n",
    "# `Posted` que aparece en cada registro, por \"\"\n",
    "def parse_date(date_str):\n",
    "    try:\n",
    "        return parser.parse(date_str.replace('Posted',\"\"),fuzzy=True)\n",
    "    except ValueError:\n",
    "        return None"
   ]
  },
  {
   "cell_type": "code",
   "execution_count": 32,
   "id": "1e3043ca",
   "metadata": {},
   "outputs": [],
   "source": [
    "# Tomamos la columna `posted` y le aplicamos la función previamente creada.\n",
    "# Creamos la columna 'posted_date' y eliminamos la columna 'posted'\n",
    "df_desanidada['posted_date'] = df_desanidada['posted'].apply(parse_date)\n",
    "df_desanidada = df_desanidada.drop(['posted'],axis=1)"
   ]
  },
  {
   "cell_type": "code",
   "execution_count": 33,
   "id": "18616c70",
   "metadata": {},
   "outputs": [
    {
     "data": {
      "text/html": [
       "<div>\n",
       "<style scoped>\n",
       "    .dataframe tbody tr th:only-of-type {\n",
       "        vertical-align: middle;\n",
       "    }\n",
       "\n",
       "    .dataframe tbody tr th {\n",
       "        vertical-align: top;\n",
       "    }\n",
       "\n",
       "    .dataframe thead th {\n",
       "        text-align: right;\n",
       "    }\n",
       "</style>\n",
       "<table border=\"1\" class=\"dataframe\">\n",
       "  <thead>\n",
       "    <tr style=\"text-align: right;\">\n",
       "      <th></th>\n",
       "      <th>user_id</th>\n",
       "      <th>user_url</th>\n",
       "      <th>sentiment_analysis</th>\n",
       "      <th>funny</th>\n",
       "      <th>last_edited</th>\n",
       "      <th>item_id</th>\n",
       "      <th>helpful</th>\n",
       "      <th>recommend</th>\n",
       "      <th>review</th>\n",
       "      <th>posted_date</th>\n",
       "    </tr>\n",
       "  </thead>\n",
       "  <tbody>\n",
       "    <tr>\n",
       "      <th>0</th>\n",
       "      <td>76561197970982479</td>\n",
       "      <td>http://steamcommunity.com/profiles/76561197970...</td>\n",
       "      <td>1</td>\n",
       "      <td></td>\n",
       "      <td></td>\n",
       "      <td>1250</td>\n",
       "      <td></td>\n",
       "      <td>True</td>\n",
       "      <td>Simple yet with great replayability. In my opi...</td>\n",
       "      <td>2011-11-05</td>\n",
       "    </tr>\n",
       "    <tr>\n",
       "      <th>1</th>\n",
       "      <td>76561197970982479</td>\n",
       "      <td>http://steamcommunity.com/profiles/76561197970...</td>\n",
       "      <td>1</td>\n",
       "      <td></td>\n",
       "      <td></td>\n",
       "      <td>22200</td>\n",
       "      <td></td>\n",
       "      <td>True</td>\n",
       "      <td>It's unique and worth a playthrough.</td>\n",
       "      <td>2011-07-15</td>\n",
       "    </tr>\n",
       "    <tr>\n",
       "      <th>2</th>\n",
       "      <td>76561197970982479</td>\n",
       "      <td>http://steamcommunity.com/profiles/76561197970...</td>\n",
       "      <td>1</td>\n",
       "      <td></td>\n",
       "      <td></td>\n",
       "      <td>43110</td>\n",
       "      <td></td>\n",
       "      <td>True</td>\n",
       "      <td>Great atmosphere. The gunplay can be a bit chu...</td>\n",
       "      <td>2011-04-21</td>\n",
       "    </tr>\n",
       "    <tr>\n",
       "      <th>3</th>\n",
       "      <td>js41637</td>\n",
       "      <td>http://steamcommunity.com/id/js41637</td>\n",
       "      <td>1</td>\n",
       "      <td></td>\n",
       "      <td></td>\n",
       "      <td>251610</td>\n",
       "      <td></td>\n",
       "      <td>True</td>\n",
       "      <td>I know what you think when you see this title ...</td>\n",
       "      <td>2014-06-24</td>\n",
       "    </tr>\n",
       "    <tr>\n",
       "      <th>4</th>\n",
       "      <td>js41637</td>\n",
       "      <td>http://steamcommunity.com/id/js41637</td>\n",
       "      <td>1</td>\n",
       "      <td></td>\n",
       "      <td></td>\n",
       "      <td>227300</td>\n",
       "      <td></td>\n",
       "      <td>True</td>\n",
       "      <td>For a simple (it's actually not all that simpl...</td>\n",
       "      <td>2013-09-08</td>\n",
       "    </tr>\n",
       "  </tbody>\n",
       "</table>\n",
       "</div>"
      ],
      "text/plain": [
       "             user_id                                           user_url  \\\n",
       "0  76561197970982479  http://steamcommunity.com/profiles/76561197970...   \n",
       "1  76561197970982479  http://steamcommunity.com/profiles/76561197970...   \n",
       "2  76561197970982479  http://steamcommunity.com/profiles/76561197970...   \n",
       "3            js41637               http://steamcommunity.com/id/js41637   \n",
       "4            js41637               http://steamcommunity.com/id/js41637   \n",
       "\n",
       "   sentiment_analysis funny last_edited item_id helpful  recommend  \\\n",
       "0                   1                      1250               True   \n",
       "1                   1                     22200               True   \n",
       "2                   1                     43110               True   \n",
       "3                   1                    251610               True   \n",
       "4                   1                    227300               True   \n",
       "\n",
       "                                              review posted_date  \n",
       "0  Simple yet with great replayability. In my opi...  2011-11-05  \n",
       "1               It's unique and worth a playthrough.  2011-07-15  \n",
       "2  Great atmosphere. The gunplay can be a bit chu...  2011-04-21  \n",
       "3  I know what you think when you see this title ...  2014-06-24  \n",
       "4  For a simple (it's actually not all that simpl...  2013-09-08  "
      ]
     },
     "execution_count": 33,
     "metadata": {},
     "output_type": "execute_result"
    }
   ],
   "source": [
    "# Abrimos el DataFrame para verificar los registros y columnas\n",
    "df_desanidada.head()"
   ]
  },
  {
   "cell_type": "code",
   "execution_count": 34,
   "id": "41c274b5",
   "metadata": {},
   "outputs": [
    {
     "name": "stdout",
     "output_type": "stream",
     "text": [
      "<class 'pandas.core.frame.DataFrame'>\n",
      "RangeIndex: 59305 entries, 0 to 59304\n",
      "Data columns (total 10 columns):\n",
      " #   Column              Non-Null Count  Dtype         \n",
      "---  ------              --------------  -----         \n",
      " 0   user_id             59305 non-null  object        \n",
      " 1   user_url            59305 non-null  object        \n",
      " 2   sentiment_analysis  59305 non-null  int64         \n",
      " 3   funny               59305 non-null  object        \n",
      " 4   last_edited         59305 non-null  object        \n",
      " 5   item_id             59305 non-null  object        \n",
      " 6   helpful             59305 non-null  object        \n",
      " 7   recommend           59305 non-null  bool          \n",
      " 8   review              59305 non-null  object        \n",
      " 9   posted_date         59280 non-null  datetime64[ns]\n",
      "dtypes: bool(1), datetime64[ns](1), int64(1), object(7)\n",
      "memory usage: 4.1+ MB\n"
     ]
    }
   ],
   "source": [
    "# Verificamos las columnas y registros, antes de eliminar las columnas que no vamos a necesitar.\n",
    "# Contamos con 59305 registros y 10 columnas\n",
    "df_desanidada.info()"
   ]
  },
  {
   "cell_type": "code",
   "execution_count": 35,
   "id": "2ef4dd23",
   "metadata": {},
   "outputs": [],
   "source": [
    "# Eliminamos las siguientes columnas, no necesitadas: 'funny','last_edited' y 'helpful'\n",
    "cols = ['funny','last_edited','helpful']\n",
    "df_desanidada = df_desanidada.drop(cols,axis=1)"
   ]
  },
  {
   "cell_type": "code",
   "execution_count": 36,
   "id": "01ecc34e",
   "metadata": {
    "scrolled": true
   },
   "outputs": [
    {
     "name": "stdout",
     "output_type": "stream",
     "text": [
      "<class 'pandas.core.frame.DataFrame'>\n",
      "RangeIndex: 59305 entries, 0 to 59304\n",
      "Data columns (total 7 columns):\n",
      " #   Column              Non-Null Count  Dtype         \n",
      "---  ------              --------------  -----         \n",
      " 0   user_id             59305 non-null  object        \n",
      " 1   user_url            59305 non-null  object        \n",
      " 2   sentiment_analysis  59305 non-null  int64         \n",
      " 3   item_id             59305 non-null  object        \n",
      " 4   recommend           59305 non-null  bool          \n",
      " 5   review              59305 non-null  object        \n",
      " 6   posted_date         59280 non-null  datetime64[ns]\n",
      "dtypes: bool(1), datetime64[ns](1), int64(1), object(4)\n",
      "memory usage: 2.8+ MB\n"
     ]
    }
   ],
   "source": [
    "# Verificamos, la eliminación de las columnas anteriores y la reducción de columnas.\n",
    "# Contamos ahora con los mismos 59305 registros y 7 columnas.\n",
    "df_desanidada.info()"
   ]
  },
  {
   "cell_type": "code",
   "execution_count": 37,
   "id": "13bbdf93",
   "metadata": {},
   "outputs": [],
   "source": [
    "# Creamos la columna 'year', extrayendola de la columna 'posted_date' a partir del metodo 'to_datetime' de la librería 'pandas'\n",
    "df_desanidada['year'] = pd.to_datetime(df_desanidada['posted_date'],errors='coerce').apply(lambda x:str(x).split('-')[0] if x != None else None)"
   ]
  },
  {
   "cell_type": "code",
   "execution_count": 38,
   "id": "138f3257",
   "metadata": {},
   "outputs": [
    {
     "data": {
      "text/html": [
       "<div>\n",
       "<style scoped>\n",
       "    .dataframe tbody tr th:only-of-type {\n",
       "        vertical-align: middle;\n",
       "    }\n",
       "\n",
       "    .dataframe tbody tr th {\n",
       "        vertical-align: top;\n",
       "    }\n",
       "\n",
       "    .dataframe thead th {\n",
       "        text-align: right;\n",
       "    }\n",
       "</style>\n",
       "<table border=\"1\" class=\"dataframe\">\n",
       "  <thead>\n",
       "    <tr style=\"text-align: right;\">\n",
       "      <th></th>\n",
       "      <th>user_id</th>\n",
       "      <th>user_url</th>\n",
       "      <th>sentiment_analysis</th>\n",
       "      <th>item_id</th>\n",
       "      <th>recommend</th>\n",
       "      <th>review</th>\n",
       "      <th>posted_date</th>\n",
       "      <th>year</th>\n",
       "    </tr>\n",
       "  </thead>\n",
       "  <tbody>\n",
       "    <tr>\n",
       "      <th>0</th>\n",
       "      <td>76561197970982479</td>\n",
       "      <td>http://steamcommunity.com/profiles/76561197970...</td>\n",
       "      <td>1</td>\n",
       "      <td>1250</td>\n",
       "      <td>True</td>\n",
       "      <td>Simple yet with great replayability. In my opi...</td>\n",
       "      <td>2011-11-05</td>\n",
       "      <td>2011</td>\n",
       "    </tr>\n",
       "    <tr>\n",
       "      <th>1</th>\n",
       "      <td>76561197970982479</td>\n",
       "      <td>http://steamcommunity.com/profiles/76561197970...</td>\n",
       "      <td>1</td>\n",
       "      <td>22200</td>\n",
       "      <td>True</td>\n",
       "      <td>It's unique and worth a playthrough.</td>\n",
       "      <td>2011-07-15</td>\n",
       "      <td>2011</td>\n",
       "    </tr>\n",
       "  </tbody>\n",
       "</table>\n",
       "</div>"
      ],
      "text/plain": [
       "             user_id                                           user_url  \\\n",
       "0  76561197970982479  http://steamcommunity.com/profiles/76561197970...   \n",
       "1  76561197970982479  http://steamcommunity.com/profiles/76561197970...   \n",
       "\n",
       "   sentiment_analysis item_id  recommend  \\\n",
       "0                   1    1250       True   \n",
       "1                   1   22200       True   \n",
       "\n",
       "                                              review posted_date  year  \n",
       "0  Simple yet with great replayability. In my opi...  2011-11-05  2011  \n",
       "1               It's unique and worth a playthrough.  2011-07-15  2011  "
      ]
     },
     "execution_count": 38,
     "metadata": {},
     "output_type": "execute_result"
    }
   ],
   "source": [
    "# Abrimos el archivo, para ver el resultado\n",
    "df_desanidada.head(2)"
   ]
  },
  {
   "cell_type": "code",
   "execution_count": 39,
   "id": "037e8042",
   "metadata": {},
   "outputs": [
    {
     "name": "stdout",
     "output_type": "stream",
     "text": [
      "<class 'pandas.core.frame.DataFrame'>\n",
      "RangeIndex: 59305 entries, 0 to 59304\n",
      "Data columns (total 8 columns):\n",
      " #   Column              Non-Null Count  Dtype         \n",
      "---  ------              --------------  -----         \n",
      " 0   user_id             59305 non-null  object        \n",
      " 1   user_url            59305 non-null  object        \n",
      " 2   sentiment_analysis  59305 non-null  int64         \n",
      " 3   item_id             59305 non-null  object        \n",
      " 4   recommend           59305 non-null  bool          \n",
      " 5   review              59305 non-null  object        \n",
      " 6   posted_date         59280 non-null  datetime64[ns]\n",
      " 7   year                59305 non-null  object        \n",
      "dtypes: bool(1), datetime64[ns](1), int64(1), object(5)\n",
      "memory usage: 3.2+ MB\n"
     ]
    }
   ],
   "source": [
    "# Verificamos tipo de dato de la columna 'year'\n",
    "df_desanidada.info()"
   ]
  },
  {
   "cell_type": "code",
   "execution_count": 40,
   "id": "2ae0ad5d",
   "metadata": {},
   "outputs": [],
   "source": [
    "# Convertimos a número los tipos de registro de la columna 'year'\n",
    "df_desanidada['year'] = pd.to_numeric(df_desanidada['year'],errors='coerce')"
   ]
  },
  {
   "cell_type": "code",
   "execution_count": 41,
   "id": "ff0f805f",
   "metadata": {},
   "outputs": [
    {
     "data": {
      "text/plain": [
       "29806    2010.0\n",
       "15693    2010.0\n",
       "24664    2010.0\n",
       "5358     2010.0\n",
       "45134    2010.0\n",
       "          ...  \n",
       "49410       NaN\n",
       "49411       NaN\n",
       "52326       NaN\n",
       "56697       NaN\n",
       "57240       NaN\n",
       "Name: year, Length: 59305, dtype: float64"
      ]
     },
     "execution_count": 41,
     "metadata": {},
     "output_type": "execute_result"
    }
   ],
   "source": [
    "# Verificamos los datos de la columna 'year'\n",
    "df_desanidada['year'].sort_values()"
   ]
  },
  {
   "cell_type": "code",
   "execution_count": 42,
   "id": "d4418d04",
   "metadata": {},
   "outputs": [],
   "source": [
    "# Encontramos valores nulos en la columna 'year' y los eliminamos\n",
    "df_desanidada = df_desanidada.dropna(subset=['year'])"
   ]
  },
  {
   "cell_type": "code",
   "execution_count": 43,
   "id": "d01bf152",
   "metadata": {},
   "outputs": [
    {
     "name": "stdout",
     "output_type": "stream",
     "text": [
      "<class 'pandas.core.frame.DataFrame'>\n",
      "Int64Index: 59280 entries, 0 to 59304\n",
      "Data columns (total 8 columns):\n",
      " #   Column              Non-Null Count  Dtype         \n",
      "---  ------              --------------  -----         \n",
      " 0   user_id             59280 non-null  object        \n",
      " 1   user_url            59280 non-null  object        \n",
      " 2   sentiment_analysis  59280 non-null  int64         \n",
      " 3   item_id             59280 non-null  object        \n",
      " 4   recommend           59280 non-null  bool          \n",
      " 5   review              59280 non-null  object        \n",
      " 6   posted_date         59280 non-null  datetime64[ns]\n",
      " 7   year                59280 non-null  float64       \n",
      "dtypes: bool(1), datetime64[ns](1), float64(1), int64(1), object(4)\n",
      "memory usage: 3.7+ MB\n"
     ]
    }
   ],
   "source": [
    "# Checamos el tipo de dato de la columna 'year'\n",
    "df_desanidada.info()"
   ]
  },
  {
   "cell_type": "code",
   "execution_count": 44,
   "id": "f548befd",
   "metadata": {},
   "outputs": [],
   "source": [
    "# Como vemos que el tipo de dato de la columna 'year' es 'float', lo convertimos a 'integer'\n",
    "df_desanidada['year'] = df_desanidada['year'].astype(int)"
   ]
  },
  {
   "cell_type": "code",
   "execution_count": 45,
   "id": "5668429d",
   "metadata": {},
   "outputs": [
    {
     "name": "stdout",
     "output_type": "stream",
     "text": [
      "<class 'pandas.core.frame.DataFrame'>\n",
      "Int64Index: 59280 entries, 0 to 59304\n",
      "Data columns (total 8 columns):\n",
      " #   Column              Non-Null Count  Dtype         \n",
      "---  ------              --------------  -----         \n",
      " 0   user_id             59280 non-null  object        \n",
      " 1   user_url            59280 non-null  object        \n",
      " 2   sentiment_analysis  59280 non-null  int64         \n",
      " 3   item_id             59280 non-null  object        \n",
      " 4   recommend           59280 non-null  bool          \n",
      " 5   review              59280 non-null  object        \n",
      " 6   posted_date         59280 non-null  datetime64[ns]\n",
      " 7   year                59280 non-null  int32         \n",
      "dtypes: bool(1), datetime64[ns](1), int32(1), int64(1), object(4)\n",
      "memory usage: 3.4+ MB\n"
     ]
    }
   ],
   "source": [
    "# Verificamos su correcta conversión \n",
    "df_desanidada.info()"
   ]
  },
  {
   "cell_type": "code",
   "execution_count": 46,
   "id": "74f7e40e",
   "metadata": {},
   "outputs": [],
   "source": [
    "# Aplicamos el método drop_duplicates() para reducir un poco la cantidad de registros.\n",
    "df = df_desanidada.drop_duplicates()"
   ]
  },
  {
   "cell_type": "code",
   "execution_count": 47,
   "id": "9aabd923",
   "metadata": {},
   "outputs": [],
   "source": [
    "# Salvamos el archivo como 'df_reviews.csv'\n",
    "#df.to_csv('df_reviews.csv',index=False)"
   ]
  },
  {
   "cell_type": "markdown",
   "id": "ebf05d2f",
   "metadata": {},
   "source": [
    "### Abriendo el archivo:*`australian_users_items.json`*"
   ]
  },
  {
   "cell_type": "code",
   "execution_count": 48,
   "id": "3c465dce",
   "metadata": {
    "scrolled": true
   },
   "outputs": [],
   "source": [
    "# Una vez extraido el archivo.json: `australian_users_items.json`, procedemos a abrirlo con `open` y \n",
    "# partiendo de una lista vacia con el metodo `append` vamos completando nuestro archivo `evaluando cada linea` \n",
    "# cada line del archivo.json con ayuda de la libreria `ast`. Mientras el archivo.json, se apoya en el parámetro:\n",
    "# encoding='utf-8' para ser leído y abierto correctamente.\n",
    "lista = []\n",
    "with open(\"../data/australian_users_items.json\",encoding='utf-8') as f:\n",
    "    for line in f.readlines():\n",
    "        lista.append(ast.literal_eval(line))\n",
    "\n",
    "#lista"
   ]
  },
  {
   "cell_type": "markdown",
   "id": "bb536de2",
   "metadata": {},
   "source": [
    "#### Una vez abierto el archivo `australian_users_items.json`:\n",
    "* `Revisamos si hay columnas a desanidar para tomar los datos`.\n",
    "* `Se corre nuevamente, sin abrir la lista`.\n",
    "* `Enseguida, se transforma la lista en DataFrame`"
   ]
  },
  {
   "cell_type": "code",
   "execution_count": 49,
   "id": "ac82db04",
   "metadata": {},
   "outputs": [
    {
     "data": {
      "text/html": [
       "<div>\n",
       "<style scoped>\n",
       "    .dataframe tbody tr th:only-of-type {\n",
       "        vertical-align: middle;\n",
       "    }\n",
       "\n",
       "    .dataframe tbody tr th {\n",
       "        vertical-align: top;\n",
       "    }\n",
       "\n",
       "    .dataframe thead th {\n",
       "        text-align: right;\n",
       "    }\n",
       "</style>\n",
       "<table border=\"1\" class=\"dataframe\">\n",
       "  <thead>\n",
       "    <tr style=\"text-align: right;\">\n",
       "      <th></th>\n",
       "      <th>user_id</th>\n",
       "      <th>items_count</th>\n",
       "      <th>steam_id</th>\n",
       "      <th>user_url</th>\n",
       "      <th>items</th>\n",
       "    </tr>\n",
       "  </thead>\n",
       "  <tbody>\n",
       "    <tr>\n",
       "      <th>0</th>\n",
       "      <td>76561197970982479</td>\n",
       "      <td>277</td>\n",
       "      <td>76561197970982479</td>\n",
       "      <td>http://steamcommunity.com/profiles/76561197970...</td>\n",
       "      <td>[{'item_id': '10', 'item_name': 'Counter-Strik...</td>\n",
       "    </tr>\n",
       "    <tr>\n",
       "      <th>1</th>\n",
       "      <td>js41637</td>\n",
       "      <td>888</td>\n",
       "      <td>76561198035864385</td>\n",
       "      <td>http://steamcommunity.com/id/js41637</td>\n",
       "      <td>[{'item_id': '10', 'item_name': 'Counter-Strik...</td>\n",
       "    </tr>\n",
       "    <tr>\n",
       "      <th>2</th>\n",
       "      <td>evcentric</td>\n",
       "      <td>137</td>\n",
       "      <td>76561198007712555</td>\n",
       "      <td>http://steamcommunity.com/id/evcentric</td>\n",
       "      <td>[{'item_id': '1200', 'item_name': 'Red Orchest...</td>\n",
       "    </tr>\n",
       "    <tr>\n",
       "      <th>3</th>\n",
       "      <td>Riot-Punch</td>\n",
       "      <td>328</td>\n",
       "      <td>76561197963445855</td>\n",
       "      <td>http://steamcommunity.com/id/Riot-Punch</td>\n",
       "      <td>[{'item_id': '10', 'item_name': 'Counter-Strik...</td>\n",
       "    </tr>\n",
       "    <tr>\n",
       "      <th>4</th>\n",
       "      <td>doctr</td>\n",
       "      <td>541</td>\n",
       "      <td>76561198002099482</td>\n",
       "      <td>http://steamcommunity.com/id/doctr</td>\n",
       "      <td>[{'item_id': '300', 'item_name': 'Day of Defea...</td>\n",
       "    </tr>\n",
       "  </tbody>\n",
       "</table>\n",
       "</div>"
      ],
      "text/plain": [
       "             user_id  items_count           steam_id  \\\n",
       "0  76561197970982479          277  76561197970982479   \n",
       "1            js41637          888  76561198035864385   \n",
       "2          evcentric          137  76561198007712555   \n",
       "3         Riot-Punch          328  76561197963445855   \n",
       "4              doctr          541  76561198002099482   \n",
       "\n",
       "                                            user_url  \\\n",
       "0  http://steamcommunity.com/profiles/76561197970...   \n",
       "1               http://steamcommunity.com/id/js41637   \n",
       "2             http://steamcommunity.com/id/evcentric   \n",
       "3            http://steamcommunity.com/id/Riot-Punch   \n",
       "4                 http://steamcommunity.com/id/doctr   \n",
       "\n",
       "                                               items  \n",
       "0  [{'item_id': '10', 'item_name': 'Counter-Strik...  \n",
       "1  [{'item_id': '10', 'item_name': 'Counter-Strik...  \n",
       "2  [{'item_id': '1200', 'item_name': 'Red Orchest...  \n",
       "3  [{'item_id': '10', 'item_name': 'Counter-Strik...  \n",
       "4  [{'item_id': '300', 'item_name': 'Day of Defea...  "
      ]
     },
     "execution_count": 49,
     "metadata": {},
     "output_type": "execute_result"
    }
   ],
   "source": [
    "# Se abre el DataFrame y observamos que la columna 'items', se encuentra anidada.\n",
    "df_items = pd.DataFrame(lista)\n",
    "df_items.head()"
   ]
  },
  {
   "cell_type": "code",
   "execution_count": 50,
   "id": "e2a2258e",
   "metadata": {},
   "outputs": [],
   "source": [
    "# Creamos una lista vacia para alojar nuestros datos desanidados\n",
    "lista_desanidada = []\n",
    "#`iterrows`, se usa para iterar atravez de las filas de nuestro archivo\n",
    "for index,row in df_items.iterrows():\n",
    "    user_id = row['user_id']\n",
    "    items_count = row['items_count']\n",
    "    steam_id = row['steam_id']\n",
    "    user_url = row['user_url']\n",
    "# A la lista_desanidada, le anexamos el siguiente diccionario    \n",
    "    for i in row['items']:\n",
    "        dicc_row = {\n",
    "            'user_id': user_id,\n",
    "            'items_count': items_count,\n",
    "            'steam_id':steam_id,\n",
    "            'user_url': user_url,\n",
    "            'item_id': i['item_id'],\n",
    "            'item_name': i['item_name'],\n",
    "            'playtime_forever': i['playtime_forever'],\n",
    "            'playime_2weeks': i['playtime_2weeks']\n",
    "        }\n",
    "        lista_desanidada.append(dicc_row)"
   ]
  },
  {
   "cell_type": "markdown",
   "id": "51562128",
   "metadata": {},
   "source": [
    "#### Desanidamos la columna: *`items`* para aplicarla al archivo: *`australian_users_items.json`*"
   ]
  },
  {
   "cell_type": "markdown",
   "id": "f00fbcfa",
   "metadata": {},
   "source": [
    "#### Una vez hecho el procedimiento anterior, transformamos a DataFrame la `lista_desanidada`"
   ]
  },
  {
   "cell_type": "code",
   "execution_count": 51,
   "id": "f70b3bc2",
   "metadata": {
    "scrolled": true
   },
   "outputs": [
    {
     "data": {
      "text/html": [
       "<div>\n",
       "<style scoped>\n",
       "    .dataframe tbody tr th:only-of-type {\n",
       "        vertical-align: middle;\n",
       "    }\n",
       "\n",
       "    .dataframe tbody tr th {\n",
       "        vertical-align: top;\n",
       "    }\n",
       "\n",
       "    .dataframe thead th {\n",
       "        text-align: right;\n",
       "    }\n",
       "</style>\n",
       "<table border=\"1\" class=\"dataframe\">\n",
       "  <thead>\n",
       "    <tr style=\"text-align: right;\">\n",
       "      <th></th>\n",
       "      <th>user_id</th>\n",
       "      <th>items_count</th>\n",
       "      <th>steam_id</th>\n",
       "      <th>user_url</th>\n",
       "      <th>item_id</th>\n",
       "      <th>item_name</th>\n",
       "      <th>playtime_forever</th>\n",
       "      <th>playime_2weeks</th>\n",
       "    </tr>\n",
       "  </thead>\n",
       "  <tbody>\n",
       "    <tr>\n",
       "      <th>0</th>\n",
       "      <td>76561197970982479</td>\n",
       "      <td>277</td>\n",
       "      <td>76561197970982479</td>\n",
       "      <td>http://steamcommunity.com/profiles/76561197970...</td>\n",
       "      <td>10</td>\n",
       "      <td>Counter-Strike</td>\n",
       "      <td>6</td>\n",
       "      <td>0</td>\n",
       "    </tr>\n",
       "    <tr>\n",
       "      <th>1</th>\n",
       "      <td>76561197970982479</td>\n",
       "      <td>277</td>\n",
       "      <td>76561197970982479</td>\n",
       "      <td>http://steamcommunity.com/profiles/76561197970...</td>\n",
       "      <td>20</td>\n",
       "      <td>Team Fortress Classic</td>\n",
       "      <td>0</td>\n",
       "      <td>0</td>\n",
       "    </tr>\n",
       "    <tr>\n",
       "      <th>2</th>\n",
       "      <td>76561197970982479</td>\n",
       "      <td>277</td>\n",
       "      <td>76561197970982479</td>\n",
       "      <td>http://steamcommunity.com/profiles/76561197970...</td>\n",
       "      <td>30</td>\n",
       "      <td>Day of Defeat</td>\n",
       "      <td>7</td>\n",
       "      <td>0</td>\n",
       "    </tr>\n",
       "    <tr>\n",
       "      <th>3</th>\n",
       "      <td>76561197970982479</td>\n",
       "      <td>277</td>\n",
       "      <td>76561197970982479</td>\n",
       "      <td>http://steamcommunity.com/profiles/76561197970...</td>\n",
       "      <td>40</td>\n",
       "      <td>Deathmatch Classic</td>\n",
       "      <td>0</td>\n",
       "      <td>0</td>\n",
       "    </tr>\n",
       "    <tr>\n",
       "      <th>4</th>\n",
       "      <td>76561197970982479</td>\n",
       "      <td>277</td>\n",
       "      <td>76561197970982479</td>\n",
       "      <td>http://steamcommunity.com/profiles/76561197970...</td>\n",
       "      <td>50</td>\n",
       "      <td>Half-Life: Opposing Force</td>\n",
       "      <td>0</td>\n",
       "      <td>0</td>\n",
       "    </tr>\n",
       "  </tbody>\n",
       "</table>\n",
       "</div>"
      ],
      "text/plain": [
       "             user_id  items_count           steam_id  \\\n",
       "0  76561197970982479          277  76561197970982479   \n",
       "1  76561197970982479          277  76561197970982479   \n",
       "2  76561197970982479          277  76561197970982479   \n",
       "3  76561197970982479          277  76561197970982479   \n",
       "4  76561197970982479          277  76561197970982479   \n",
       "\n",
       "                                            user_url item_id  \\\n",
       "0  http://steamcommunity.com/profiles/76561197970...      10   \n",
       "1  http://steamcommunity.com/profiles/76561197970...      20   \n",
       "2  http://steamcommunity.com/profiles/76561197970...      30   \n",
       "3  http://steamcommunity.com/profiles/76561197970...      40   \n",
       "4  http://steamcommunity.com/profiles/76561197970...      50   \n",
       "\n",
       "                   item_name  playtime_forever  playime_2weeks  \n",
       "0             Counter-Strike                 6               0  \n",
       "1      Team Fortress Classic                 0               0  \n",
       "2              Day of Defeat                 7               0  \n",
       "3         Deathmatch Classic                 0               0  \n",
       "4  Half-Life: Opposing Force                 0               0  "
      ]
     },
     "execution_count": 51,
     "metadata": {},
     "output_type": "execute_result"
    }
   ],
   "source": [
    "# Abrimos el DataFrame para ver el resultado del desanide de la columna 'items'\n",
    "df_items_des = pd.DataFrame(lista_desanidada)\n",
    "df_items_des.head()"
   ]
  },
  {
   "cell_type": "code",
   "execution_count": 52,
   "id": "a77c6faa",
   "metadata": {},
   "outputs": [],
   "source": [
    "# Eliminamos los valores duplicados\n",
    "df_items = df_items_des.drop_duplicates()"
   ]
  },
  {
   "cell_type": "code",
   "execution_count": 53,
   "id": "7357075c",
   "metadata": {
    "scrolled": true
   },
   "outputs": [
    {
     "data": {
      "text/plain": [
       "(5094105, 8)"
      ]
     },
     "execution_count": 53,
     "metadata": {},
     "output_type": "execute_result"
    }
   ],
   "source": [
    "# Los registros se reducen ligeramente\n",
    "df_items.shape"
   ]
  },
  {
   "cell_type": "code",
   "execution_count": 54,
   "id": "bcdb0126",
   "metadata": {},
   "outputs": [
    {
     "data": {
      "text/plain": [
       "Index(['user_id', 'items_count', 'steam_id', 'user_url', 'item_id',\n",
       "       'item_name', 'playtime_forever', 'playime_2weeks'],\n",
       "      dtype='object')"
      ]
     },
     "execution_count": 54,
     "metadata": {},
     "output_type": "execute_result"
    }
   ],
   "source": [
    "# Vemos las columnas\n",
    "df_items.columns"
   ]
  },
  {
   "cell_type": "code",
   "execution_count": 55,
   "id": "bea3f5da",
   "metadata": {},
   "outputs": [
    {
     "name": "stdout",
     "output_type": "stream",
     "text": [
      "<class 'pandas.core.frame.DataFrame'>\n",
      "Int64Index: 5094105 entries, 0 to 5153208\n",
      "Data columns (total 8 columns):\n",
      " #   Column            Dtype \n",
      "---  ------            ----- \n",
      " 0   user_id           object\n",
      " 1   items_count       int64 \n",
      " 2   steam_id          object\n",
      " 3   user_url          object\n",
      " 4   item_id           object\n",
      " 5   item_name         object\n",
      " 6   playtime_forever  int64 \n",
      " 7   playime_2weeks    int64 \n",
      "dtypes: int64(3), object(5)\n",
      "memory usage: 349.8+ MB\n"
     ]
    }
   ],
   "source": [
    "# Vemos la cantidad de registros, columnas y tipo de data\n",
    "df_items.info()"
   ]
  },
  {
   "cell_type": "code",
   "execution_count": 58,
   "id": "a3ca948c",
   "metadata": {},
   "outputs": [],
   "source": [
    "# Voy a eliminar columnas en este dataset, que creo no voy a utilizar: 'steam_id' y 'play,e_2weeks'\n",
    "cols = ['steam_id', 'playime_2weeks']\n",
    "df_items = df_items.drop(cols,axis=1)"
   ]
  },
  {
   "cell_type": "code",
   "execution_count": 61,
   "id": "a06e4408",
   "metadata": {},
   "outputs": [
    {
     "data": {
      "text/html": [
       "<div>\n",
       "<style scoped>\n",
       "    .dataframe tbody tr th:only-of-type {\n",
       "        vertical-align: middle;\n",
       "    }\n",
       "\n",
       "    .dataframe tbody tr th {\n",
       "        vertical-align: top;\n",
       "    }\n",
       "\n",
       "    .dataframe thead th {\n",
       "        text-align: right;\n",
       "    }\n",
       "</style>\n",
       "<table border=\"1\" class=\"dataframe\">\n",
       "  <thead>\n",
       "    <tr style=\"text-align: right;\">\n",
       "      <th></th>\n",
       "      <th>user_id</th>\n",
       "      <th>items_count</th>\n",
       "      <th>user_url</th>\n",
       "      <th>item_id</th>\n",
       "      <th>item_name</th>\n",
       "      <th>playtime_forever</th>\n",
       "    </tr>\n",
       "  </thead>\n",
       "  <tbody>\n",
       "    <tr>\n",
       "      <th>0</th>\n",
       "      <td>76561197970982479</td>\n",
       "      <td>277</td>\n",
       "      <td>http://steamcommunity.com/profiles/76561197970...</td>\n",
       "      <td>10</td>\n",
       "      <td>Counter-Strike</td>\n",
       "      <td>6</td>\n",
       "    </tr>\n",
       "    <tr>\n",
       "      <th>1</th>\n",
       "      <td>76561197970982479</td>\n",
       "      <td>277</td>\n",
       "      <td>http://steamcommunity.com/profiles/76561197970...</td>\n",
       "      <td>20</td>\n",
       "      <td>Team Fortress Classic</td>\n",
       "      <td>0</td>\n",
       "    </tr>\n",
       "    <tr>\n",
       "      <th>2</th>\n",
       "      <td>76561197970982479</td>\n",
       "      <td>277</td>\n",
       "      <td>http://steamcommunity.com/profiles/76561197970...</td>\n",
       "      <td>30</td>\n",
       "      <td>Day of Defeat</td>\n",
       "      <td>7</td>\n",
       "    </tr>\n",
       "    <tr>\n",
       "      <th>3</th>\n",
       "      <td>76561197970982479</td>\n",
       "      <td>277</td>\n",
       "      <td>http://steamcommunity.com/profiles/76561197970...</td>\n",
       "      <td>40</td>\n",
       "      <td>Deathmatch Classic</td>\n",
       "      <td>0</td>\n",
       "    </tr>\n",
       "    <tr>\n",
       "      <th>4</th>\n",
       "      <td>76561197970982479</td>\n",
       "      <td>277</td>\n",
       "      <td>http://steamcommunity.com/profiles/76561197970...</td>\n",
       "      <td>50</td>\n",
       "      <td>Half-Life: Opposing Force</td>\n",
       "      <td>0</td>\n",
       "    </tr>\n",
       "    <tr>\n",
       "      <th>...</th>\n",
       "      <td>...</td>\n",
       "      <td>...</td>\n",
       "      <td>...</td>\n",
       "      <td>...</td>\n",
       "      <td>...</td>\n",
       "      <td>...</td>\n",
       "    </tr>\n",
       "    <tr>\n",
       "      <th>99995</th>\n",
       "      <td>chidvd</td>\n",
       "      <td>6410</td>\n",
       "      <td>http://steamcommunity.com/id/chidvd</td>\n",
       "      <td>217270</td>\n",
       "      <td>Karateka</td>\n",
       "      <td>0</td>\n",
       "    </tr>\n",
       "    <tr>\n",
       "      <th>99996</th>\n",
       "      <td>chidvd</td>\n",
       "      <td>6410</td>\n",
       "      <td>http://steamcommunity.com/id/chidvd</td>\n",
       "      <td>3230</td>\n",
       "      <td>Genesis Rising</td>\n",
       "      <td>0</td>\n",
       "    </tr>\n",
       "    <tr>\n",
       "      <th>99997</th>\n",
       "      <td>chidvd</td>\n",
       "      <td>6410</td>\n",
       "      <td>http://steamcommunity.com/id/chidvd</td>\n",
       "      <td>39630</td>\n",
       "      <td>AquaNox</td>\n",
       "      <td>0</td>\n",
       "    </tr>\n",
       "    <tr>\n",
       "      <th>99998</th>\n",
       "      <td>chidvd</td>\n",
       "      <td>6410</td>\n",
       "      <td>http://steamcommunity.com/id/chidvd</td>\n",
       "      <td>39640</td>\n",
       "      <td>AquaNox 2: Revelation</td>\n",
       "      <td>0</td>\n",
       "    </tr>\n",
       "    <tr>\n",
       "      <th>99999</th>\n",
       "      <td>chidvd</td>\n",
       "      <td>6410</td>\n",
       "      <td>http://steamcommunity.com/id/chidvd</td>\n",
       "      <td>65500</td>\n",
       "      <td>Aura: Fate of the Ages</td>\n",
       "      <td>0</td>\n",
       "    </tr>\n",
       "  </tbody>\n",
       "</table>\n",
       "<p>100000 rows × 6 columns</p>\n",
       "</div>"
      ],
      "text/plain": [
       "                 user_id  items_count  \\\n",
       "0      76561197970982479          277   \n",
       "1      76561197970982479          277   \n",
       "2      76561197970982479          277   \n",
       "3      76561197970982479          277   \n",
       "4      76561197970982479          277   \n",
       "...                  ...          ...   \n",
       "99995             chidvd         6410   \n",
       "99996             chidvd         6410   \n",
       "99997             chidvd         6410   \n",
       "99998             chidvd         6410   \n",
       "99999             chidvd         6410   \n",
       "\n",
       "                                                user_url item_id  \\\n",
       "0      http://steamcommunity.com/profiles/76561197970...      10   \n",
       "1      http://steamcommunity.com/profiles/76561197970...      20   \n",
       "2      http://steamcommunity.com/profiles/76561197970...      30   \n",
       "3      http://steamcommunity.com/profiles/76561197970...      40   \n",
       "4      http://steamcommunity.com/profiles/76561197970...      50   \n",
       "...                                                  ...     ...   \n",
       "99995                http://steamcommunity.com/id/chidvd  217270   \n",
       "99996                http://steamcommunity.com/id/chidvd    3230   \n",
       "99997                http://steamcommunity.com/id/chidvd   39630   \n",
       "99998                http://steamcommunity.com/id/chidvd   39640   \n",
       "99999                http://steamcommunity.com/id/chidvd   65500   \n",
       "\n",
       "                       item_name  playtime_forever  \n",
       "0                 Counter-Strike                 6  \n",
       "1          Team Fortress Classic                 0  \n",
       "2                  Day of Defeat                 7  \n",
       "3             Deathmatch Classic                 0  \n",
       "4      Half-Life: Opposing Force                 0  \n",
       "...                          ...               ...  \n",
       "99995                  Karateka                  0  \n",
       "99996             Genesis Rising                 0  \n",
       "99997                    AquaNox                 0  \n",
       "99998      AquaNox 2: Revelation                 0  \n",
       "99999     Aura: Fate of the Ages                 0  \n",
       "\n",
       "[100000 rows x 6 columns]"
      ]
     },
     "execution_count": 61,
     "metadata": {},
     "output_type": "execute_result"
    }
   ],
   "source": [
    "# Tome 100000 registros para aligerar la carga de memoria\n",
    "df_items.head(100000)"
   ]
  },
  {
   "cell_type": "code",
   "execution_count": 62,
   "id": "a0a7c5e6",
   "metadata": {},
   "outputs": [],
   "source": [
    "# Salvamos el DataFrame como 'df_items.csv'\n",
    "#df_items.head(100000).to_csv('df_items.csv',index=False)"
   ]
  },
  {
   "cell_type": "markdown",
   "id": "ed52e32a",
   "metadata": {},
   "source": [
    "### **Salvados los respectivos datasets.csv**:\n",
    "* Los envie al folder `data` para aligerar el proyecto\n",
    "* Capturamos la actualización "
   ]
  },
  {
   "cell_type": "markdown",
   "id": "6f8bfbde",
   "metadata": {},
   "source": [
    "<p><img src=\"formas/data_mas.png\", width=\"700\"></p>"
   ]
  },
  {
   "cell_type": "markdown",
   "id": "6fa2cb13",
   "metadata": {},
   "source": [
    "<h6 align=right><i>Cohorte</i>:DataPT04</h6>\n",
    "<h6 align=right><i>Mexico - 2023</i></h6>\n",
    "<h6 align=left><i>Pag. 1</i></h6>"
   ]
  }
 ],
 "metadata": {
  "kernelspec": {
   "display_name": "Python 3 (ipykernel)",
   "language": "python",
   "name": "python3"
  },
  "language_info": {
   "codemirror_mode": {
    "name": "ipython",
    "version": 3
   },
   "file_extension": ".py",
   "mimetype": "text/x-python",
   "name": "python",
   "nbconvert_exporter": "python",
   "pygments_lexer": "ipython3",
   "version": "3.11.3"
  }
 },
 "nbformat": 4,
 "nbformat_minor": 5
}
