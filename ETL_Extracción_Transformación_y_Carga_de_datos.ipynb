{
 "cells": [
  {
   "cell_type": "markdown",
   "id": "a880da81",
   "metadata": {},
   "source": [
    "<h1 align=right><span style='font-family:Arial Black'>Henry</span></h1>\n",
    "<p><img src=\"formas/ETL.jpg\", width=\"300\"></p>"
   ]
  },
  {
   "cell_type": "markdown",
   "id": "8e80bddf",
   "metadata": {},
   "source": [
    "# ETL: *`Extracción, transformación y carga de datos`*"
   ]
  },
  {
   "cell_type": "markdown",
   "id": "9b2f3667",
   "metadata": {},
   "source": [
    "## *Para iniciar nuestro trabajo, ocuparemos los*:\n",
    "\n",
    "### 1. *`Archivos Originales gz`*:\n",
    "* `steam_games.json.gz`\n",
    "* `user_reviews.json.gz`\n",
    "* `users_items.json.gz`\n",
    "\n",
    "### 2. *`De los anteriores se obtuvieron los respectivos json en folder zip`*:\n",
    "* `steam_games.json`\n",
    "* `user_reviews.json`\n",
    "* `users_items.json`\n",
    "\n",
    "### 3. *`De los archivos zip se extraen los correspondientes json`*:\n",
    "* `output_steam_games.json`\n",
    "* `australian_user_reviews.json`\n",
    "* `australian_user_items.json`"
   ]
  },
  {
   "cell_type": "markdown",
   "id": "60f2fd10",
   "metadata": {},
   "source": [
    "### Obtenidos los archivos de trabajo, borré sus correspondientes folders para alojarlos en la carpeta `data`.\n",
    "* Mismos que quedaron en `Desktop` y a un lado del proyecto `PI_ML_OPS`.\n",
    "* Estos archivos no podrán ser vistos en `GitHub`, cuando suba el proyecto.\n",
    "* Los archivos aparecen junto con el `Diccionario de Datos STEAM`.\n",
    "* Capturamos la ubicación del folder `data` y su apertura para ver contenido."
   ]
  },
  {
   "cell_type": "markdown",
   "id": "07896223",
   "metadata": {},
   "source": [
    "<p><img src=\"formas/data.png\", width=\"500\"></p>\n",
    "<p><img src=\"formas/data_open.png\", width=\"700\"></p>"
   ]
  },
  {
   "cell_type": "code",
   "execution_count": 1,
   "id": "d937fe2f",
   "metadata": {},
   "outputs": [],
   "source": [
    "# Para iniciar el ETL, necesitamos importar las librerias necesarias para trabajar en la apertura de archivos json.\n",
    "import pandas as pd\n",
    "import ast"
   ]
  },
  {
   "cell_type": "markdown",
   "id": "3fdbd97a",
   "metadata": {},
   "source": [
    "### Empezando por abrir el archivo:*`steam_games.json`*\n",
    "* Este archivo no lo pude abrir sin `lines=True`.\n",
    "* Aunque este parametro no es nativo de Python.\n",
    "* Ello, puede abrir un archivo `JSON en Python` y \n",
    "* puede procesar cada `línea del archivo JSON`, \n",
    "* si el `archivo JSON está formateado` de tal manera\n",
    "* que cada línea sea un `objeto JSON independiente`. \n",
    "* Esto es comúnmente conocido como `JSON Line`"
   ]
  },
  {
   "cell_type": "code",
   "execution_count": 2,
   "id": "60aa474c",
   "metadata": {},
   "outputs": [],
   "source": [
    "df_games = pd.read_json('../data/output_steam_games.json',lines=True)"
   ]
  },
  {
   "cell_type": "code",
   "execution_count": 3,
   "id": "dc0f5faf",
   "metadata": {
    "scrolled": false
   },
   "outputs": [
    {
     "data": {
      "text/html": [
       "<div>\n",
       "<style scoped>\n",
       "    .dataframe tbody tr th:only-of-type {\n",
       "        vertical-align: middle;\n",
       "    }\n",
       "\n",
       "    .dataframe tbody tr th {\n",
       "        vertical-align: top;\n",
       "    }\n",
       "\n",
       "    .dataframe thead th {\n",
       "        text-align: right;\n",
       "    }\n",
       "</style>\n",
       "<table border=\"1\" class=\"dataframe\">\n",
       "  <thead>\n",
       "    <tr style=\"text-align: right;\">\n",
       "      <th></th>\n",
       "      <th>publisher</th>\n",
       "      <th>genres</th>\n",
       "      <th>app_name</th>\n",
       "      <th>title</th>\n",
       "      <th>url</th>\n",
       "      <th>release_date</th>\n",
       "      <th>tags</th>\n",
       "      <th>reviews_url</th>\n",
       "      <th>specs</th>\n",
       "      <th>price</th>\n",
       "      <th>early_access</th>\n",
       "      <th>id</th>\n",
       "      <th>developer</th>\n",
       "    </tr>\n",
       "  </thead>\n",
       "  <tbody>\n",
       "    <tr>\n",
       "      <th>0</th>\n",
       "      <td>None</td>\n",
       "      <td>None</td>\n",
       "      <td>None</td>\n",
       "      <td>None</td>\n",
       "      <td>None</td>\n",
       "      <td>None</td>\n",
       "      <td>None</td>\n",
       "      <td>None</td>\n",
       "      <td>None</td>\n",
       "      <td>None</td>\n",
       "      <td>NaN</td>\n",
       "      <td>NaN</td>\n",
       "      <td>None</td>\n",
       "    </tr>\n",
       "    <tr>\n",
       "      <th>1</th>\n",
       "      <td>None</td>\n",
       "      <td>None</td>\n",
       "      <td>None</td>\n",
       "      <td>None</td>\n",
       "      <td>None</td>\n",
       "      <td>None</td>\n",
       "      <td>None</td>\n",
       "      <td>None</td>\n",
       "      <td>None</td>\n",
       "      <td>None</td>\n",
       "      <td>NaN</td>\n",
       "      <td>NaN</td>\n",
       "      <td>None</td>\n",
       "    </tr>\n",
       "  </tbody>\n",
       "</table>\n",
       "</div>"
      ],
      "text/plain": [
       "  publisher genres app_name title   url release_date  tags reviews_url specs  \\\n",
       "0      None   None     None  None  None         None  None        None  None   \n",
       "1      None   None     None  None  None         None  None        None  None   \n",
       "\n",
       "  price  early_access  id developer  \n",
       "0  None           NaN NaN      None  \n",
       "1  None           NaN NaN      None  "
      ]
     },
     "execution_count": 3,
     "metadata": {},
     "output_type": "execute_result"
    }
   ],
   "source": [
    "df_games.head(2)"
   ]
  },
  {
   "cell_type": "code",
   "execution_count": 4,
   "id": "6fbe22e2",
   "metadata": {},
   "outputs": [
    {
     "data": {
      "text/html": [
       "<div>\n",
       "<style scoped>\n",
       "    .dataframe tbody tr th:only-of-type {\n",
       "        vertical-align: middle;\n",
       "    }\n",
       "\n",
       "    .dataframe tbody tr th {\n",
       "        vertical-align: top;\n",
       "    }\n",
       "\n",
       "    .dataframe thead th {\n",
       "        text-align: right;\n",
       "    }\n",
       "</style>\n",
       "<table border=\"1\" class=\"dataframe\">\n",
       "  <thead>\n",
       "    <tr style=\"text-align: right;\">\n",
       "      <th></th>\n",
       "      <th>publisher</th>\n",
       "      <th>genres</th>\n",
       "      <th>app_name</th>\n",
       "      <th>title</th>\n",
       "      <th>url</th>\n",
       "      <th>release_date</th>\n",
       "      <th>tags</th>\n",
       "      <th>reviews_url</th>\n",
       "      <th>specs</th>\n",
       "      <th>price</th>\n",
       "      <th>early_access</th>\n",
       "      <th>id</th>\n",
       "      <th>developer</th>\n",
       "    </tr>\n",
       "  </thead>\n",
       "  <tbody>\n",
       "    <tr>\n",
       "      <th>88310</th>\n",
       "      <td>Kotoshiro</td>\n",
       "      <td>[Action, Casual, Indie, Simulation, Strategy]</td>\n",
       "      <td>Lost Summoner Kitty</td>\n",
       "      <td>Lost Summoner Kitty</td>\n",
       "      <td>http://store.steampowered.com/app/761140/Lost_...</td>\n",
       "      <td>2018-01-04</td>\n",
       "      <td>[Strategy, Action, Indie, Casual, Simulation]</td>\n",
       "      <td>http://steamcommunity.com/app/761140/reviews/?...</td>\n",
       "      <td>[Single-player]</td>\n",
       "      <td>4.99</td>\n",
       "      <td>0.0</td>\n",
       "      <td>761140.0</td>\n",
       "      <td>Kotoshiro</td>\n",
       "    </tr>\n",
       "    <tr>\n",
       "      <th>88311</th>\n",
       "      <td>Making Fun, Inc.</td>\n",
       "      <td>[Free to Play, Indie, RPG, Strategy]</td>\n",
       "      <td>Ironbound</td>\n",
       "      <td>Ironbound</td>\n",
       "      <td>http://store.steampowered.com/app/643980/Ironb...</td>\n",
       "      <td>2018-01-04</td>\n",
       "      <td>[Free to Play, Strategy, Indie, RPG, Card Game...</td>\n",
       "      <td>http://steamcommunity.com/app/643980/reviews/?...</td>\n",
       "      <td>[Single-player, Multi-player, Online Multi-Pla...</td>\n",
       "      <td>Free To Play</td>\n",
       "      <td>0.0</td>\n",
       "      <td>643980.0</td>\n",
       "      <td>Secret Level SRL</td>\n",
       "    </tr>\n",
       "  </tbody>\n",
       "</table>\n",
       "</div>"
      ],
      "text/plain": [
       "              publisher                                         genres  \\\n",
       "88310         Kotoshiro  [Action, Casual, Indie, Simulation, Strategy]   \n",
       "88311  Making Fun, Inc.           [Free to Play, Indie, RPG, Strategy]   \n",
       "\n",
       "                  app_name                title  \\\n",
       "88310  Lost Summoner Kitty  Lost Summoner Kitty   \n",
       "88311            Ironbound            Ironbound   \n",
       "\n",
       "                                                     url release_date  \\\n",
       "88310  http://store.steampowered.com/app/761140/Lost_...   2018-01-04   \n",
       "88311  http://store.steampowered.com/app/643980/Ironb...   2018-01-04   \n",
       "\n",
       "                                                    tags  \\\n",
       "88310      [Strategy, Action, Indie, Casual, Simulation]   \n",
       "88311  [Free to Play, Strategy, Indie, RPG, Card Game...   \n",
       "\n",
       "                                             reviews_url  \\\n",
       "88310  http://steamcommunity.com/app/761140/reviews/?...   \n",
       "88311  http://steamcommunity.com/app/643980/reviews/?...   \n",
       "\n",
       "                                                   specs         price  \\\n",
       "88310                                    [Single-player]          4.99   \n",
       "88311  [Single-player, Multi-player, Online Multi-Pla...  Free To Play   \n",
       "\n",
       "       early_access        id         developer  \n",
       "88310           0.0  761140.0         Kotoshiro  \n",
       "88311           0.0  643980.0  Secret Level SRL  "
      ]
     },
     "execution_count": 4,
     "metadata": {},
     "output_type": "execute_result"
    }
   ],
   "source": [
    "# Eliminamos los valores nulos y revisamos el tipo de columnas, y vemos que\n",
    "# Las columnas: 'genres','tags' y 'specs' aparecen como lista cada uno de sus registros.\n",
    "df_games = df_games.dropna()\n",
    "df_games.head(2)"
   ]
  },
  {
   "cell_type": "code",
   "execution_count": 5,
   "id": "937f55f3",
   "metadata": {
    "scrolled": true
   },
   "outputs": [
    {
     "data": {
      "text/plain": [
       "Index(['publisher', 'genres', 'app_name', 'title', 'url', 'release_date',\n",
       "       'tags', 'reviews_url', 'specs', 'price', 'early_access', 'id',\n",
       "       'developer'],\n",
       "      dtype='object')"
      ]
     },
     "execution_count": 5,
     "metadata": {},
     "output_type": "execute_result"
    }
   ],
   "source": [
    "# Revisando las columnas del archivo abierto\n",
    "df_games.columns"
   ]
  },
  {
   "cell_type": "code",
   "execution_count": 6,
   "id": "57d25045",
   "metadata": {},
   "outputs": [
    {
     "data": {
      "text/plain": [
       "(22530, 13)"
      ]
     },
     "execution_count": 6,
     "metadata": {},
     "output_type": "execute_result"
    }
   ],
   "source": [
    "# Checamos cantidad de registros y columnas \n",
    "df_games.shape"
   ]
  },
  {
   "cell_type": "code",
   "execution_count": 7,
   "id": "92f6fbcb",
   "metadata": {},
   "outputs": [
    {
     "data": {
      "text/plain": [
       "89687     1983-06-19\n",
       "89855     1984-04-29\n",
       "110028    1984-11-01\n",
       "116377    1985-01-01\n",
       "99223     1986-05-01\n",
       "             ...    \n",
       "109456      Oct 2016\n",
       "101344          SOON\n",
       "120318         SOON™\n",
       "119928      Sep 2009\n",
       "90917       Sep 2014\n",
       "Name: release_date, Length: 22530, dtype: object"
      ]
     },
     "execution_count": 7,
     "metadata": {},
     "output_type": "execute_result"
    }
   ],
   "source": [
    "# Verificamos columna 'release_date' para extaer la columna 'year'\n",
    "df_games.release_date.sort_values()"
   ]
  },
  {
   "cell_type": "code",
   "execution_count": 8,
   "id": "a57ac48e",
   "metadata": {},
   "outputs": [],
   "source": [
    "# Eliminamos los datos: 'SOON' y ' SOON™', de la columna:'release_date'\n",
    "df_games= df_games.drop([101344,120318])"
   ]
  },
  {
   "cell_type": "code",
   "execution_count": 9,
   "id": "7bbc14f8",
   "metadata": {},
   "outputs": [
    {
     "data": {
      "text/plain": [
       "89687     1983-06-19\n",
       "89855     1984-04-29\n",
       "110028    1984-11-01\n",
       "116377    1985-01-01\n",
       "99223     1986-05-01\n",
       "             ...    \n",
       "88819       Oct 2010\n",
       "88816       Oct 2010\n",
       "109456      Oct 2016\n",
       "119928      Sep 2009\n",
       "90917       Sep 2014\n",
       "Name: release_date, Length: 22528, dtype: object"
      ]
     },
     "execution_count": 9,
     "metadata": {},
     "output_type": "execute_result"
    }
   ],
   "source": [
    "# Verificamos la eliminación de los indices anteriores\n",
    "df_games.release_date.sort_values()"
   ]
  },
  {
   "cell_type": "code",
   "execution_count": 10,
   "id": "eee58cea",
   "metadata": {},
   "outputs": [],
   "source": [
    "# Extraemos la columna 'year' de la columna 'release_date', usando el método 'to_datetime' de la librería 'pandas'\n",
    "df_games['year'] = pd.to_datetime(df_games['release_date'],errors='coerce').apply(lambda x:str(x).split('-')[0] if x != None else None)"
   ]
  },
  {
   "cell_type": "code",
   "execution_count": 11,
   "id": "9827c584",
   "metadata": {},
   "outputs": [],
   "source": [
    "# Convertimos los registros de la columna 'year' a 'integer'\n",
    "df_games.year = df_games.year.astype(int)"
   ]
  },
  {
   "cell_type": "code",
   "execution_count": 12,
   "id": "a3d71ca0",
   "metadata": {},
   "outputs": [
    {
     "name": "stdout",
     "output_type": "stream",
     "text": [
      "<class 'pandas.core.frame.DataFrame'>\n",
      "Int64Index: 22528 entries, 88310 to 120443\n",
      "Data columns (total 14 columns):\n",
      " #   Column        Non-Null Count  Dtype  \n",
      "---  ------        --------------  -----  \n",
      " 0   publisher     22528 non-null  object \n",
      " 1   genres        22528 non-null  object \n",
      " 2   app_name      22528 non-null  object \n",
      " 3   title         22528 non-null  object \n",
      " 4   url           22528 non-null  object \n",
      " 5   release_date  22528 non-null  object \n",
      " 6   tags          22528 non-null  object \n",
      " 7   reviews_url   22528 non-null  object \n",
      " 8   specs         22528 non-null  object \n",
      " 9   price         22528 non-null  object \n",
      " 10  early_access  22528 non-null  float64\n",
      " 11  id            22528 non-null  float64\n",
      " 12  developer     22528 non-null  object \n",
      " 13  year          22528 non-null  int32  \n",
      "dtypes: float64(2), int32(1), object(11)\n",
      "memory usage: 2.5+ MB\n"
     ]
    }
   ],
   "source": [
    "# Verificamos el total de columnas y registros. \n",
    "# Y de paso el tipo de dato de la columna 'year'\n",
    "df_games.info()"
   ]
  },
  {
   "cell_type": "code",
   "execution_count": 13,
   "id": "23e73661",
   "metadata": {},
   "outputs": [],
   "source": [
    "# Eliminamos las siguientes columnas porque no las voy a necesitar.\n",
    "cols = ['publisher','url','tags','reviews_url','specs','price','early_access','developer']\n",
    "df_games = df_games.drop(cols,axis=1)"
   ]
  },
  {
   "cell_type": "code",
   "execution_count": 14,
   "id": "5db8ad53",
   "metadata": {},
   "outputs": [
    {
     "data": {
      "text/html": [
       "<div>\n",
       "<style scoped>\n",
       "    .dataframe tbody tr th:only-of-type {\n",
       "        vertical-align: middle;\n",
       "    }\n",
       "\n",
       "    .dataframe tbody tr th {\n",
       "        vertical-align: top;\n",
       "    }\n",
       "\n",
       "    .dataframe thead th {\n",
       "        text-align: right;\n",
       "    }\n",
       "</style>\n",
       "<table border=\"1\" class=\"dataframe\">\n",
       "  <thead>\n",
       "    <tr style=\"text-align: right;\">\n",
       "      <th></th>\n",
       "      <th>genres</th>\n",
       "      <th>app_name</th>\n",
       "      <th>title</th>\n",
       "      <th>release_date</th>\n",
       "      <th>id</th>\n",
       "      <th>year</th>\n",
       "    </tr>\n",
       "  </thead>\n",
       "  <tbody>\n",
       "    <tr>\n",
       "      <th>88310</th>\n",
       "      <td>[Action, Casual, Indie, Simulation, Strategy]</td>\n",
       "      <td>Lost Summoner Kitty</td>\n",
       "      <td>Lost Summoner Kitty</td>\n",
       "      <td>2018-01-04</td>\n",
       "      <td>761140.0</td>\n",
       "      <td>2018</td>\n",
       "    </tr>\n",
       "    <tr>\n",
       "      <th>88311</th>\n",
       "      <td>[Free to Play, Indie, RPG, Strategy]</td>\n",
       "      <td>Ironbound</td>\n",
       "      <td>Ironbound</td>\n",
       "      <td>2018-01-04</td>\n",
       "      <td>643980.0</td>\n",
       "      <td>2018</td>\n",
       "    </tr>\n",
       "  </tbody>\n",
       "</table>\n",
       "</div>"
      ],
      "text/plain": [
       "                                              genres             app_name  \\\n",
       "88310  [Action, Casual, Indie, Simulation, Strategy]  Lost Summoner Kitty   \n",
       "88311           [Free to Play, Indie, RPG, Strategy]            Ironbound   \n",
       "\n",
       "                     title release_date        id  year  \n",
       "88310  Lost Summoner Kitty   2018-01-04  761140.0  2018  \n",
       "88311            Ironbound   2018-01-04  643980.0  2018  "
      ]
     },
     "execution_count": 14,
     "metadata": {},
     "output_type": "execute_result"
    }
   ],
   "source": [
    "# Verificamos el resultado, donde vemos que reducimos a 5 columnas\n",
    "df_games.head(2)"
   ]
  },
  {
   "cell_type": "code",
   "execution_count": 15,
   "id": "a52c0ff6",
   "metadata": {},
   "outputs": [],
   "source": [
    "# Cambiamos el objeto lista, apilando los datos en la columna 'genres' y salvando en la variable(columna) 'gen'\n",
    "gen = df_games.apply(lambda x: pd.Series(x['genres'],dtype='object'),axis=1).stack().reset_index(level=1,drop=True)\n",
    "# Renombramos columna 'gen' como 'genero'\n",
    "gen.name = 'genero'"
   ]
  },
  {
   "cell_type": "code",
   "execution_count": 16,
   "id": "12f27b7f",
   "metadata": {},
   "outputs": [
    {
     "data": {
      "text/plain": [
       "88310         Action\n",
       "88310         Casual\n",
       "88310          Indie\n",
       "88310     Simulation\n",
       "88310       Strategy\n",
       "             ...    \n",
       "120442         Indie\n",
       "120442        Racing\n",
       "120442    Simulation\n",
       "120443        Casual\n",
       "120443         Indie\n",
       "Name: genero, Length: 55607, dtype: object"
      ]
     },
     "execution_count": 16,
     "metadata": {},
     "output_type": "execute_result"
    }
   ],
   "source": [
    "gen"
   ]
  },
  {
   "cell_type": "code",
   "execution_count": 17,
   "id": "ac5bd6e2",
   "metadata": {},
   "outputs": [],
   "source": [
    "# Eliminamos la columna:`genres` y usando el método 'join' pegamos la columna 'gen', renombrada como 'genero'\n",
    "df_games = df_games.drop('genres',axis=1).join(gen)"
   ]
  },
  {
   "cell_type": "code",
   "execution_count": 18,
   "id": "556ec984",
   "metadata": {},
   "outputs": [
    {
     "data": {
      "text/html": [
       "<div>\n",
       "<style scoped>\n",
       "    .dataframe tbody tr th:only-of-type {\n",
       "        vertical-align: middle;\n",
       "    }\n",
       "\n",
       "    .dataframe tbody tr th {\n",
       "        vertical-align: top;\n",
       "    }\n",
       "\n",
       "    .dataframe thead th {\n",
       "        text-align: right;\n",
       "    }\n",
       "</style>\n",
       "<table border=\"1\" class=\"dataframe\">\n",
       "  <thead>\n",
       "    <tr style=\"text-align: right;\">\n",
       "      <th></th>\n",
       "      <th>app_name</th>\n",
       "      <th>title</th>\n",
       "      <th>release_date</th>\n",
       "      <th>id</th>\n",
       "      <th>year</th>\n",
       "      <th>genero</th>\n",
       "    </tr>\n",
       "  </thead>\n",
       "  <tbody>\n",
       "    <tr>\n",
       "      <th>88310</th>\n",
       "      <td>Lost Summoner Kitty</td>\n",
       "      <td>Lost Summoner Kitty</td>\n",
       "      <td>2018-01-04</td>\n",
       "      <td>761140.0</td>\n",
       "      <td>2018</td>\n",
       "      <td>Action</td>\n",
       "    </tr>\n",
       "    <tr>\n",
       "      <th>88310</th>\n",
       "      <td>Lost Summoner Kitty</td>\n",
       "      <td>Lost Summoner Kitty</td>\n",
       "      <td>2018-01-04</td>\n",
       "      <td>761140.0</td>\n",
       "      <td>2018</td>\n",
       "      <td>Casual</td>\n",
       "    </tr>\n",
       "    <tr>\n",
       "      <th>88310</th>\n",
       "      <td>Lost Summoner Kitty</td>\n",
       "      <td>Lost Summoner Kitty</td>\n",
       "      <td>2018-01-04</td>\n",
       "      <td>761140.0</td>\n",
       "      <td>2018</td>\n",
       "      <td>Indie</td>\n",
       "    </tr>\n",
       "    <tr>\n",
       "      <th>88310</th>\n",
       "      <td>Lost Summoner Kitty</td>\n",
       "      <td>Lost Summoner Kitty</td>\n",
       "      <td>2018-01-04</td>\n",
       "      <td>761140.0</td>\n",
       "      <td>2018</td>\n",
       "      <td>Simulation</td>\n",
       "    </tr>\n",
       "    <tr>\n",
       "      <th>88310</th>\n",
       "      <td>Lost Summoner Kitty</td>\n",
       "      <td>Lost Summoner Kitty</td>\n",
       "      <td>2018-01-04</td>\n",
       "      <td>761140.0</td>\n",
       "      <td>2018</td>\n",
       "      <td>Strategy</td>\n",
       "    </tr>\n",
       "    <tr>\n",
       "      <th>...</th>\n",
       "      <td>...</td>\n",
       "      <td>...</td>\n",
       "      <td>...</td>\n",
       "      <td>...</td>\n",
       "      <td>...</td>\n",
       "      <td>...</td>\n",
       "    </tr>\n",
       "    <tr>\n",
       "      <th>120442</th>\n",
       "      <td>Russian Roads</td>\n",
       "      <td>Russian Roads</td>\n",
       "      <td>2018-01-04</td>\n",
       "      <td>610660.0</td>\n",
       "      <td>2018</td>\n",
       "      <td>Indie</td>\n",
       "    </tr>\n",
       "    <tr>\n",
       "      <th>120442</th>\n",
       "      <td>Russian Roads</td>\n",
       "      <td>Russian Roads</td>\n",
       "      <td>2018-01-04</td>\n",
       "      <td>610660.0</td>\n",
       "      <td>2018</td>\n",
       "      <td>Racing</td>\n",
       "    </tr>\n",
       "    <tr>\n",
       "      <th>120442</th>\n",
       "      <td>Russian Roads</td>\n",
       "      <td>Russian Roads</td>\n",
       "      <td>2018-01-04</td>\n",
       "      <td>610660.0</td>\n",
       "      <td>2018</td>\n",
       "      <td>Simulation</td>\n",
       "    </tr>\n",
       "    <tr>\n",
       "      <th>120443</th>\n",
       "      <td>EXIT 2 - Directions</td>\n",
       "      <td>EXIT 2 - Directions</td>\n",
       "      <td>2017-09-02</td>\n",
       "      <td>658870.0</td>\n",
       "      <td>2017</td>\n",
       "      <td>Casual</td>\n",
       "    </tr>\n",
       "    <tr>\n",
       "      <th>120443</th>\n",
       "      <td>EXIT 2 - Directions</td>\n",
       "      <td>EXIT 2 - Directions</td>\n",
       "      <td>2017-09-02</td>\n",
       "      <td>658870.0</td>\n",
       "      <td>2017</td>\n",
       "      <td>Indie</td>\n",
       "    </tr>\n",
       "  </tbody>\n",
       "</table>\n",
       "<p>55607 rows × 6 columns</p>\n",
       "</div>"
      ],
      "text/plain": [
       "                   app_name                title release_date        id  year  \\\n",
       "88310   Lost Summoner Kitty  Lost Summoner Kitty   2018-01-04  761140.0  2018   \n",
       "88310   Lost Summoner Kitty  Lost Summoner Kitty   2018-01-04  761140.0  2018   \n",
       "88310   Lost Summoner Kitty  Lost Summoner Kitty   2018-01-04  761140.0  2018   \n",
       "88310   Lost Summoner Kitty  Lost Summoner Kitty   2018-01-04  761140.0  2018   \n",
       "88310   Lost Summoner Kitty  Lost Summoner Kitty   2018-01-04  761140.0  2018   \n",
       "...                     ...                  ...          ...       ...   ...   \n",
       "120442        Russian Roads        Russian Roads   2018-01-04  610660.0  2018   \n",
       "120442        Russian Roads        Russian Roads   2018-01-04  610660.0  2018   \n",
       "120442        Russian Roads        Russian Roads   2018-01-04  610660.0  2018   \n",
       "120443  EXIT 2 - Directions  EXIT 2 - Directions   2017-09-02  658870.0  2017   \n",
       "120443  EXIT 2 - Directions  EXIT 2 - Directions   2017-09-02  658870.0  2017   \n",
       "\n",
       "            genero  \n",
       "88310       Action  \n",
       "88310       Casual  \n",
       "88310        Indie  \n",
       "88310   Simulation  \n",
       "88310     Strategy  \n",
       "...            ...  \n",
       "120442       Indie  \n",
       "120442      Racing  \n",
       "120442  Simulation  \n",
       "120443      Casual  \n",
       "120443       Indie  \n",
       "\n",
       "[55607 rows x 6 columns]"
      ]
     },
     "execution_count": 18,
     "metadata": {},
     "output_type": "execute_result"
    }
   ],
   "source": [
    "# Vericamos el resultado\n",
    "df_games"
   ]
  },
  {
   "cell_type": "code",
   "execution_count": 19,
   "id": "83277774",
   "metadata": {
    "scrolled": false
   },
   "outputs": [
    {
     "name": "stdout",
     "output_type": "stream",
     "text": [
      "<class 'pandas.core.frame.DataFrame'>\n",
      "Int64Index: 55607 entries, 88310 to 120443\n",
      "Data columns (total 6 columns):\n",
      " #   Column        Non-Null Count  Dtype  \n",
      "---  ------        --------------  -----  \n",
      " 0   app_name      55607 non-null  object \n",
      " 1   title         55607 non-null  object \n",
      " 2   release_date  55607 non-null  object \n",
      " 3   id            55607 non-null  float64\n",
      " 4   year          55607 non-null  int32  \n",
      " 5   genero        55607 non-null  object \n",
      "dtypes: float64(1), int32(1), object(4)\n",
      "memory usage: 2.8+ MB\n"
     ]
    }
   ],
   "source": [
    "# Verificamos los tipos de datos de los 55607 registros y 6 columnas\n",
    "df_games.info()"
   ]
  },
  {
   "cell_type": "code",
   "execution_count": 20,
   "id": "616bd831",
   "metadata": {},
   "outputs": [],
   "source": [
    "# Salvamos el DataFrame como 'df_games.csv' \n",
    "#df_games.to_csv('df_games.csv',index=False)"
   ]
  },
  {
   "cell_type": "markdown",
   "id": "e6533c25",
   "metadata": {},
   "source": [
    "#### Abriendo el archivo: *`australian_user_reviews.json`*"
   ]
  },
  {
   "cell_type": "code",
   "execution_count": 21,
   "id": "92bf7111",
   "metadata": {},
   "outputs": [],
   "source": [
    "# Una vez extraido el archivo.json: `australian_user_reviews.json`, procedemos a abrirlo con `open` y \n",
    "# con el uso de la libreria `ast`. Para esto, partimos de una lista vacia con el metodo `append` vamos \n",
    "# completando nuestro archivo `evaluando cada linea` del archivo.json. Mientras el archivo.json, \n",
    "# se apoya en el parámetro: encoding='utf-8' para ser leído y abierto correctamente.\n",
    "lista = []\n",
    "with open(\"../data/australian_user_reviews.json\",encoding='utf-8') as f:\n",
    "    for line in f.readlines():\n",
    "        lista.append(ast.literal_eval(line))\n",
    "#lista"
   ]
  },
  {
   "cell_type": "markdown",
   "id": "7e145490",
   "metadata": {},
   "source": [
    "#### Una vez abierto el archivo `australian_user_reviews.json`:\n",
    "* `Revisamos si hay columnas a desanidar para tomar los datos`.\n",
    "* `Se corre nuevamente, sin abrir la lista`.\n",
    "* `Enseguida, se transforma la lista en DataFrame`"
   ]
  },
  {
   "cell_type": "code",
   "execution_count": 22,
   "id": "29320bec",
   "metadata": {},
   "outputs": [
    {
     "data": {
      "text/html": [
       "<div>\n",
       "<style scoped>\n",
       "    .dataframe tbody tr th:only-of-type {\n",
       "        vertical-align: middle;\n",
       "    }\n",
       "\n",
       "    .dataframe tbody tr th {\n",
       "        vertical-align: top;\n",
       "    }\n",
       "\n",
       "    .dataframe thead th {\n",
       "        text-align: right;\n",
       "    }\n",
       "</style>\n",
       "<table border=\"1\" class=\"dataframe\">\n",
       "  <thead>\n",
       "    <tr style=\"text-align: right;\">\n",
       "      <th></th>\n",
       "      <th>user_id</th>\n",
       "      <th>user_url</th>\n",
       "      <th>reviews</th>\n",
       "    </tr>\n",
       "  </thead>\n",
       "  <tbody>\n",
       "    <tr>\n",
       "      <th>0</th>\n",
       "      <td>76561197970982479</td>\n",
       "      <td>http://steamcommunity.com/profiles/76561197970...</td>\n",
       "      <td>[{'funny': '', 'posted': 'Posted November 5, 2...</td>\n",
       "    </tr>\n",
       "    <tr>\n",
       "      <th>1</th>\n",
       "      <td>js41637</td>\n",
       "      <td>http://steamcommunity.com/id/js41637</td>\n",
       "      <td>[{'funny': '', 'posted': 'Posted June 24, 2014...</td>\n",
       "    </tr>\n",
       "    <tr>\n",
       "      <th>2</th>\n",
       "      <td>evcentric</td>\n",
       "      <td>http://steamcommunity.com/id/evcentric</td>\n",
       "      <td>[{'funny': '', 'posted': 'Posted February 3.',...</td>\n",
       "    </tr>\n",
       "    <tr>\n",
       "      <th>3</th>\n",
       "      <td>doctr</td>\n",
       "      <td>http://steamcommunity.com/id/doctr</td>\n",
       "      <td>[{'funny': '', 'posted': 'Posted October 14, 2...</td>\n",
       "    </tr>\n",
       "    <tr>\n",
       "      <th>4</th>\n",
       "      <td>maplemage</td>\n",
       "      <td>http://steamcommunity.com/id/maplemage</td>\n",
       "      <td>[{'funny': '3 people found this review funny',...</td>\n",
       "    </tr>\n",
       "  </tbody>\n",
       "</table>\n",
       "</div>"
      ],
      "text/plain": [
       "             user_id                                           user_url  \\\n",
       "0  76561197970982479  http://steamcommunity.com/profiles/76561197970...   \n",
       "1            js41637               http://steamcommunity.com/id/js41637   \n",
       "2          evcentric             http://steamcommunity.com/id/evcentric   \n",
       "3              doctr                 http://steamcommunity.com/id/doctr   \n",
       "4          maplemage             http://steamcommunity.com/id/maplemage   \n",
       "\n",
       "                                             reviews  \n",
       "0  [{'funny': '', 'posted': 'Posted November 5, 2...  \n",
       "1  [{'funny': '', 'posted': 'Posted June 24, 2014...  \n",
       "2  [{'funny': '', 'posted': 'Posted February 3.',...  \n",
       "3  [{'funny': '', 'posted': 'Posted October 14, 2...  \n",
       "4  [{'funny': '3 people found this review funny',...  "
      ]
     },
     "execution_count": 22,
     "metadata": {},
     "output_type": "execute_result"
    }
   ],
   "source": [
    "# Se abre el DataFrame y observamos que hay 3 columnas.\n",
    "# Una de ellas, la columna 'reviews', se encuentra anidada.\n",
    "df = pd.DataFrame(lista)\n",
    "df.head()"
   ]
  },
  {
   "cell_type": "markdown",
   "id": "44ffbe5b",
   "metadata": {},
   "source": [
    "#### Antes de desanidar la columna: `reviews`\n",
    "* Creamos la columna: `sentiment_analysis`\n",
    "* Con la librería: `TextBlob`"
   ]
  },
  {
   "cell_type": "code",
   "execution_count": 23,
   "id": "4a2ba143",
   "metadata": {},
   "outputs": [],
   "source": [
    "# Importamos la libreria capaz de ayudarnos en la tarea de analisis de sentimientos.\n",
    "from textblob import TextBlob \n",
    "def sentiment_analysis(review):\n",
    "    '''Creamos una función de analisis de sentimientos con parametro `review`, usando\n",
    "       la libreria `TextBlob` para pegarle el metodo `sentiment.polarity` y generar tres\n",
    "       (`0`:Negative,`1`:Neutral,`2`:Positive) mediciones del sentimiento a evaluar.\n",
    "       Al final que nos retorne 1 si falta el dato correspondiente.'''\n",
    "    if isinstance(review,list) and len(review) > 0:\n",
    "        text = review[0].get('review','')\n",
    "        sentiment = TextBlob(text).sentiment.polarity\n",
    "        if sentiment < -0.2:\n",
    "            return 0 # Negative\n",
    "        elif sentiment >= -0.2 and sentiment <= 0.2:\n",
    "            return 1 # Neutral\n",
    "        else:\n",
    "            return 2 # Positive\n",
    "    else:\n",
    "        return 1"
   ]
  },
  {
   "cell_type": "markdown",
   "id": "1deb8662",
   "metadata": {},
   "source": [
    "#### Una vez creada la función `sentiment_analysis`\n",
    "* Aplicamos la función `sentiment_analysis`, a la columna `reviews`"
   ]
  },
  {
   "cell_type": "code",
   "execution_count": 24,
   "id": "690fd9a5",
   "metadata": {},
   "outputs": [
    {
     "data": {
      "text/html": [
       "<div>\n",
       "<style scoped>\n",
       "    .dataframe tbody tr th:only-of-type {\n",
       "        vertical-align: middle;\n",
       "    }\n",
       "\n",
       "    .dataframe tbody tr th {\n",
       "        vertical-align: top;\n",
       "    }\n",
       "\n",
       "    .dataframe thead th {\n",
       "        text-align: right;\n",
       "    }\n",
       "</style>\n",
       "<table border=\"1\" class=\"dataframe\">\n",
       "  <thead>\n",
       "    <tr style=\"text-align: right;\">\n",
       "      <th></th>\n",
       "      <th>user_id</th>\n",
       "      <th>user_url</th>\n",
       "      <th>reviews</th>\n",
       "      <th>sentiment_analysis</th>\n",
       "    </tr>\n",
       "  </thead>\n",
       "  <tbody>\n",
       "    <tr>\n",
       "      <th>0</th>\n",
       "      <td>76561197970982479</td>\n",
       "      <td>http://steamcommunity.com/profiles/76561197970...</td>\n",
       "      <td>[{'funny': '', 'posted': 'Posted November 5, 2...</td>\n",
       "      <td>1</td>\n",
       "    </tr>\n",
       "    <tr>\n",
       "      <th>1</th>\n",
       "      <td>js41637</td>\n",
       "      <td>http://steamcommunity.com/id/js41637</td>\n",
       "      <td>[{'funny': '', 'posted': 'Posted June 24, 2014...</td>\n",
       "      <td>1</td>\n",
       "    </tr>\n",
       "    <tr>\n",
       "      <th>2</th>\n",
       "      <td>evcentric</td>\n",
       "      <td>http://steamcommunity.com/id/evcentric</td>\n",
       "      <td>[{'funny': '', 'posted': 'Posted February 3.',...</td>\n",
       "      <td>2</td>\n",
       "    </tr>\n",
       "    <tr>\n",
       "      <th>3</th>\n",
       "      <td>doctr</td>\n",
       "      <td>http://steamcommunity.com/id/doctr</td>\n",
       "      <td>[{'funny': '', 'posted': 'Posted October 14, 2...</td>\n",
       "      <td>2</td>\n",
       "    </tr>\n",
       "    <tr>\n",
       "      <th>4</th>\n",
       "      <td>maplemage</td>\n",
       "      <td>http://steamcommunity.com/id/maplemage</td>\n",
       "      <td>[{'funny': '3 people found this review funny',...</td>\n",
       "      <td>1</td>\n",
       "    </tr>\n",
       "  </tbody>\n",
       "</table>\n",
       "</div>"
      ],
      "text/plain": [
       "             user_id                                           user_url  \\\n",
       "0  76561197970982479  http://steamcommunity.com/profiles/76561197970...   \n",
       "1            js41637               http://steamcommunity.com/id/js41637   \n",
       "2          evcentric             http://steamcommunity.com/id/evcentric   \n",
       "3              doctr                 http://steamcommunity.com/id/doctr   \n",
       "4          maplemage             http://steamcommunity.com/id/maplemage   \n",
       "\n",
       "                                             reviews  sentiment_analysis  \n",
       "0  [{'funny': '', 'posted': 'Posted November 5, 2...                   1  \n",
       "1  [{'funny': '', 'posted': 'Posted June 24, 2014...                   1  \n",
       "2  [{'funny': '', 'posted': 'Posted February 3.',...                   2  \n",
       "3  [{'funny': '', 'posted': 'Posted October 14, 2...                   2  \n",
       "4  [{'funny': '3 people found this review funny',...                   1  "
      ]
     },
     "execution_count": 24,
     "metadata": {},
     "output_type": "execute_result"
    }
   ],
   "source": [
    "# Creamos la columna:`sentiment_analysis`, aplicando la funcion:`sentiment_analysis` a la columna:`reviews`.\n",
    "df['sentiment_analysis'] = df['reviews'].apply(sentiment_analysis)\n",
    "df.head()"
   ]
  },
  {
   "cell_type": "markdown",
   "id": "7959f191",
   "metadata": {},
   "source": [
    "#### Para desanidar la columna: `reviews`. \n",
    "* Vamos a iterar las columnas del archivo: `australian_user_reviews.json`\n",
    "* Para este propósito, usaremos el método:`iterrows`\n",
    "* Y mediante un diccionario alojaremos el `archivo`, incluyendo las columnas desanidadas y solo las columnas que queremos conservar."
   ]
  },
  {
   "cell_type": "code",
   "execution_count": 25,
   "id": "51a8d7b4",
   "metadata": {},
   "outputs": [],
   "source": [
    "# Creamos una lista vacia para alojar nuestros datos desanidados\n",
    "lista_desanidada = []\n",
    "# `iterrows`, se usa para iterar atravez de las filas del archivo.\n",
    "for index,row in df.iterrows():\n",
    "    user_id = row['user_id']\n",
    "    user_url = row['user_url']\n",
    "    sentiment_analysis_value = row['sentiment_analysis']\n",
    "    reviews = row['reviews']\n",
    "# Le pegamos a la lista_desanidada, el siguiente diccionario. \n",
    "# Incluyendo solo las listas a conservar\n",
    "    for e in reviews:\n",
    "        dicc_row = {\n",
    "            'user_id': user_id,\n",
    "            'user_url': user_url,\n",
    "            'reviews': reviews,\n",
    "            'sentiment_analysis': sentiment_analysis_value,\n",
    "            'posted': e.get('posted', ''),\n",
    "            'item_id': e.get('item_id', ''),\n",
    "            'recommend': e.get('recommend',False),\n",
    "            'review': e.get('review', '')\n",
    "        }\n",
    "        lista_desanidada.append(dicc_row)"
   ]
  },
  {
   "cell_type": "markdown",
   "id": "1cfeb24f",
   "metadata": {},
   "source": [
    "#### Transformamos a `DataFrame`:\n",
    "- Eliminamos la columna `reviews`"
   ]
  },
  {
   "cell_type": "code",
   "execution_count": 26,
   "id": "753297ec",
   "metadata": {},
   "outputs": [],
   "source": [
    "df_desanidada = pd.DataFrame(lista_desanidada)"
   ]
  },
  {
   "cell_type": "code",
   "execution_count": 27,
   "id": "90557c76",
   "metadata": {},
   "outputs": [
    {
     "data": {
      "text/html": [
       "<div>\n",
       "<style scoped>\n",
       "    .dataframe tbody tr th:only-of-type {\n",
       "        vertical-align: middle;\n",
       "    }\n",
       "\n",
       "    .dataframe tbody tr th {\n",
       "        vertical-align: top;\n",
       "    }\n",
       "\n",
       "    .dataframe thead th {\n",
       "        text-align: right;\n",
       "    }\n",
       "</style>\n",
       "<table border=\"1\" class=\"dataframe\">\n",
       "  <thead>\n",
       "    <tr style=\"text-align: right;\">\n",
       "      <th></th>\n",
       "      <th>user_id</th>\n",
       "      <th>user_url</th>\n",
       "      <th>sentiment_analysis</th>\n",
       "      <th>posted</th>\n",
       "      <th>item_id</th>\n",
       "      <th>recommend</th>\n",
       "      <th>review</th>\n",
       "    </tr>\n",
       "  </thead>\n",
       "  <tbody>\n",
       "    <tr>\n",
       "      <th>0</th>\n",
       "      <td>76561197970982479</td>\n",
       "      <td>http://steamcommunity.com/profiles/76561197970...</td>\n",
       "      <td>1</td>\n",
       "      <td>Posted November 5, 2011.</td>\n",
       "      <td>1250</td>\n",
       "      <td>True</td>\n",
       "      <td>Simple yet with great replayability. In my opi...</td>\n",
       "    </tr>\n",
       "    <tr>\n",
       "      <th>1</th>\n",
       "      <td>76561197970982479</td>\n",
       "      <td>http://steamcommunity.com/profiles/76561197970...</td>\n",
       "      <td>1</td>\n",
       "      <td>Posted July 15, 2011.</td>\n",
       "      <td>22200</td>\n",
       "      <td>True</td>\n",
       "      <td>It's unique and worth a playthrough.</td>\n",
       "    </tr>\n",
       "    <tr>\n",
       "      <th>2</th>\n",
       "      <td>76561197970982479</td>\n",
       "      <td>http://steamcommunity.com/profiles/76561197970...</td>\n",
       "      <td>1</td>\n",
       "      <td>Posted April 21, 2011.</td>\n",
       "      <td>43110</td>\n",
       "      <td>True</td>\n",
       "      <td>Great atmosphere. The gunplay can be a bit chu...</td>\n",
       "    </tr>\n",
       "    <tr>\n",
       "      <th>3</th>\n",
       "      <td>js41637</td>\n",
       "      <td>http://steamcommunity.com/id/js41637</td>\n",
       "      <td>1</td>\n",
       "      <td>Posted June 24, 2014.</td>\n",
       "      <td>251610</td>\n",
       "      <td>True</td>\n",
       "      <td>I know what you think when you see this title ...</td>\n",
       "    </tr>\n",
       "    <tr>\n",
       "      <th>4</th>\n",
       "      <td>js41637</td>\n",
       "      <td>http://steamcommunity.com/id/js41637</td>\n",
       "      <td>1</td>\n",
       "      <td>Posted September 8, 2013.</td>\n",
       "      <td>227300</td>\n",
       "      <td>True</td>\n",
       "      <td>For a simple (it's actually not all that simpl...</td>\n",
       "    </tr>\n",
       "  </tbody>\n",
       "</table>\n",
       "</div>"
      ],
      "text/plain": [
       "             user_id                                           user_url  \\\n",
       "0  76561197970982479  http://steamcommunity.com/profiles/76561197970...   \n",
       "1  76561197970982479  http://steamcommunity.com/profiles/76561197970...   \n",
       "2  76561197970982479  http://steamcommunity.com/profiles/76561197970...   \n",
       "3            js41637               http://steamcommunity.com/id/js41637   \n",
       "4            js41637               http://steamcommunity.com/id/js41637   \n",
       "\n",
       "   sentiment_analysis                     posted item_id  recommend  \\\n",
       "0                   1   Posted November 5, 2011.    1250       True   \n",
       "1                   1      Posted July 15, 2011.   22200       True   \n",
       "2                   1     Posted April 21, 2011.   43110       True   \n",
       "3                   1      Posted June 24, 2014.  251610       True   \n",
       "4                   1  Posted September 8, 2013.  227300       True   \n",
       "\n",
       "                                              review  \n",
       "0  Simple yet with great replayability. In my opi...  \n",
       "1               It's unique and worth a playthrough.  \n",
       "2  Great atmosphere. The gunplay can be a bit chu...  \n",
       "3  I know what you think when you see this title ...  \n",
       "4  For a simple (it's actually not all that simpl...  "
      ]
     },
     "execution_count": 27,
     "metadata": {},
     "output_type": "execute_result"
    }
   ],
   "source": [
    "# Antes de abrir el dataset, eliminamos la columna reviews\n",
    "df_desanidada.drop(['reviews'],axis=1,inplace=True)\n",
    "df_desanidada.head()"
   ]
  },
  {
   "cell_type": "markdown",
   "id": "5a4e3b26",
   "metadata": {},
   "source": [
    "#### Convertimos la columna *`posted`* a formato fecha *`AAAA-MM-DD`*\n",
    "* Usamos las librerías: `dateutil y parser`\n",
    "* Eliminamos la palabra **`Posted`** de cada registro de la columna *`posted`*\n",
    "* Aplicamos la función `parse_date`a la columna `posted`"
   ]
  },
  {
   "cell_type": "code",
   "execution_count": 28,
   "id": "411f1a49",
   "metadata": {},
   "outputs": [],
   "source": [
    "# Importamos la libreria `parser` de `dateutil` para covertir a formato fecha(AAAA-MM-DD).\n",
    "from dateutil import parser\n",
    "# Enseguida creamos una funcion para tal efecto y sustituyendo la palabra:\n",
    "# `Posted` que aparece en cada registro, por \"\"\n",
    "def parse_date(date_str):\n",
    "    try:\n",
    "        return parser.parse(date_str.replace('Posted',\"\"),fuzzy=True)\n",
    "    except ValueError:\n",
    "        return None"
   ]
  },
  {
   "cell_type": "code",
   "execution_count": 29,
   "id": "1e3043ca",
   "metadata": {},
   "outputs": [],
   "source": [
    "# Tomamos la columna `posted` y le aplicamos la función previamente creada.\n",
    "# Creamos la columna 'posted_date' y eliminamos la columna 'posted'\n",
    "df_desanidada['posted_date'] = df_desanidada['posted'].apply(parse_date)\n",
    "df_desanidada = df_desanidada.drop(['posted'],axis=1)"
   ]
  },
  {
   "cell_type": "code",
   "execution_count": 30,
   "id": "18616c70",
   "metadata": {},
   "outputs": [
    {
     "data": {
      "text/html": [
       "<div>\n",
       "<style scoped>\n",
       "    .dataframe tbody tr th:only-of-type {\n",
       "        vertical-align: middle;\n",
       "    }\n",
       "\n",
       "    .dataframe tbody tr th {\n",
       "        vertical-align: top;\n",
       "    }\n",
       "\n",
       "    .dataframe thead th {\n",
       "        text-align: right;\n",
       "    }\n",
       "</style>\n",
       "<table border=\"1\" class=\"dataframe\">\n",
       "  <thead>\n",
       "    <tr style=\"text-align: right;\">\n",
       "      <th></th>\n",
       "      <th>user_id</th>\n",
       "      <th>user_url</th>\n",
       "      <th>sentiment_analysis</th>\n",
       "      <th>item_id</th>\n",
       "      <th>recommend</th>\n",
       "      <th>review</th>\n",
       "      <th>posted_date</th>\n",
       "    </tr>\n",
       "  </thead>\n",
       "  <tbody>\n",
       "    <tr>\n",
       "      <th>0</th>\n",
       "      <td>76561197970982479</td>\n",
       "      <td>http://steamcommunity.com/profiles/76561197970...</td>\n",
       "      <td>1</td>\n",
       "      <td>1250</td>\n",
       "      <td>True</td>\n",
       "      <td>Simple yet with great replayability. In my opi...</td>\n",
       "      <td>2011-11-05</td>\n",
       "    </tr>\n",
       "    <tr>\n",
       "      <th>1</th>\n",
       "      <td>76561197970982479</td>\n",
       "      <td>http://steamcommunity.com/profiles/76561197970...</td>\n",
       "      <td>1</td>\n",
       "      <td>22200</td>\n",
       "      <td>True</td>\n",
       "      <td>It's unique and worth a playthrough.</td>\n",
       "      <td>2011-07-15</td>\n",
       "    </tr>\n",
       "    <tr>\n",
       "      <th>2</th>\n",
       "      <td>76561197970982479</td>\n",
       "      <td>http://steamcommunity.com/profiles/76561197970...</td>\n",
       "      <td>1</td>\n",
       "      <td>43110</td>\n",
       "      <td>True</td>\n",
       "      <td>Great atmosphere. The gunplay can be a bit chu...</td>\n",
       "      <td>2011-04-21</td>\n",
       "    </tr>\n",
       "    <tr>\n",
       "      <th>3</th>\n",
       "      <td>js41637</td>\n",
       "      <td>http://steamcommunity.com/id/js41637</td>\n",
       "      <td>1</td>\n",
       "      <td>251610</td>\n",
       "      <td>True</td>\n",
       "      <td>I know what you think when you see this title ...</td>\n",
       "      <td>2014-06-24</td>\n",
       "    </tr>\n",
       "    <tr>\n",
       "      <th>4</th>\n",
       "      <td>js41637</td>\n",
       "      <td>http://steamcommunity.com/id/js41637</td>\n",
       "      <td>1</td>\n",
       "      <td>227300</td>\n",
       "      <td>True</td>\n",
       "      <td>For a simple (it's actually not all that simpl...</td>\n",
       "      <td>2013-09-08</td>\n",
       "    </tr>\n",
       "  </tbody>\n",
       "</table>\n",
       "</div>"
      ],
      "text/plain": [
       "             user_id                                           user_url  \\\n",
       "0  76561197970982479  http://steamcommunity.com/profiles/76561197970...   \n",
       "1  76561197970982479  http://steamcommunity.com/profiles/76561197970...   \n",
       "2  76561197970982479  http://steamcommunity.com/profiles/76561197970...   \n",
       "3            js41637               http://steamcommunity.com/id/js41637   \n",
       "4            js41637               http://steamcommunity.com/id/js41637   \n",
       "\n",
       "   sentiment_analysis item_id  recommend  \\\n",
       "0                   1    1250       True   \n",
       "1                   1   22200       True   \n",
       "2                   1   43110       True   \n",
       "3                   1  251610       True   \n",
       "4                   1  227300       True   \n",
       "\n",
       "                                              review posted_date  \n",
       "0  Simple yet with great replayability. In my opi...  2011-11-05  \n",
       "1               It's unique and worth a playthrough.  2011-07-15  \n",
       "2  Great atmosphere. The gunplay can be a bit chu...  2011-04-21  \n",
       "3  I know what you think when you see this title ...  2014-06-24  \n",
       "4  For a simple (it's actually not all that simpl...  2013-09-08  "
      ]
     },
     "execution_count": 30,
     "metadata": {},
     "output_type": "execute_result"
    }
   ],
   "source": [
    "# Abrimos el DataFrame para verificar los registros y columnas\n",
    "df_desanidada.head()"
   ]
  },
  {
   "cell_type": "code",
   "execution_count": 31,
   "id": "01ecc34e",
   "metadata": {
    "scrolled": true
   },
   "outputs": [
    {
     "name": "stdout",
     "output_type": "stream",
     "text": [
      "<class 'pandas.core.frame.DataFrame'>\n",
      "RangeIndex: 59305 entries, 0 to 59304\n",
      "Data columns (total 7 columns):\n",
      " #   Column              Non-Null Count  Dtype         \n",
      "---  ------              --------------  -----         \n",
      " 0   user_id             59305 non-null  object        \n",
      " 1   user_url            59305 non-null  object        \n",
      " 2   sentiment_analysis  59305 non-null  int64         \n",
      " 3   item_id             59305 non-null  object        \n",
      " 4   recommend           59305 non-null  bool          \n",
      " 5   review              59305 non-null  object        \n",
      " 6   posted_date         59280 non-null  datetime64[ns]\n",
      "dtypes: bool(1), datetime64[ns](1), int64(1), object(4)\n",
      "memory usage: 2.8+ MB\n"
     ]
    }
   ],
   "source": [
    "# Verificamos, la eliminación de las columnas anteriores y la reducción de las mismas.\n",
    "# Contamos ahora con los mismos 59305 registros y 7 columnas.\n",
    "df_desanidada.info()"
   ]
  },
  {
   "cell_type": "code",
   "execution_count": 32,
   "id": "13bbdf93",
   "metadata": {},
   "outputs": [],
   "source": [
    "# Creamos la columna 'year', extrayendola de la columna 'posted_date' a partir del metodo 'to_datetime' de la librería 'pandas'\n",
    "df_desanidada['year'] = pd.to_datetime(df_desanidada['posted_date'],errors='coerce').apply(lambda x:str(x).split('-')[0] if x != None else None)"
   ]
  },
  {
   "cell_type": "code",
   "execution_count": 33,
   "id": "138f3257",
   "metadata": {},
   "outputs": [
    {
     "data": {
      "text/html": [
       "<div>\n",
       "<style scoped>\n",
       "    .dataframe tbody tr th:only-of-type {\n",
       "        vertical-align: middle;\n",
       "    }\n",
       "\n",
       "    .dataframe tbody tr th {\n",
       "        vertical-align: top;\n",
       "    }\n",
       "\n",
       "    .dataframe thead th {\n",
       "        text-align: right;\n",
       "    }\n",
       "</style>\n",
       "<table border=\"1\" class=\"dataframe\">\n",
       "  <thead>\n",
       "    <tr style=\"text-align: right;\">\n",
       "      <th></th>\n",
       "      <th>user_id</th>\n",
       "      <th>user_url</th>\n",
       "      <th>sentiment_analysis</th>\n",
       "      <th>item_id</th>\n",
       "      <th>recommend</th>\n",
       "      <th>review</th>\n",
       "      <th>posted_date</th>\n",
       "      <th>year</th>\n",
       "    </tr>\n",
       "  </thead>\n",
       "  <tbody>\n",
       "    <tr>\n",
       "      <th>0</th>\n",
       "      <td>76561197970982479</td>\n",
       "      <td>http://steamcommunity.com/profiles/76561197970...</td>\n",
       "      <td>1</td>\n",
       "      <td>1250</td>\n",
       "      <td>True</td>\n",
       "      <td>Simple yet with great replayability. In my opi...</td>\n",
       "      <td>2011-11-05</td>\n",
       "      <td>2011</td>\n",
       "    </tr>\n",
       "    <tr>\n",
       "      <th>1</th>\n",
       "      <td>76561197970982479</td>\n",
       "      <td>http://steamcommunity.com/profiles/76561197970...</td>\n",
       "      <td>1</td>\n",
       "      <td>22200</td>\n",
       "      <td>True</td>\n",
       "      <td>It's unique and worth a playthrough.</td>\n",
       "      <td>2011-07-15</td>\n",
       "      <td>2011</td>\n",
       "    </tr>\n",
       "  </tbody>\n",
       "</table>\n",
       "</div>"
      ],
      "text/plain": [
       "             user_id                                           user_url  \\\n",
       "0  76561197970982479  http://steamcommunity.com/profiles/76561197970...   \n",
       "1  76561197970982479  http://steamcommunity.com/profiles/76561197970...   \n",
       "\n",
       "   sentiment_analysis item_id  recommend  \\\n",
       "0                   1    1250       True   \n",
       "1                   1   22200       True   \n",
       "\n",
       "                                              review posted_date  year  \n",
       "0  Simple yet with great replayability. In my opi...  2011-11-05  2011  \n",
       "1               It's unique and worth a playthrough.  2011-07-15  2011  "
      ]
     },
     "execution_count": 33,
     "metadata": {},
     "output_type": "execute_result"
    }
   ],
   "source": [
    "# Abrimos el archivo, para ver el resultado\n",
    "df_desanidada.head(2)"
   ]
  },
  {
   "cell_type": "code",
   "execution_count": 34,
   "id": "037e8042",
   "metadata": {},
   "outputs": [
    {
     "name": "stdout",
     "output_type": "stream",
     "text": [
      "<class 'pandas.core.frame.DataFrame'>\n",
      "RangeIndex: 59305 entries, 0 to 59304\n",
      "Data columns (total 8 columns):\n",
      " #   Column              Non-Null Count  Dtype         \n",
      "---  ------              --------------  -----         \n",
      " 0   user_id             59305 non-null  object        \n",
      " 1   user_url            59305 non-null  object        \n",
      " 2   sentiment_analysis  59305 non-null  int64         \n",
      " 3   item_id             59305 non-null  object        \n",
      " 4   recommend           59305 non-null  bool          \n",
      " 5   review              59305 non-null  object        \n",
      " 6   posted_date         59280 non-null  datetime64[ns]\n",
      " 7   year                59305 non-null  object        \n",
      "dtypes: bool(1), datetime64[ns](1), int64(1), object(5)\n",
      "memory usage: 3.2+ MB\n"
     ]
    }
   ],
   "source": [
    "# Verificamos tipo de dato de la columna 'year'\n",
    "df_desanidada.info()"
   ]
  },
  {
   "cell_type": "code",
   "execution_count": 35,
   "id": "2ae0ad5d",
   "metadata": {},
   "outputs": [],
   "source": [
    "# Convertimos a número los tipos de registro de la columna 'year'\n",
    "df_desanidada['year'] = pd.to_numeric(df_desanidada['year'],errors='coerce')"
   ]
  },
  {
   "cell_type": "code",
   "execution_count": 36,
   "id": "ff0f805f",
   "metadata": {},
   "outputs": [
    {
     "data": {
      "text/plain": [
       "29806    2010.0\n",
       "15693    2010.0\n",
       "24664    2010.0\n",
       "5358     2010.0\n",
       "45134    2010.0\n",
       "          ...  \n",
       "49410       NaN\n",
       "49411       NaN\n",
       "52326       NaN\n",
       "56697       NaN\n",
       "57240       NaN\n",
       "Name: year, Length: 59305, dtype: float64"
      ]
     },
     "execution_count": 36,
     "metadata": {},
     "output_type": "execute_result"
    }
   ],
   "source": [
    "# Verificamos los datos de la columna 'year'\n",
    "df_desanidada['year'].sort_values()"
   ]
  },
  {
   "cell_type": "code",
   "execution_count": 37,
   "id": "d4418d04",
   "metadata": {},
   "outputs": [],
   "source": [
    "# Encontramos valores nulos en la columna 'year' y los eliminamos\n",
    "df_desanidada = df_desanidada.dropna(subset=['year'])"
   ]
  },
  {
   "cell_type": "code",
   "execution_count": 38,
   "id": "d01bf152",
   "metadata": {},
   "outputs": [
    {
     "name": "stdout",
     "output_type": "stream",
     "text": [
      "<class 'pandas.core.frame.DataFrame'>\n",
      "Int64Index: 59280 entries, 0 to 59304\n",
      "Data columns (total 8 columns):\n",
      " #   Column              Non-Null Count  Dtype         \n",
      "---  ------              --------------  -----         \n",
      " 0   user_id             59280 non-null  object        \n",
      " 1   user_url            59280 non-null  object        \n",
      " 2   sentiment_analysis  59280 non-null  int64         \n",
      " 3   item_id             59280 non-null  object        \n",
      " 4   recommend           59280 non-null  bool          \n",
      " 5   review              59280 non-null  object        \n",
      " 6   posted_date         59280 non-null  datetime64[ns]\n",
      " 7   year                59280 non-null  float64       \n",
      "dtypes: bool(1), datetime64[ns](1), float64(1), int64(1), object(4)\n",
      "memory usage: 3.7+ MB\n"
     ]
    }
   ],
   "source": [
    "# Checamos el tipo de dato de la columna 'year'\n",
    "df_desanidada.info()"
   ]
  },
  {
   "cell_type": "code",
   "execution_count": 39,
   "id": "f548befd",
   "metadata": {},
   "outputs": [],
   "source": [
    "# Como vemos que el tipo de dato de la columna 'year' es 'float', lo convertimos a 'integer'\n",
    "df_desanidada['year'] = df_desanidada['year'].astype(int)"
   ]
  },
  {
   "cell_type": "code",
   "execution_count": 40,
   "id": "5668429d",
   "metadata": {},
   "outputs": [
    {
     "name": "stdout",
     "output_type": "stream",
     "text": [
      "<class 'pandas.core.frame.DataFrame'>\n",
      "Int64Index: 59280 entries, 0 to 59304\n",
      "Data columns (total 8 columns):\n",
      " #   Column              Non-Null Count  Dtype         \n",
      "---  ------              --------------  -----         \n",
      " 0   user_id             59280 non-null  object        \n",
      " 1   user_url            59280 non-null  object        \n",
      " 2   sentiment_analysis  59280 non-null  int64         \n",
      " 3   item_id             59280 non-null  object        \n",
      " 4   recommend           59280 non-null  bool          \n",
      " 5   review              59280 non-null  object        \n",
      " 6   posted_date         59280 non-null  datetime64[ns]\n",
      " 7   year                59280 non-null  int32         \n",
      "dtypes: bool(1), datetime64[ns](1), int32(1), int64(1), object(4)\n",
      "memory usage: 3.4+ MB\n"
     ]
    }
   ],
   "source": [
    "# Verificamos la correcta conversión del dato de la columna 'year' a 'integer' \n",
    "df_desanidada.info()"
   ]
  },
  {
   "cell_type": "code",
   "execution_count": 41,
   "id": "da9e7cd3",
   "metadata": {
    "scrolled": true
   },
   "outputs": [
    {
     "data": {
      "text/html": [
       "<div>\n",
       "<style scoped>\n",
       "    .dataframe tbody tr th:only-of-type {\n",
       "        vertical-align: middle;\n",
       "    }\n",
       "\n",
       "    .dataframe tbody tr th {\n",
       "        vertical-align: top;\n",
       "    }\n",
       "\n",
       "    .dataframe thead th {\n",
       "        text-align: right;\n",
       "    }\n",
       "</style>\n",
       "<table border=\"1\" class=\"dataframe\">\n",
       "  <thead>\n",
       "    <tr style=\"text-align: right;\">\n",
       "      <th></th>\n",
       "      <th>user_id</th>\n",
       "      <th>user_url</th>\n",
       "      <th>sentiment_analysis</th>\n",
       "      <th>item_id</th>\n",
       "      <th>recommend</th>\n",
       "      <th>review</th>\n",
       "      <th>posted_date</th>\n",
       "      <th>year</th>\n",
       "    </tr>\n",
       "  </thead>\n",
       "  <tbody>\n",
       "    <tr>\n",
       "      <th>0</th>\n",
       "      <td>76561197970982479</td>\n",
       "      <td>http://steamcommunity.com/profiles/76561197970...</td>\n",
       "      <td>1</td>\n",
       "      <td>1250</td>\n",
       "      <td>True</td>\n",
       "      <td>Simple yet with great replayability. In my opi...</td>\n",
       "      <td>2011-11-05</td>\n",
       "      <td>2011</td>\n",
       "    </tr>\n",
       "    <tr>\n",
       "      <th>1</th>\n",
       "      <td>76561197970982479</td>\n",
       "      <td>http://steamcommunity.com/profiles/76561197970...</td>\n",
       "      <td>1</td>\n",
       "      <td>22200</td>\n",
       "      <td>True</td>\n",
       "      <td>It's unique and worth a playthrough.</td>\n",
       "      <td>2011-07-15</td>\n",
       "      <td>2011</td>\n",
       "    </tr>\n",
       "    <tr>\n",
       "      <th>2</th>\n",
       "      <td>76561197970982479</td>\n",
       "      <td>http://steamcommunity.com/profiles/76561197970...</td>\n",
       "      <td>1</td>\n",
       "      <td>43110</td>\n",
       "      <td>True</td>\n",
       "      <td>Great atmosphere. The gunplay can be a bit chu...</td>\n",
       "      <td>2011-04-21</td>\n",
       "      <td>2011</td>\n",
       "    </tr>\n",
       "    <tr>\n",
       "      <th>3</th>\n",
       "      <td>js41637</td>\n",
       "      <td>http://steamcommunity.com/id/js41637</td>\n",
       "      <td>1</td>\n",
       "      <td>251610</td>\n",
       "      <td>True</td>\n",
       "      <td>I know what you think when you see this title ...</td>\n",
       "      <td>2014-06-24</td>\n",
       "      <td>2014</td>\n",
       "    </tr>\n",
       "    <tr>\n",
       "      <th>4</th>\n",
       "      <td>js41637</td>\n",
       "      <td>http://steamcommunity.com/id/js41637</td>\n",
       "      <td>1</td>\n",
       "      <td>227300</td>\n",
       "      <td>True</td>\n",
       "      <td>For a simple (it's actually not all that simpl...</td>\n",
       "      <td>2013-09-08</td>\n",
       "      <td>2013</td>\n",
       "    </tr>\n",
       "  </tbody>\n",
       "</table>\n",
       "</div>"
      ],
      "text/plain": [
       "             user_id                                           user_url  \\\n",
       "0  76561197970982479  http://steamcommunity.com/profiles/76561197970...   \n",
       "1  76561197970982479  http://steamcommunity.com/profiles/76561197970...   \n",
       "2  76561197970982479  http://steamcommunity.com/profiles/76561197970...   \n",
       "3            js41637               http://steamcommunity.com/id/js41637   \n",
       "4            js41637               http://steamcommunity.com/id/js41637   \n",
       "\n",
       "   sentiment_analysis item_id  recommend  \\\n",
       "0                   1    1250       True   \n",
       "1                   1   22200       True   \n",
       "2                   1   43110       True   \n",
       "3                   1  251610       True   \n",
       "4                   1  227300       True   \n",
       "\n",
       "                                              review posted_date  year  \n",
       "0  Simple yet with great replayability. In my opi...  2011-11-05  2011  \n",
       "1               It's unique and worth a playthrough.  2011-07-15  2011  \n",
       "2  Great atmosphere. The gunplay can be a bit chu...  2011-04-21  2011  \n",
       "3  I know what you think when you see this title ...  2014-06-24  2014  \n",
       "4  For a simple (it's actually not all that simpl...  2013-09-08  2013  "
      ]
     },
     "execution_count": 41,
     "metadata": {},
     "output_type": "execute_result"
    }
   ],
   "source": [
    "# Verificamos los datos\n",
    "df_desanidada.head()"
   ]
  },
  {
   "cell_type": "code",
   "execution_count": 53,
   "id": "51407aaa",
   "metadata": {},
   "outputs": [
    {
     "data": {
      "text/plain": [
       "(59280, 8)"
      ]
     },
     "execution_count": 53,
     "metadata": {},
     "output_type": "execute_result"
    }
   ],
   "source": [
    "# Tenemos 59280 registros y 8 columnas\n",
    "df_desanidada.shape"
   ]
  },
  {
   "cell_type": "code",
   "execution_count": 42,
   "id": "9aabd923",
   "metadata": {},
   "outputs": [],
   "source": [
    "# Salvamos el archivo como 'df_reviews.csv'\n",
    "#df_desanidada.to_csv('df_reviews.csv',index=False)"
   ]
  },
  {
   "cell_type": "markdown",
   "id": "ebf05d2f",
   "metadata": {},
   "source": [
    "### Abriendo el archivo:*`australian_users_items.json`*"
   ]
  },
  {
   "cell_type": "code",
   "execution_count": 1,
   "id": "b0bf35bc",
   "metadata": {},
   "outputs": [],
   "source": [
    "# Aqui, volví a abrir el archivo para salvar el archivo con todos sus registros,\n",
    "# para ver si a la hora de fusionarlos aumenta la cantidad de registros.\n",
    "# Entonces, voy a dejar 'df_items.csv' con 80000 registros, y voy a generar uno nuevo\n",
    "# con el total de registros, que salvare como 'df_items_plus.csv'\n",
    "import pandas as pd\n",
    "import ast"
   ]
  },
  {
   "cell_type": "code",
   "execution_count": 2,
   "id": "3c465dce",
   "metadata": {
    "scrolled": true
   },
   "outputs": [],
   "source": [
    "# Una vez extraido el archivo.json: `australian_users_items.json`, procedemos a abrirlo con `open` y \n",
    "# partiendo de una lista vacia con el metodo `append` vamos completando nuestro archivo `evaluando cada linea` \n",
    "# cada line del archivo.json con ayuda de la libreria `ast`. Mientras el archivo.json, se apoya en el parámetro:\n",
    "# encoding='utf-8' para ser leído y abierto correctamente.\n",
    "lista = []\n",
    "with open(\"../data/australian_users_items.json\",encoding='utf-8') as f:\n",
    "    for line in f.readlines():\n",
    "        lista.append(ast.literal_eval(line))\n",
    "\n",
    "#lista"
   ]
  },
  {
   "cell_type": "markdown",
   "id": "bb536de2",
   "metadata": {},
   "source": [
    "#### Una vez abierto el archivo `australian_users_items.json`:\n",
    "* `Revisamos si hay columnas a desanidar para tomar los datos`.\n",
    "* `Se corre nuevamente, sin abrir la lista`.\n",
    "* `Enseguida, se transforma la lista en DataFrame`"
   ]
  },
  {
   "cell_type": "code",
   "execution_count": 3,
   "id": "ac82db04",
   "metadata": {},
   "outputs": [
    {
     "data": {
      "text/html": [
       "<div>\n",
       "<style scoped>\n",
       "    .dataframe tbody tr th:only-of-type {\n",
       "        vertical-align: middle;\n",
       "    }\n",
       "\n",
       "    .dataframe tbody tr th {\n",
       "        vertical-align: top;\n",
       "    }\n",
       "\n",
       "    .dataframe thead th {\n",
       "        text-align: right;\n",
       "    }\n",
       "</style>\n",
       "<table border=\"1\" class=\"dataframe\">\n",
       "  <thead>\n",
       "    <tr style=\"text-align: right;\">\n",
       "      <th></th>\n",
       "      <th>user_id</th>\n",
       "      <th>items_count</th>\n",
       "      <th>steam_id</th>\n",
       "      <th>user_url</th>\n",
       "      <th>items</th>\n",
       "    </tr>\n",
       "  </thead>\n",
       "  <tbody>\n",
       "    <tr>\n",
       "      <th>0</th>\n",
       "      <td>76561197970982479</td>\n",
       "      <td>277</td>\n",
       "      <td>76561197970982479</td>\n",
       "      <td>http://steamcommunity.com/profiles/76561197970...</td>\n",
       "      <td>[{'item_id': '10', 'item_name': 'Counter-Strik...</td>\n",
       "    </tr>\n",
       "    <tr>\n",
       "      <th>1</th>\n",
       "      <td>js41637</td>\n",
       "      <td>888</td>\n",
       "      <td>76561198035864385</td>\n",
       "      <td>http://steamcommunity.com/id/js41637</td>\n",
       "      <td>[{'item_id': '10', 'item_name': 'Counter-Strik...</td>\n",
       "    </tr>\n",
       "    <tr>\n",
       "      <th>2</th>\n",
       "      <td>evcentric</td>\n",
       "      <td>137</td>\n",
       "      <td>76561198007712555</td>\n",
       "      <td>http://steamcommunity.com/id/evcentric</td>\n",
       "      <td>[{'item_id': '1200', 'item_name': 'Red Orchest...</td>\n",
       "    </tr>\n",
       "    <tr>\n",
       "      <th>3</th>\n",
       "      <td>Riot-Punch</td>\n",
       "      <td>328</td>\n",
       "      <td>76561197963445855</td>\n",
       "      <td>http://steamcommunity.com/id/Riot-Punch</td>\n",
       "      <td>[{'item_id': '10', 'item_name': 'Counter-Strik...</td>\n",
       "    </tr>\n",
       "    <tr>\n",
       "      <th>4</th>\n",
       "      <td>doctr</td>\n",
       "      <td>541</td>\n",
       "      <td>76561198002099482</td>\n",
       "      <td>http://steamcommunity.com/id/doctr</td>\n",
       "      <td>[{'item_id': '300', 'item_name': 'Day of Defea...</td>\n",
       "    </tr>\n",
       "  </tbody>\n",
       "</table>\n",
       "</div>"
      ],
      "text/plain": [
       "             user_id  items_count           steam_id  \\\n",
       "0  76561197970982479          277  76561197970982479   \n",
       "1            js41637          888  76561198035864385   \n",
       "2          evcentric          137  76561198007712555   \n",
       "3         Riot-Punch          328  76561197963445855   \n",
       "4              doctr          541  76561198002099482   \n",
       "\n",
       "                                            user_url  \\\n",
       "0  http://steamcommunity.com/profiles/76561197970...   \n",
       "1               http://steamcommunity.com/id/js41637   \n",
       "2             http://steamcommunity.com/id/evcentric   \n",
       "3            http://steamcommunity.com/id/Riot-Punch   \n",
       "4                 http://steamcommunity.com/id/doctr   \n",
       "\n",
       "                                               items  \n",
       "0  [{'item_id': '10', 'item_name': 'Counter-Strik...  \n",
       "1  [{'item_id': '10', 'item_name': 'Counter-Strik...  \n",
       "2  [{'item_id': '1200', 'item_name': 'Red Orchest...  \n",
       "3  [{'item_id': '10', 'item_name': 'Counter-Strik...  \n",
       "4  [{'item_id': '300', 'item_name': 'Day of Defea...  "
      ]
     },
     "execution_count": 3,
     "metadata": {},
     "output_type": "execute_result"
    }
   ],
   "source": [
    "# Se abre el DataFrame y observamos que la columna 'items', se encuentra anidada.\n",
    "df_items = pd.DataFrame(lista)\n",
    "df_items.head()"
   ]
  },
  {
   "cell_type": "code",
   "execution_count": 4,
   "id": "e2a2258e",
   "metadata": {},
   "outputs": [],
   "source": [
    "# Creamos una lista vacia para alojar nuestros datos desanidados\n",
    "lista_desanidada = []\n",
    "#`iterrows`, se usa para iterar atravez de las filas de nuestro archivo\n",
    "for index,row in df_items.iterrows():\n",
    "    user_id = row['user_id']\n",
    "    items_count = row['items_count']\n",
    "    steam_id = row['steam_id']\n",
    "    user_url = row['user_url']\n",
    "# A la lista_desanidada, le anexamos el siguiente diccionario.\n",
    "# Incluyendo solo las columnas a conservar\n",
    "    for i in row['items']:\n",
    "        dicc_row = {\n",
    "            'user_id': user_id,\n",
    "            'items_count': items_count,\n",
    "            'steam_id':steam_id,\n",
    "            'user_url': user_url,\n",
    "            'item_id': i['item_id'],\n",
    "            'item_name': i['item_name'],\n",
    "            'playtime_forever': i['playtime_forever']\n",
    "        }\n",
    "        lista_desanidada.append(dicc_row)"
   ]
  },
  {
   "cell_type": "markdown",
   "id": "51562128",
   "metadata": {},
   "source": [
    "#### Desanidamos la columna: *`items`* para aplicarla al archivo: *`australian_users_items.json`*"
   ]
  },
  {
   "cell_type": "markdown",
   "id": "f00fbcfa",
   "metadata": {},
   "source": [
    "#### Una vez hecho el procedimiento anterior, transformamos a DataFrame la `lista_desanidada`"
   ]
  },
  {
   "cell_type": "code",
   "execution_count": 5,
   "id": "f70b3bc2",
   "metadata": {
    "scrolled": true
   },
   "outputs": [
    {
     "data": {
      "text/html": [
       "<div>\n",
       "<style scoped>\n",
       "    .dataframe tbody tr th:only-of-type {\n",
       "        vertical-align: middle;\n",
       "    }\n",
       "\n",
       "    .dataframe tbody tr th {\n",
       "        vertical-align: top;\n",
       "    }\n",
       "\n",
       "    .dataframe thead th {\n",
       "        text-align: right;\n",
       "    }\n",
       "</style>\n",
       "<table border=\"1\" class=\"dataframe\">\n",
       "  <thead>\n",
       "    <tr style=\"text-align: right;\">\n",
       "      <th></th>\n",
       "      <th>user_id</th>\n",
       "      <th>items_count</th>\n",
       "      <th>steam_id</th>\n",
       "      <th>user_url</th>\n",
       "      <th>item_id</th>\n",
       "      <th>item_name</th>\n",
       "      <th>playtime_forever</th>\n",
       "    </tr>\n",
       "  </thead>\n",
       "  <tbody>\n",
       "    <tr>\n",
       "      <th>0</th>\n",
       "      <td>76561197970982479</td>\n",
       "      <td>277</td>\n",
       "      <td>76561197970982479</td>\n",
       "      <td>http://steamcommunity.com/profiles/76561197970...</td>\n",
       "      <td>10</td>\n",
       "      <td>Counter-Strike</td>\n",
       "      <td>6</td>\n",
       "    </tr>\n",
       "    <tr>\n",
       "      <th>1</th>\n",
       "      <td>76561197970982479</td>\n",
       "      <td>277</td>\n",
       "      <td>76561197970982479</td>\n",
       "      <td>http://steamcommunity.com/profiles/76561197970...</td>\n",
       "      <td>20</td>\n",
       "      <td>Team Fortress Classic</td>\n",
       "      <td>0</td>\n",
       "    </tr>\n",
       "    <tr>\n",
       "      <th>2</th>\n",
       "      <td>76561197970982479</td>\n",
       "      <td>277</td>\n",
       "      <td>76561197970982479</td>\n",
       "      <td>http://steamcommunity.com/profiles/76561197970...</td>\n",
       "      <td>30</td>\n",
       "      <td>Day of Defeat</td>\n",
       "      <td>7</td>\n",
       "    </tr>\n",
       "    <tr>\n",
       "      <th>3</th>\n",
       "      <td>76561197970982479</td>\n",
       "      <td>277</td>\n",
       "      <td>76561197970982479</td>\n",
       "      <td>http://steamcommunity.com/profiles/76561197970...</td>\n",
       "      <td>40</td>\n",
       "      <td>Deathmatch Classic</td>\n",
       "      <td>0</td>\n",
       "    </tr>\n",
       "    <tr>\n",
       "      <th>4</th>\n",
       "      <td>76561197970982479</td>\n",
       "      <td>277</td>\n",
       "      <td>76561197970982479</td>\n",
       "      <td>http://steamcommunity.com/profiles/76561197970...</td>\n",
       "      <td>50</td>\n",
       "      <td>Half-Life: Opposing Force</td>\n",
       "      <td>0</td>\n",
       "    </tr>\n",
       "  </tbody>\n",
       "</table>\n",
       "</div>"
      ],
      "text/plain": [
       "             user_id  items_count           steam_id  \\\n",
       "0  76561197970982479          277  76561197970982479   \n",
       "1  76561197970982479          277  76561197970982479   \n",
       "2  76561197970982479          277  76561197970982479   \n",
       "3  76561197970982479          277  76561197970982479   \n",
       "4  76561197970982479          277  76561197970982479   \n",
       "\n",
       "                                            user_url item_id  \\\n",
       "0  http://steamcommunity.com/profiles/76561197970...      10   \n",
       "1  http://steamcommunity.com/profiles/76561197970...      20   \n",
       "2  http://steamcommunity.com/profiles/76561197970...      30   \n",
       "3  http://steamcommunity.com/profiles/76561197970...      40   \n",
       "4  http://steamcommunity.com/profiles/76561197970...      50   \n",
       "\n",
       "                   item_name  playtime_forever  \n",
       "0             Counter-Strike                 6  \n",
       "1      Team Fortress Classic                 0  \n",
       "2              Day of Defeat                 7  \n",
       "3         Deathmatch Classic                 0  \n",
       "4  Half-Life: Opposing Force                 0  "
      ]
     },
     "execution_count": 5,
     "metadata": {},
     "output_type": "execute_result"
    }
   ],
   "source": [
    "# Abrimos el DataFrame para ver el resultado del desanide de la columna 'items'\n",
    "df_items_des = pd.DataFrame(lista_desanidada)\n",
    "df_items_des.head()"
   ]
  },
  {
   "cell_type": "code",
   "execution_count": 6,
   "id": "7357075c",
   "metadata": {
    "scrolled": true
   },
   "outputs": [
    {
     "name": "stdout",
     "output_type": "stream",
     "text": [
      "<class 'pandas.core.frame.DataFrame'>\n",
      "RangeIndex: 5153209 entries, 0 to 5153208\n",
      "Data columns (total 7 columns):\n",
      " #   Column            Dtype \n",
      "---  ------            ----- \n",
      " 0   user_id           object\n",
      " 1   items_count       int64 \n",
      " 2   steam_id          object\n",
      " 3   user_url          object\n",
      " 4   item_id           object\n",
      " 5   item_name         object\n",
      " 6   playtime_forever  int64 \n",
      "dtypes: int64(2), object(5)\n",
      "memory usage: 275.2+ MB\n"
     ]
    }
   ],
   "source": [
    "# Los registros y columnas de nuestro dataset\n",
    "df_items_des.info()"
   ]
  },
  {
   "cell_type": "code",
   "execution_count": 7,
   "id": "a77c6faa",
   "metadata": {},
   "outputs": [],
   "source": [
    "# Eliminamos los valores duplicados\n",
    "df_items = df_items_des.drop_duplicates()"
   ]
  },
  {
   "cell_type": "code",
   "execution_count": 8,
   "id": "bea3f5da",
   "metadata": {},
   "outputs": [
    {
     "name": "stdout",
     "output_type": "stream",
     "text": [
      "<class 'pandas.core.frame.DataFrame'>\n",
      "Int64Index: 5094092 entries, 0 to 5153208\n",
      "Data columns (total 7 columns):\n",
      " #   Column            Dtype \n",
      "---  ------            ----- \n",
      " 0   user_id           object\n",
      " 1   items_count       int64 \n",
      " 2   steam_id          object\n",
      " 3   user_url          object\n",
      " 4   item_id           object\n",
      " 5   item_name         object\n",
      " 6   playtime_forever  int64 \n",
      "dtypes: int64(2), object(5)\n",
      "memory usage: 310.9+ MB\n"
     ]
    }
   ],
   "source": [
    "# Vemos la cantidad de registros, columnas y tipo de dato.\n",
    "# Y su reducción \n",
    "df_items.info()"
   ]
  },
  {
   "cell_type": "code",
   "execution_count": 9,
   "id": "bcdb0126",
   "metadata": {},
   "outputs": [],
   "source": [
    "# Se redujo ligeramente la cantidad de registros, vamos a eliminar otra columna que no ocupamos\n",
    "df_items = df_items.drop(['steam_id'],axis=1)"
   ]
  },
  {
   "cell_type": "code",
   "execution_count": 10,
   "id": "e8822f8c",
   "metadata": {},
   "outputs": [
    {
     "data": {
      "text/html": [
       "<div>\n",
       "<style scoped>\n",
       "    .dataframe tbody tr th:only-of-type {\n",
       "        vertical-align: middle;\n",
       "    }\n",
       "\n",
       "    .dataframe tbody tr th {\n",
       "        vertical-align: top;\n",
       "    }\n",
       "\n",
       "    .dataframe thead th {\n",
       "        text-align: right;\n",
       "    }\n",
       "</style>\n",
       "<table border=\"1\" class=\"dataframe\">\n",
       "  <thead>\n",
       "    <tr style=\"text-align: right;\">\n",
       "      <th></th>\n",
       "      <th>user_id</th>\n",
       "      <th>items_count</th>\n",
       "      <th>user_url</th>\n",
       "      <th>item_id</th>\n",
       "      <th>item_name</th>\n",
       "      <th>playtime_forever</th>\n",
       "    </tr>\n",
       "  </thead>\n",
       "  <tbody>\n",
       "    <tr>\n",
       "      <th>5073209</th>\n",
       "      <td>Jersssh</td>\n",
       "      <td>28</td>\n",
       "      <td>http://steamcommunity.com/id/Jersssh</td>\n",
       "      <td>285580</td>\n",
       "      <td>ACE - Arena: Cyber Evolution</td>\n",
       "      <td>0</td>\n",
       "    </tr>\n",
       "    <tr>\n",
       "      <th>5073210</th>\n",
       "      <td>Jersssh</td>\n",
       "      <td>28</td>\n",
       "      <td>http://steamcommunity.com/id/Jersssh</td>\n",
       "      <td>293540</td>\n",
       "      <td>Guns and Robots</td>\n",
       "      <td>19</td>\n",
       "    </tr>\n",
       "    <tr>\n",
       "      <th>5073211</th>\n",
       "      <td>Jersssh</td>\n",
       "      <td>28</td>\n",
       "      <td>http://steamcommunity.com/id/Jersssh</td>\n",
       "      <td>301520</td>\n",
       "      <td>Robocraft</td>\n",
       "      <td>91</td>\n",
       "    </tr>\n",
       "    <tr>\n",
       "      <th>5073212</th>\n",
       "      <td>Jersssh</td>\n",
       "      <td>28</td>\n",
       "      <td>http://steamcommunity.com/id/Jersssh</td>\n",
       "      <td>304930</td>\n",
       "      <td>Unturned</td>\n",
       "      <td>825</td>\n",
       "    </tr>\n",
       "    <tr>\n",
       "      <th>5073213</th>\n",
       "      <td>Jersssh</td>\n",
       "      <td>28</td>\n",
       "      <td>http://steamcommunity.com/id/Jersssh</td>\n",
       "      <td>224600</td>\n",
       "      <td>Defiance</td>\n",
       "      <td>0</td>\n",
       "    </tr>\n",
       "    <tr>\n",
       "      <th>...</th>\n",
       "      <td>...</td>\n",
       "      <td>...</td>\n",
       "      <td>...</td>\n",
       "      <td>...</td>\n",
       "      <td>...</td>\n",
       "      <td>...</td>\n",
       "    </tr>\n",
       "    <tr>\n",
       "      <th>5153204</th>\n",
       "      <td>76561198329548331</td>\n",
       "      <td>7</td>\n",
       "      <td>http://steamcommunity.com/profiles/76561198329...</td>\n",
       "      <td>346330</td>\n",
       "      <td>BrainBread 2</td>\n",
       "      <td>0</td>\n",
       "    </tr>\n",
       "    <tr>\n",
       "      <th>5153205</th>\n",
       "      <td>76561198329548331</td>\n",
       "      <td>7</td>\n",
       "      <td>http://steamcommunity.com/profiles/76561198329...</td>\n",
       "      <td>373330</td>\n",
       "      <td>All Is Dust</td>\n",
       "      <td>0</td>\n",
       "    </tr>\n",
       "    <tr>\n",
       "      <th>5153206</th>\n",
       "      <td>76561198329548331</td>\n",
       "      <td>7</td>\n",
       "      <td>http://steamcommunity.com/profiles/76561198329...</td>\n",
       "      <td>388490</td>\n",
       "      <td>One Way To Die: Steam Edition</td>\n",
       "      <td>3</td>\n",
       "    </tr>\n",
       "    <tr>\n",
       "      <th>5153207</th>\n",
       "      <td>76561198329548331</td>\n",
       "      <td>7</td>\n",
       "      <td>http://steamcommunity.com/profiles/76561198329...</td>\n",
       "      <td>521570</td>\n",
       "      <td>You Have 10 Seconds 2</td>\n",
       "      <td>4</td>\n",
       "    </tr>\n",
       "    <tr>\n",
       "      <th>5153208</th>\n",
       "      <td>76561198329548331</td>\n",
       "      <td>7</td>\n",
       "      <td>http://steamcommunity.com/profiles/76561198329...</td>\n",
       "      <td>519140</td>\n",
       "      <td>Minds Eyes</td>\n",
       "      <td>3</td>\n",
       "    </tr>\n",
       "  </tbody>\n",
       "</table>\n",
       "<p>80000 rows × 6 columns</p>\n",
       "</div>"
      ],
      "text/plain": [
       "                   user_id  items_count  \\\n",
       "5073209            Jersssh           28   \n",
       "5073210            Jersssh           28   \n",
       "5073211            Jersssh           28   \n",
       "5073212            Jersssh           28   \n",
       "5073213            Jersssh           28   \n",
       "...                    ...          ...   \n",
       "5153204  76561198329548331            7   \n",
       "5153205  76561198329548331            7   \n",
       "5153206  76561198329548331            7   \n",
       "5153207  76561198329548331            7   \n",
       "5153208  76561198329548331            7   \n",
       "\n",
       "                                                  user_url item_id  \\\n",
       "5073209               http://steamcommunity.com/id/Jersssh  285580   \n",
       "5073210               http://steamcommunity.com/id/Jersssh  293540   \n",
       "5073211               http://steamcommunity.com/id/Jersssh  301520   \n",
       "5073212               http://steamcommunity.com/id/Jersssh  304930   \n",
       "5073213               http://steamcommunity.com/id/Jersssh  224600   \n",
       "...                                                    ...     ...   \n",
       "5153204  http://steamcommunity.com/profiles/76561198329...  346330   \n",
       "5153205  http://steamcommunity.com/profiles/76561198329...  373330   \n",
       "5153206  http://steamcommunity.com/profiles/76561198329...  388490   \n",
       "5153207  http://steamcommunity.com/profiles/76561198329...  521570   \n",
       "5153208  http://steamcommunity.com/profiles/76561198329...  519140   \n",
       "\n",
       "                             item_name  playtime_forever  \n",
       "5073209   ACE - Arena: Cyber Evolution                 0  \n",
       "5073210                Guns and Robots                19  \n",
       "5073211                      Robocraft                91  \n",
       "5073212                       Unturned               825  \n",
       "5073213                       Defiance                 0  \n",
       "...                                ...               ...  \n",
       "5153204                   BrainBread 2                 0  \n",
       "5153205                    All Is Dust                 0  \n",
       "5153206  One Way To Die: Steam Edition                 3  \n",
       "5153207          You Have 10 Seconds 2                 4  \n",
       "5153208                     Minds Eyes                 3  \n",
       "\n",
       "[80000 rows x 6 columns]"
      ]
     },
     "execution_count": 10,
     "metadata": {},
     "output_type": "execute_result"
    }
   ],
   "source": [
    "# Vamos a tomar los últimos 80000 registros para aligerar el archivo.\n",
    "df_items.tail(80000)"
   ]
  },
  {
   "cell_type": "code",
   "execution_count": 11,
   "id": "a0a7c5e6",
   "metadata": {},
   "outputs": [],
   "source": [
    "# Salvamos el DataFrame como 'df_items.csv'\n",
    "#df_items.head(80000).to_csv('df_items.csv',index=False)"
   ]
  },
  {
   "cell_type": "code",
   "execution_count": 12,
   "id": "2659a3ae",
   "metadata": {},
   "outputs": [
    {
     "data": {
      "text/html": [
       "<div>\n",
       "<style scoped>\n",
       "    .dataframe tbody tr th:only-of-type {\n",
       "        vertical-align: middle;\n",
       "    }\n",
       "\n",
       "    .dataframe tbody tr th {\n",
       "        vertical-align: top;\n",
       "    }\n",
       "\n",
       "    .dataframe thead th {\n",
       "        text-align: right;\n",
       "    }\n",
       "</style>\n",
       "<table border=\"1\" class=\"dataframe\">\n",
       "  <thead>\n",
       "    <tr style=\"text-align: right;\">\n",
       "      <th></th>\n",
       "      <th>user_id</th>\n",
       "      <th>items_count</th>\n",
       "      <th>user_url</th>\n",
       "      <th>item_id</th>\n",
       "      <th>item_name</th>\n",
       "      <th>playtime_forever</th>\n",
       "    </tr>\n",
       "  </thead>\n",
       "  <tbody>\n",
       "    <tr>\n",
       "      <th>0</th>\n",
       "      <td>76561197970982479</td>\n",
       "      <td>277</td>\n",
       "      <td>http://steamcommunity.com/profiles/76561197970...</td>\n",
       "      <td>10</td>\n",
       "      <td>Counter-Strike</td>\n",
       "      <td>6</td>\n",
       "    </tr>\n",
       "    <tr>\n",
       "      <th>1</th>\n",
       "      <td>76561197970982479</td>\n",
       "      <td>277</td>\n",
       "      <td>http://steamcommunity.com/profiles/76561197970...</td>\n",
       "      <td>20</td>\n",
       "      <td>Team Fortress Classic</td>\n",
       "      <td>0</td>\n",
       "    </tr>\n",
       "    <tr>\n",
       "      <th>2</th>\n",
       "      <td>76561197970982479</td>\n",
       "      <td>277</td>\n",
       "      <td>http://steamcommunity.com/profiles/76561197970...</td>\n",
       "      <td>30</td>\n",
       "      <td>Day of Defeat</td>\n",
       "      <td>7</td>\n",
       "    </tr>\n",
       "    <tr>\n",
       "      <th>3</th>\n",
       "      <td>76561197970982479</td>\n",
       "      <td>277</td>\n",
       "      <td>http://steamcommunity.com/profiles/76561197970...</td>\n",
       "      <td>40</td>\n",
       "      <td>Deathmatch Classic</td>\n",
       "      <td>0</td>\n",
       "    </tr>\n",
       "    <tr>\n",
       "      <th>4</th>\n",
       "      <td>76561197970982479</td>\n",
       "      <td>277</td>\n",
       "      <td>http://steamcommunity.com/profiles/76561197970...</td>\n",
       "      <td>50</td>\n",
       "      <td>Half-Life: Opposing Force</td>\n",
       "      <td>0</td>\n",
       "    </tr>\n",
       "  </tbody>\n",
       "</table>\n",
       "</div>"
      ],
      "text/plain": [
       "             user_id  items_count  \\\n",
       "0  76561197970982479          277   \n",
       "1  76561197970982479          277   \n",
       "2  76561197970982479          277   \n",
       "3  76561197970982479          277   \n",
       "4  76561197970982479          277   \n",
       "\n",
       "                                            user_url item_id  \\\n",
       "0  http://steamcommunity.com/profiles/76561197970...      10   \n",
       "1  http://steamcommunity.com/profiles/76561197970...      20   \n",
       "2  http://steamcommunity.com/profiles/76561197970...      30   \n",
       "3  http://steamcommunity.com/profiles/76561197970...      40   \n",
       "4  http://steamcommunity.com/profiles/76561197970...      50   \n",
       "\n",
       "                   item_name  playtime_forever  \n",
       "0             Counter-Strike                 6  \n",
       "1      Team Fortress Classic                 0  \n",
       "2              Day of Defeat                 7  \n",
       "3         Deathmatch Classic                 0  \n",
       "4  Half-Life: Opposing Force                 0  "
      ]
     },
     "execution_count": 12,
     "metadata": {},
     "output_type": "execute_result"
    }
   ],
   "source": [
    "# Vamos a dejar la totalidad de los registros\n",
    "df_items.head()"
   ]
  },
  {
   "cell_type": "code",
   "execution_count": 13,
   "id": "27e7acf5",
   "metadata": {},
   "outputs": [
    {
     "name": "stdout",
     "output_type": "stream",
     "text": [
      "<class 'pandas.core.frame.DataFrame'>\n",
      "Int64Index: 5094092 entries, 0 to 5153208\n",
      "Data columns (total 6 columns):\n",
      " #   Column            Dtype \n",
      "---  ------            ----- \n",
      " 0   user_id           object\n",
      " 1   items_count       int64 \n",
      " 2   user_url          object\n",
      " 3   item_id           object\n",
      " 4   item_name         object\n",
      " 5   playtime_forever  int64 \n",
      "dtypes: int64(2), object(4)\n",
      "memory usage: 272.1+ MB\n"
     ]
    }
   ],
   "source": [
    "df_items.info()"
   ]
  },
  {
   "cell_type": "code",
   "execution_count": 14,
   "id": "0ce901dd",
   "metadata": {},
   "outputs": [],
   "source": [
    "# Salvamos como otro dataset de 'items' de nombre 'df_items_plus.csv', \n",
    "# segun lo mencionado arriba al abrir el archivo\n",
    "#df_items.to_csv('df_items_plus.csv',index=False)"
   ]
  },
  {
   "cell_type": "code",
   "execution_count": 15,
   "id": "ff82bfed",
   "metadata": {},
   "outputs": [],
   "source": [
    "# Mostramos los archivos que mandamos al folder data\n",
    "df_games = pd.read_csv('../data/df_games.csv')\n",
    "df_reviews = pd.read_csv('../data/df_reviews.csv')\n",
    "df_items = pd.read_csv('../data/df_items.csv')\n",
    "df_items_plus = pd.read_csv('../data/df_items_plus.csv')"
   ]
  },
  {
   "cell_type": "code",
   "execution_count": 16,
   "id": "e393b1a2",
   "metadata": {},
   "outputs": [
    {
     "name": "stdout",
     "output_type": "stream",
     "text": [
      "Index(['app_name', 'title', 'release_date', 'id', 'year', 'genero'], dtype='object')\n",
      "Index(['user_id', 'user_url', 'sentiment_analysis', 'item_id', 'recommend',\n",
      "       'review', 'posted_date', 'year'],\n",
      "      dtype='object')\n",
      "Index(['user_id', 'items_count', 'user_url', 'item_id', 'item_name',\n",
      "       'playtime_forever'],\n",
      "      dtype='object')\n",
      "(55607, 6)\n",
      "(59280, 8)\n",
      "(80000, 6)\n",
      "(5094092, 6)\n"
     ]
    }
   ],
   "source": [
    "# Aqui, me dí cuenta que había que diferenciar la columna 'year'.\n",
    "# Ya que cree esta, tanto en 'df_games' y 'df_reviews'\n",
    "print(df_games.columns)\n",
    "print(df_reviews.columns)  \n",
    "print(df_items.columns)\n",
    "print(df_games.shape)\n",
    "print(df_reviews.shape)  \n",
    "print(df_items.shape)\n",
    "print(df_items_plus.shape)"
   ]
  },
  {
   "cell_type": "markdown",
   "id": "5a117629",
   "metadata": {},
   "source": [
    "### `En dataset games, renombramos como release_year a la columna year`\n",
    "* Eliminando las columnas, no necesitadas: `app_name, release_date, year`"
   ]
  },
  {
   "cell_type": "code",
   "execution_count": 17,
   "id": "a1cc67b2",
   "metadata": {},
   "outputs": [],
   "source": [
    "df_games['release_year'] = df_games['year']"
   ]
  },
  {
   "cell_type": "code",
   "execution_count": 18,
   "id": "a9b66f61",
   "metadata": {},
   "outputs": [
    {
     "data": {
      "text/html": [
       "<div>\n",
       "<style scoped>\n",
       "    .dataframe tbody tr th:only-of-type {\n",
       "        vertical-align: middle;\n",
       "    }\n",
       "\n",
       "    .dataframe tbody tr th {\n",
       "        vertical-align: top;\n",
       "    }\n",
       "\n",
       "    .dataframe thead th {\n",
       "        text-align: right;\n",
       "    }\n",
       "</style>\n",
       "<table border=\"1\" class=\"dataframe\">\n",
       "  <thead>\n",
       "    <tr style=\"text-align: right;\">\n",
       "      <th></th>\n",
       "      <th>title</th>\n",
       "      <th>id</th>\n",
       "      <th>genero</th>\n",
       "      <th>release_year</th>\n",
       "    </tr>\n",
       "  </thead>\n",
       "  <tbody>\n",
       "    <tr>\n",
       "      <th>0</th>\n",
       "      <td>Lost Summoner Kitty</td>\n",
       "      <td>761140.0</td>\n",
       "      <td>Action</td>\n",
       "      <td>2018</td>\n",
       "    </tr>\n",
       "    <tr>\n",
       "      <th>1</th>\n",
       "      <td>Lost Summoner Kitty</td>\n",
       "      <td>761140.0</td>\n",
       "      <td>Casual</td>\n",
       "      <td>2018</td>\n",
       "    </tr>\n",
       "    <tr>\n",
       "      <th>2</th>\n",
       "      <td>Lost Summoner Kitty</td>\n",
       "      <td>761140.0</td>\n",
       "      <td>Indie</td>\n",
       "      <td>2018</td>\n",
       "    </tr>\n",
       "    <tr>\n",
       "      <th>3</th>\n",
       "      <td>Lost Summoner Kitty</td>\n",
       "      <td>761140.0</td>\n",
       "      <td>Simulation</td>\n",
       "      <td>2018</td>\n",
       "    </tr>\n",
       "    <tr>\n",
       "      <th>4</th>\n",
       "      <td>Lost Summoner Kitty</td>\n",
       "      <td>761140.0</td>\n",
       "      <td>Strategy</td>\n",
       "      <td>2018</td>\n",
       "    </tr>\n",
       "  </tbody>\n",
       "</table>\n",
       "</div>"
      ],
      "text/plain": [
       "                 title        id      genero  release_year\n",
       "0  Lost Summoner Kitty  761140.0      Action          2018\n",
       "1  Lost Summoner Kitty  761140.0      Casual          2018\n",
       "2  Lost Summoner Kitty  761140.0       Indie          2018\n",
       "3  Lost Summoner Kitty  761140.0  Simulation          2018\n",
       "4  Lost Summoner Kitty  761140.0    Strategy          2018"
      ]
     },
     "execution_count": 18,
     "metadata": {},
     "output_type": "execute_result"
    }
   ],
   "source": [
    "# Quedandonos con 4 columnas de las 6 iniciales, 'release_year' es el año de lanzamiento del juego\n",
    "col = ['app_name','release_date','year']\n",
    "df_games = df_games.drop(col,axis=1)\n",
    "df_games.head()"
   ]
  },
  {
   "cell_type": "code",
   "execution_count": 19,
   "id": "c529a4ed",
   "metadata": {},
   "outputs": [
    {
     "data": {
      "text/plain": [
       "(55607, 4)"
      ]
     },
     "execution_count": 19,
     "metadata": {},
     "output_type": "execute_result"
    }
   ],
   "source": [
    "# Manteniéndose la misma cantidad de registros iniciales.\n",
    "df_games.shape"
   ]
  },
  {
   "cell_type": "markdown",
   "id": "ed6b5a65",
   "metadata": {},
   "source": [
    "### `En dataset reviews, renombramos como posted_year a la columna year`\n",
    "* Eliminando las columnas: `user_url, posted_date, year`"
   ]
  },
  {
   "cell_type": "code",
   "execution_count": 20,
   "id": "7732e639",
   "metadata": {},
   "outputs": [],
   "source": [
    "df_reviews['posted_year'] = df_reviews['year']"
   ]
  },
  {
   "cell_type": "code",
   "execution_count": 21,
   "id": "6d9c8f38",
   "metadata": {},
   "outputs": [
    {
     "data": {
      "text/html": [
       "<div>\n",
       "<style scoped>\n",
       "    .dataframe tbody tr th:only-of-type {\n",
       "        vertical-align: middle;\n",
       "    }\n",
       "\n",
       "    .dataframe tbody tr th {\n",
       "        vertical-align: top;\n",
       "    }\n",
       "\n",
       "    .dataframe thead th {\n",
       "        text-align: right;\n",
       "    }\n",
       "</style>\n",
       "<table border=\"1\" class=\"dataframe\">\n",
       "  <thead>\n",
       "    <tr style=\"text-align: right;\">\n",
       "      <th></th>\n",
       "      <th>user_id</th>\n",
       "      <th>sentiment_analysis</th>\n",
       "      <th>item_id</th>\n",
       "      <th>recommend</th>\n",
       "      <th>review</th>\n",
       "      <th>posted_year</th>\n",
       "    </tr>\n",
       "  </thead>\n",
       "  <tbody>\n",
       "    <tr>\n",
       "      <th>0</th>\n",
       "      <td>76561197970982479</td>\n",
       "      <td>1</td>\n",
       "      <td>1250</td>\n",
       "      <td>True</td>\n",
       "      <td>Simple yet with great replayability. In my opi...</td>\n",
       "      <td>2011</td>\n",
       "    </tr>\n",
       "    <tr>\n",
       "      <th>1</th>\n",
       "      <td>76561197970982479</td>\n",
       "      <td>1</td>\n",
       "      <td>22200</td>\n",
       "      <td>True</td>\n",
       "      <td>It's unique and worth a playthrough.</td>\n",
       "      <td>2011</td>\n",
       "    </tr>\n",
       "    <tr>\n",
       "      <th>2</th>\n",
       "      <td>76561197970982479</td>\n",
       "      <td>1</td>\n",
       "      <td>43110</td>\n",
       "      <td>True</td>\n",
       "      <td>Great atmosphere. The gunplay can be a bit chu...</td>\n",
       "      <td>2011</td>\n",
       "    </tr>\n",
       "    <tr>\n",
       "      <th>3</th>\n",
       "      <td>js41637</td>\n",
       "      <td>1</td>\n",
       "      <td>251610</td>\n",
       "      <td>True</td>\n",
       "      <td>I know what you think when you see this title ...</td>\n",
       "      <td>2014</td>\n",
       "    </tr>\n",
       "    <tr>\n",
       "      <th>4</th>\n",
       "      <td>js41637</td>\n",
       "      <td>1</td>\n",
       "      <td>227300</td>\n",
       "      <td>True</td>\n",
       "      <td>For a simple (it's actually not all that simpl...</td>\n",
       "      <td>2013</td>\n",
       "    </tr>\n",
       "  </tbody>\n",
       "</table>\n",
       "</div>"
      ],
      "text/plain": [
       "             user_id  sentiment_analysis  item_id  recommend  \\\n",
       "0  76561197970982479                   1     1250       True   \n",
       "1  76561197970982479                   1    22200       True   \n",
       "2  76561197970982479                   1    43110       True   \n",
       "3            js41637                   1   251610       True   \n",
       "4            js41637                   1   227300       True   \n",
       "\n",
       "                                              review  posted_year  \n",
       "0  Simple yet with great replayability. In my opi...         2011  \n",
       "1               It's unique and worth a playthrough.         2011  \n",
       "2  Great atmosphere. The gunplay can be a bit chu...         2011  \n",
       "3  I know what you think when you see this title ...         2014  \n",
       "4  For a simple (it's actually not all that simpl...         2013  "
      ]
     },
     "execution_count": 21,
     "metadata": {},
     "output_type": "execute_result"
    }
   ],
   "source": [
    "# Quedandonos con 6 columnas de las 8 iniciales, 'posted_year' es el año de review del juego\n",
    "cols = ['user_url','posted_date','year']\n",
    "df_reviews = df_reviews.drop(cols,axis=1)\n",
    "df_reviews.head()"
   ]
  },
  {
   "cell_type": "code",
   "execution_count": 22,
   "id": "5ef8f2ce",
   "metadata": {},
   "outputs": [
    {
     "data": {
      "text/plain": [
       "(59280, 6)"
      ]
     },
     "execution_count": 22,
     "metadata": {},
     "output_type": "execute_result"
    }
   ],
   "source": [
    "# Conservando los mismos registros que al inicio.\n",
    "df_reviews.shape"
   ]
  },
  {
   "cell_type": "code",
   "execution_count": 23,
   "id": "bc00756e",
   "metadata": {},
   "outputs": [
    {
     "data": {
      "text/html": [
       "<div>\n",
       "<style scoped>\n",
       "    .dataframe tbody tr th:only-of-type {\n",
       "        vertical-align: middle;\n",
       "    }\n",
       "\n",
       "    .dataframe tbody tr th {\n",
       "        vertical-align: top;\n",
       "    }\n",
       "\n",
       "    .dataframe thead th {\n",
       "        text-align: right;\n",
       "    }\n",
       "</style>\n",
       "<table border=\"1\" class=\"dataframe\">\n",
       "  <thead>\n",
       "    <tr style=\"text-align: right;\">\n",
       "      <th></th>\n",
       "      <th>user_id</th>\n",
       "      <th>sentiment_analysis</th>\n",
       "      <th>item_id</th>\n",
       "      <th>recommend</th>\n",
       "      <th>review</th>\n",
       "      <th>posted_year</th>\n",
       "      <th>title</th>\n",
       "      <th>id</th>\n",
       "      <th>genero</th>\n",
       "      <th>release_year</th>\n",
       "    </tr>\n",
       "  </thead>\n",
       "  <tbody>\n",
       "    <tr>\n",
       "      <th>0</th>\n",
       "      <td>76561197970982479</td>\n",
       "      <td>1</td>\n",
       "      <td>1250</td>\n",
       "      <td>True</td>\n",
       "      <td>Simple yet with great replayability. In my opi...</td>\n",
       "      <td>2011</td>\n",
       "      <td>Lost Summoner Kitty</td>\n",
       "      <td>761140.0</td>\n",
       "      <td>Action</td>\n",
       "      <td>2018.0</td>\n",
       "    </tr>\n",
       "    <tr>\n",
       "      <th>1</th>\n",
       "      <td>76561197970982479</td>\n",
       "      <td>1</td>\n",
       "      <td>22200</td>\n",
       "      <td>True</td>\n",
       "      <td>It's unique and worth a playthrough.</td>\n",
       "      <td>2011</td>\n",
       "      <td>Lost Summoner Kitty</td>\n",
       "      <td>761140.0</td>\n",
       "      <td>Casual</td>\n",
       "      <td>2018.0</td>\n",
       "    </tr>\n",
       "  </tbody>\n",
       "</table>\n",
       "</div>"
      ],
      "text/plain": [
       "             user_id  sentiment_analysis  item_id  recommend  \\\n",
       "0  76561197970982479                   1     1250       True   \n",
       "1  76561197970982479                   1    22200       True   \n",
       "\n",
       "                                              review  posted_year  \\\n",
       "0  Simple yet with great replayability. In my opi...         2011   \n",
       "1               It's unique and worth a playthrough.         2011   \n",
       "\n",
       "                 title        id  genero  release_year  \n",
       "0  Lost Summoner Kitty  761140.0  Action        2018.0  \n",
       "1  Lost Summoner Kitty  761140.0  Casual        2018.0  "
      ]
     },
     "execution_count": 23,
     "metadata": {},
     "output_type": "execute_result"
    }
   ],
   "source": [
    "# Fusionamos los archivos 'reviews' y 'games', mediante el método 'join'\n",
    "df = df_reviews.join(df_games)\n",
    "df.head(2)"
   ]
  },
  {
   "cell_type": "code",
   "execution_count": 24,
   "id": "a1eb5e47",
   "metadata": {},
   "outputs": [
    {
     "data": {
      "text/plain": [
       "(59280, 10)"
      ]
     },
     "execution_count": 24,
     "metadata": {},
     "output_type": "execute_result"
    }
   ],
   "source": [
    "# Producto de la fusión anterior, se generan 10 columnas y 59280 registros\n",
    "# prevaleciendo los registros del archivo mas grande\n",
    "df.shape"
   ]
  },
  {
   "cell_type": "markdown",
   "id": "d0d9a478",
   "metadata": {},
   "source": [
    "### `Abrimos el dataset items: df_items`\n",
    "* Eliminando las columnas: `items_count, user_url, item_name`"
   ]
  },
  {
   "cell_type": "code",
   "execution_count": 25,
   "id": "37bf08cd",
   "metadata": {},
   "outputs": [
    {
     "data": {
      "text/html": [
       "<div>\n",
       "<style scoped>\n",
       "    .dataframe tbody tr th:only-of-type {\n",
       "        vertical-align: middle;\n",
       "    }\n",
       "\n",
       "    .dataframe tbody tr th {\n",
       "        vertical-align: top;\n",
       "    }\n",
       "\n",
       "    .dataframe thead th {\n",
       "        text-align: right;\n",
       "    }\n",
       "</style>\n",
       "<table border=\"1\" class=\"dataframe\">\n",
       "  <thead>\n",
       "    <tr style=\"text-align: right;\">\n",
       "      <th></th>\n",
       "      <th>user_id</th>\n",
       "      <th>item_id</th>\n",
       "      <th>playtime_forever</th>\n",
       "    </tr>\n",
       "  </thead>\n",
       "  <tbody>\n",
       "    <tr>\n",
       "      <th>0</th>\n",
       "      <td>76561197970982479</td>\n",
       "      <td>10</td>\n",
       "      <td>6</td>\n",
       "    </tr>\n",
       "    <tr>\n",
       "      <th>1</th>\n",
       "      <td>76561197970982479</td>\n",
       "      <td>20</td>\n",
       "      <td>0</td>\n",
       "    </tr>\n",
       "    <tr>\n",
       "      <th>2</th>\n",
       "      <td>76561197970982479</td>\n",
       "      <td>30</td>\n",
       "      <td>7</td>\n",
       "    </tr>\n",
       "    <tr>\n",
       "      <th>3</th>\n",
       "      <td>76561197970982479</td>\n",
       "      <td>40</td>\n",
       "      <td>0</td>\n",
       "    </tr>\n",
       "    <tr>\n",
       "      <th>4</th>\n",
       "      <td>76561197970982479</td>\n",
       "      <td>50</td>\n",
       "      <td>0</td>\n",
       "    </tr>\n",
       "  </tbody>\n",
       "</table>\n",
       "</div>"
      ],
      "text/plain": [
       "             user_id  item_id  playtime_forever\n",
       "0  76561197970982479       10                 6\n",
       "1  76561197970982479       20                 0\n",
       "2  76561197970982479       30                 7\n",
       "3  76561197970982479       40                 0\n",
       "4  76561197970982479       50                 0"
      ]
     },
     "execution_count": 25,
     "metadata": {},
     "output_type": "execute_result"
    }
   ],
   "source": [
    "# Quedandonos con 3 columnas de las 6 iniciales\n",
    "cols = ['items_count','user_url','item_name']\n",
    "df_items = df_items.drop(cols,axis=1)\n",
    "df_items.head()"
   ]
  },
  {
   "cell_type": "code",
   "execution_count": 26,
   "id": "3321a0bd",
   "metadata": {},
   "outputs": [
    {
     "data": {
      "text/plain": [
       "(80000, 3)"
      ]
     },
     "execution_count": 26,
     "metadata": {},
     "output_type": "execute_result"
    }
   ],
   "source": [
    "# Conservando los mismos registros\n",
    "df_items.shape"
   ]
  },
  {
   "cell_type": "code",
   "execution_count": 27,
   "id": "1aaebfda",
   "metadata": {},
   "outputs": [
    {
     "data": {
      "text/html": [
       "<div>\n",
       "<style scoped>\n",
       "    .dataframe tbody tr th:only-of-type {\n",
       "        vertical-align: middle;\n",
       "    }\n",
       "\n",
       "    .dataframe tbody tr th {\n",
       "        vertical-align: top;\n",
       "    }\n",
       "\n",
       "    .dataframe thead th {\n",
       "        text-align: right;\n",
       "    }\n",
       "</style>\n",
       "<table border=\"1\" class=\"dataframe\">\n",
       "  <thead>\n",
       "    <tr style=\"text-align: right;\">\n",
       "      <th></th>\n",
       "      <th>user_id</th>\n",
       "      <th>item_id</th>\n",
       "      <th>playtime_forever</th>\n",
       "      <th>sentiment_analysis</th>\n",
       "      <th>recommend</th>\n",
       "      <th>review</th>\n",
       "      <th>posted_year</th>\n",
       "      <th>title</th>\n",
       "      <th>id</th>\n",
       "      <th>genero</th>\n",
       "      <th>release_year</th>\n",
       "    </tr>\n",
       "  </thead>\n",
       "  <tbody>\n",
       "    <tr>\n",
       "      <th>0</th>\n",
       "      <td>76561197970982479</td>\n",
       "      <td>22200</td>\n",
       "      <td>271</td>\n",
       "      <td>1</td>\n",
       "      <td>True</td>\n",
       "      <td>It's unique and worth a playthrough.</td>\n",
       "      <td>2011</td>\n",
       "      <td>Lost Summoner Kitty</td>\n",
       "      <td>761140.0</td>\n",
       "      <td>Casual</td>\n",
       "      <td>2018.0</td>\n",
       "    </tr>\n",
       "    <tr>\n",
       "      <th>1</th>\n",
       "      <td>76561197970982479</td>\n",
       "      <td>1250</td>\n",
       "      <td>10006</td>\n",
       "      <td>1</td>\n",
       "      <td>True</td>\n",
       "      <td>Simple yet with great replayability. In my opi...</td>\n",
       "      <td>2011</td>\n",
       "      <td>Lost Summoner Kitty</td>\n",
       "      <td>761140.0</td>\n",
       "      <td>Action</td>\n",
       "      <td>2018.0</td>\n",
       "    </tr>\n",
       "  </tbody>\n",
       "</table>\n",
       "</div>"
      ],
      "text/plain": [
       "             user_id  item_id  playtime_forever  sentiment_analysis  \\\n",
       "0  76561197970982479    22200               271                   1   \n",
       "1  76561197970982479     1250             10006                   1   \n",
       "\n",
       "   recommend                                             review  posted_year  \\\n",
       "0       True               It's unique and worth a playthrough.         2011   \n",
       "1       True  Simple yet with great replayability. In my opi...         2011   \n",
       "\n",
       "                 title        id  genero  release_year  \n",
       "0  Lost Summoner Kitty  761140.0  Casual        2018.0  \n",
       "1  Lost Summoner Kitty  761140.0  Action        2018.0  "
      ]
     },
     "execution_count": 27,
     "metadata": {},
     "output_type": "execute_result"
    }
   ],
   "source": [
    "# Fusionamos 'items' con 'df', usando el método 'merge'\n",
    "df1 = df_items.merge(df,on=['user_id','item_id'])\n",
    "df1.head(2)"
   ]
  },
  {
   "cell_type": "code",
   "execution_count": 28,
   "id": "ffbd1629",
   "metadata": {},
   "outputs": [],
   "source": [
    "# Vemos que la columna 'release_year' aparece como 'float', entonces la convertimos a 'integer'\n",
    "df1['release_year'] = df1['release_year'].astype(int)"
   ]
  },
  {
   "cell_type": "code",
   "execution_count": 29,
   "id": "e33f2be1",
   "metadata": {},
   "outputs": [
    {
     "name": "stdout",
     "output_type": "stream",
     "text": [
      "<class 'pandas.core.frame.DataFrame'>\n",
      "Int64Index: 890 entries, 0 to 889\n",
      "Data columns (total 11 columns):\n",
      " #   Column              Non-Null Count  Dtype  \n",
      "---  ------              --------------  -----  \n",
      " 0   user_id             890 non-null    object \n",
      " 1   item_id             890 non-null    int64  \n",
      " 2   playtime_forever    890 non-null    int64  \n",
      " 3   sentiment_analysis  890 non-null    int64  \n",
      " 4   recommend           890 non-null    bool   \n",
      " 5   review              890 non-null    object \n",
      " 6   posted_year         890 non-null    int64  \n",
      " 7   title               890 non-null    object \n",
      " 8   id                  890 non-null    float64\n",
      " 9   genero              890 non-null    object \n",
      " 10  release_year        890 non-null    int32  \n",
      "dtypes: bool(1), float64(1), int32(1), int64(4), object(4)\n",
      "memory usage: 73.9+ KB\n"
     ]
    }
   ],
   "source": [
    "# Verificamos la conversión y los 890 registros y 11 xolumnas\n",
    "df1.info()"
   ]
  },
  {
   "cell_type": "markdown",
   "id": "0a577694",
   "metadata": {},
   "source": [
    "### `Ahora, veamos que pasa si abrimos el dataset items: df_items_plus`\n",
    "* Eliminando las columnas: `items_count, user_url, item_name`"
   ]
  },
  {
   "cell_type": "code",
   "execution_count": 30,
   "id": "287a8956",
   "metadata": {},
   "outputs": [
    {
     "data": {
      "text/html": [
       "<div>\n",
       "<style scoped>\n",
       "    .dataframe tbody tr th:only-of-type {\n",
       "        vertical-align: middle;\n",
       "    }\n",
       "\n",
       "    .dataframe tbody tr th {\n",
       "        vertical-align: top;\n",
       "    }\n",
       "\n",
       "    .dataframe thead th {\n",
       "        text-align: right;\n",
       "    }\n",
       "</style>\n",
       "<table border=\"1\" class=\"dataframe\">\n",
       "  <thead>\n",
       "    <tr style=\"text-align: right;\">\n",
       "      <th></th>\n",
       "      <th>user_id</th>\n",
       "      <th>item_id</th>\n",
       "      <th>playtime_forever</th>\n",
       "    </tr>\n",
       "  </thead>\n",
       "  <tbody>\n",
       "    <tr>\n",
       "      <th>0</th>\n",
       "      <td>76561197970982479</td>\n",
       "      <td>10</td>\n",
       "      <td>6</td>\n",
       "    </tr>\n",
       "    <tr>\n",
       "      <th>1</th>\n",
       "      <td>76561197970982479</td>\n",
       "      <td>20</td>\n",
       "      <td>0</td>\n",
       "    </tr>\n",
       "    <tr>\n",
       "      <th>2</th>\n",
       "      <td>76561197970982479</td>\n",
       "      <td>30</td>\n",
       "      <td>7</td>\n",
       "    </tr>\n",
       "    <tr>\n",
       "      <th>3</th>\n",
       "      <td>76561197970982479</td>\n",
       "      <td>40</td>\n",
       "      <td>0</td>\n",
       "    </tr>\n",
       "    <tr>\n",
       "      <th>4</th>\n",
       "      <td>76561197970982479</td>\n",
       "      <td>50</td>\n",
       "      <td>0</td>\n",
       "    </tr>\n",
       "  </tbody>\n",
       "</table>\n",
       "</div>"
      ],
      "text/plain": [
       "             user_id  item_id  playtime_forever\n",
       "0  76561197970982479       10                 6\n",
       "1  76561197970982479       20                 0\n",
       "2  76561197970982479       30                 7\n",
       "3  76561197970982479       40                 0\n",
       "4  76561197970982479       50                 0"
      ]
     },
     "execution_count": 30,
     "metadata": {},
     "output_type": "execute_result"
    }
   ],
   "source": [
    "# Quedandonos con 3 columnas de las 6 iniciales\n",
    "cols = ['items_count','user_url','item_name']\n",
    "df_items_plus = df_items_plus.drop(cols,axis=1)\n",
    "df_items_plus.head()"
   ]
  },
  {
   "cell_type": "code",
   "execution_count": 31,
   "id": "fc4cefbe",
   "metadata": {},
   "outputs": [
    {
     "data": {
      "text/plain": [
       "(5094092, 3)"
      ]
     },
     "execution_count": 31,
     "metadata": {},
     "output_type": "execute_result"
    }
   ],
   "source": [
    "# Conservando los mismos registros\n",
    "df_items_plus.shape"
   ]
  },
  {
   "cell_type": "code",
   "execution_count": 32,
   "id": "b833599c",
   "metadata": {},
   "outputs": [
    {
     "data": {
      "text/html": [
       "<div>\n",
       "<style scoped>\n",
       "    .dataframe tbody tr th:only-of-type {\n",
       "        vertical-align: middle;\n",
       "    }\n",
       "\n",
       "    .dataframe tbody tr th {\n",
       "        vertical-align: top;\n",
       "    }\n",
       "\n",
       "    .dataframe thead th {\n",
       "        text-align: right;\n",
       "    }\n",
       "</style>\n",
       "<table border=\"1\" class=\"dataframe\">\n",
       "  <thead>\n",
       "    <tr style=\"text-align: right;\">\n",
       "      <th></th>\n",
       "      <th>user_id</th>\n",
       "      <th>item_id</th>\n",
       "      <th>playtime_forever</th>\n",
       "      <th>sentiment_analysis</th>\n",
       "      <th>recommend</th>\n",
       "      <th>review</th>\n",
       "      <th>posted_year</th>\n",
       "      <th>title</th>\n",
       "      <th>id</th>\n",
       "      <th>genero</th>\n",
       "      <th>release_year</th>\n",
       "    </tr>\n",
       "  </thead>\n",
       "  <tbody>\n",
       "    <tr>\n",
       "      <th>0</th>\n",
       "      <td>76561197970982479</td>\n",
       "      <td>22200</td>\n",
       "      <td>271</td>\n",
       "      <td>1</td>\n",
       "      <td>True</td>\n",
       "      <td>It's unique and worth a playthrough.</td>\n",
       "      <td>2011</td>\n",
       "      <td>Lost Summoner Kitty</td>\n",
       "      <td>761140.0</td>\n",
       "      <td>Casual</td>\n",
       "      <td>2018.0</td>\n",
       "    </tr>\n",
       "    <tr>\n",
       "      <th>1</th>\n",
       "      <td>76561197970982479</td>\n",
       "      <td>1250</td>\n",
       "      <td>10006</td>\n",
       "      <td>1</td>\n",
       "      <td>True</td>\n",
       "      <td>Simple yet with great replayability. In my opi...</td>\n",
       "      <td>2011</td>\n",
       "      <td>Lost Summoner Kitty</td>\n",
       "      <td>761140.0</td>\n",
       "      <td>Action</td>\n",
       "      <td>2018.0</td>\n",
       "    </tr>\n",
       "  </tbody>\n",
       "</table>\n",
       "</div>"
      ],
      "text/plain": [
       "             user_id  item_id  playtime_forever  sentiment_analysis  \\\n",
       "0  76561197970982479    22200               271                   1   \n",
       "1  76561197970982479     1250             10006                   1   \n",
       "\n",
       "   recommend                                             review  posted_year  \\\n",
       "0       True               It's unique and worth a playthrough.         2011   \n",
       "1       True  Simple yet with great replayability. In my opi...         2011   \n",
       "\n",
       "                 title        id  genero  release_year  \n",
       "0  Lost Summoner Kitty  761140.0  Casual        2018.0  \n",
       "1  Lost Summoner Kitty  761140.0  Action        2018.0  "
      ]
     },
     "execution_count": 32,
     "metadata": {},
     "output_type": "execute_result"
    }
   ],
   "source": [
    "# Fusionamos 'items' con 'df', usando el método 'merge'\n",
    "df2 = df_items_plus.merge(df,on=['user_id','item_id'])\n",
    "df2.head(2)"
   ]
  },
  {
   "cell_type": "code",
   "execution_count": 33,
   "id": "bcd6afd0",
   "metadata": {},
   "outputs": [
    {
     "name": "stdout",
     "output_type": "stream",
     "text": [
      "<class 'pandas.core.frame.DataFrame'>\n",
      "Int64Index: 44869 entries, 0 to 44868\n",
      "Data columns (total 11 columns):\n",
      " #   Column              Non-Null Count  Dtype  \n",
      "---  ------              --------------  -----  \n",
      " 0   user_id             44869 non-null  object \n",
      " 1   item_id             44869 non-null  int64  \n",
      " 2   playtime_forever    44869 non-null  int64  \n",
      " 3   sentiment_analysis  44869 non-null  int64  \n",
      " 4   recommend           44869 non-null  bool   \n",
      " 5   review              44849 non-null  object \n",
      " 6   posted_year         44869 non-null  int64  \n",
      " 7   title               42454 non-null  object \n",
      " 8   id                  42454 non-null  float64\n",
      " 9   genero              42454 non-null  object \n",
      " 10  release_year        42454 non-null  float64\n",
      "dtypes: bool(1), float64(2), int64(4), object(4)\n",
      "memory usage: 3.8+ MB\n"
     ]
    }
   ],
   "source": [
    "# Revisamos los valores nulos de la columna 'release_year',antes de covertir a 'integer'.\n",
    "df2.info()"
   ]
  },
  {
   "cell_type": "code",
   "execution_count": 34,
   "id": "52d0ebac",
   "metadata": {},
   "outputs": [
    {
     "data": {
      "text/plain": [
       "2415"
      ]
     },
     "execution_count": 34,
     "metadata": {},
     "output_type": "execute_result"
    }
   ],
   "source": [
    "# Verificamos valores nulos\n",
    "df2['release_year'].isnull().sum()"
   ]
  },
  {
   "cell_type": "code",
   "execution_count": 35,
   "id": "d6a6f987",
   "metadata": {},
   "outputs": [],
   "source": [
    "# Borramos los valores nulos\n",
    "df2 = df2.dropna(subset='release_year')"
   ]
  },
  {
   "cell_type": "code",
   "execution_count": 36,
   "id": "dcac4341",
   "metadata": {},
   "outputs": [],
   "source": [
    "# Una vez que hemos eliminado los valores nulos, procedemos a la conversión.\n",
    "df2['release_year'] = df2['release_year'].astype(int)"
   ]
  },
  {
   "cell_type": "code",
   "execution_count": 37,
   "id": "8fb47943",
   "metadata": {},
   "outputs": [
    {
     "name": "stdout",
     "output_type": "stream",
     "text": [
      "<class 'pandas.core.frame.DataFrame'>\n",
      "Int64Index: 42454 entries, 0 to 42453\n",
      "Data columns (total 11 columns):\n",
      " #   Column              Non-Null Count  Dtype  \n",
      "---  ------              --------------  -----  \n",
      " 0   user_id             42454 non-null  object \n",
      " 1   item_id             42454 non-null  int64  \n",
      " 2   playtime_forever    42454 non-null  int64  \n",
      " 3   sentiment_analysis  42454 non-null  int64  \n",
      " 4   recommend           42454 non-null  bool   \n",
      " 5   review              42436 non-null  object \n",
      " 6   posted_year         42454 non-null  int64  \n",
      " 7   title               42454 non-null  object \n",
      " 8   id                  42454 non-null  float64\n",
      " 9   genero              42454 non-null  object \n",
      " 10  release_year        42454 non-null  int32  \n",
      "dtypes: bool(1), float64(1), int32(1), int64(4), object(4)\n",
      "memory usage: 3.4+ MB\n"
     ]
    }
   ],
   "source": [
    "# Verificamos la correcta conversión \n",
    "df2.info()"
   ]
  },
  {
   "cell_type": "markdown",
   "id": "cf3e3d34",
   "metadata": {},
   "source": [
    "### `Tal parece que df2 es la estrella con más datos que df1`\n",
    "* Así que salvamos a df2 como nuestro dataset de trabajo: `df_trabajo.csv`"
   ]
  },
  {
   "cell_type": "code",
   "execution_count": 38,
   "id": "177a879e",
   "metadata": {},
   "outputs": [],
   "source": [
    "# Salvamos nuestro archivo de trabajo como: 'df_trabajo.csv'\n",
    "#df2.to_csv('df_trabajo.csv',index=False)"
   ]
  },
  {
   "cell_type": "markdown",
   "id": "ed52e32a",
   "metadata": {},
   "source": [
    "### **Salvados los respectivos datasets.csv**:\n",
    "* Los envie al folder `data` para aligerar el proyecto\n",
    "* Capturamos la actualización "
   ]
  },
  {
   "cell_type": "markdown",
   "id": "0a5f8823",
   "metadata": {},
   "source": [
    "<p><img src=\"formas/data_plus.png\", width=\"700\"></p>"
   ]
  },
  {
   "cell_type": "markdown",
   "id": "9c7777ae",
   "metadata": {},
   "source": [
    "<h6 align=right><i>Cohorte</i>:DataPT04</h6>\n",
    "<h6 align=right><i>Mexico - 2023</i></h6>\n",
    "<h6 align=left><i>Pag. 1</i></h6>"
   ]
  },
  {
   "cell_type": "code",
   "execution_count": null,
   "id": "7f70b7f7",
   "metadata": {},
   "outputs": [],
   "source": []
  }
 ],
 "metadata": {
  "kernelspec": {
   "display_name": "Python 3 (ipykernel)",
   "language": "python",
   "name": "python3"
  },
  "language_info": {
   "codemirror_mode": {
    "name": "ipython",
    "version": 3
   },
   "file_extension": ".py",
   "mimetype": "text/x-python",
   "name": "python",
   "nbconvert_exporter": "python",
   "pygments_lexer": "ipython3",
   "version": "3.11.3"
  }
 },
 "nbformat": 4,
 "nbformat_minor": 5
}
