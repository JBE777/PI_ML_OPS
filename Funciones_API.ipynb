{
 "cells": [
  {
   "cell_type": "markdown",
   "id": "711df414",
   "metadata": {},
   "source": [
    "<h1 align=right><span style='font-family:Arial Black'>Henry</span></h1>\n",
    "<p><img src=\"formas/EDA.jpg\", width=\"250\"></p>"
   ]
  },
  {
   "cell_type": "markdown",
   "id": "68134399",
   "metadata": {},
   "source": [
    "## *Funciones:*`API`"
   ]
  },
  {
   "cell_type": "code",
   "execution_count": 1,
   "id": "df2e06e5",
   "metadata": {},
   "outputs": [],
   "source": [
    "import pandas as pd\n",
    "from sklearn.feature_extraction.text import TfidfVectorizer\n",
    "from sklearn.metrics.pairwise import linear_kernel\n",
    "\n",
    "def PlayTimeGenre(genero:str):\n",
    "    '''Debe devolver año con más horas jugadas para dicho género.Ejemplo de retorno: \n",
    "    {\"Año de lanzamiento con más horas jugadas para el Género X\" : 2013}\n",
    "    con Input:genero, se puede usar como input = \n",
    "    ['Casual','Action','Indie','Strategy','Free to Play','Simulation','RPG','Sports']'''\n",
    "    df = pd.read_csv('./genero.csv')\n",
    "    d = df.loc[df.genero==genero]\n",
    "    e = d.playtime_hours.count()\n",
    "    f = d.release_year.to_list()\n",
    "    return {'Año de lanzamiento':f[0]}\n",
    "\n",
    "def UserForGenre(genero:str): \n",
    "    '''Debe devolver el usuario que acumula más horas jugadas para el género dado y una \n",
    "    lista de la acumulación de las horas jugadas por año. Ejemplo de retorno: \n",
    "    {\"Usuario con más horas jugadas para el Género X\" : us213ndjss09sdf, \"Horas jugadas\":\n",
    "    [{Año: 2013, Horas: 203}, {Año: 2012, Horas: 100}, {Año: 2011, Horas: 23}]}\n",
    "    con Input:genero, se puede usar como input =\n",
    "    ['Casual','Action','Indie','Strategy','Free to Play','Simulation','RPG','Sports']'''\n",
    "    df = pd.read_csv('./userforgenre.csv')\n",
    "    gen = df.loc[df.genero==genero]\n",
    "    u = gen.user_id.to_list()[0]\n",
    "    d = gen.posted_year.to_list()\n",
    "    f = gen['playtime_hours'].to_list()\n",
    "    return {'Usuario por género':u,'Horas jugadas':[{'Año':d[0], 'Horas':int(round(f[0],0))},\n",
    "           {'Año':d[1], 'Horas':int(round(f[1],0))},{'Año':d[2], 'Horas':int(round(f[2],0))}]}\n",
    "    \n",
    "def UsersRecommend(anio:int): \n",
    "    '''Devuelve el top 3 de juegos MÁS recomendados por usuarios para el año dado. (reviews.recommend = \n",
    "    True y comentarios positivos/neutrales). Ejemplo de retorno: [{\"Puesto 1\" : X}, {\"Puesto 2\" : Y},\n",
    "    {\"Puesto 3\" : Z}] con Input:anio=Año, se puede usar como input = [2010,2012,2014,2015,2023]'''\n",
    "    df = pd.read_csv('./UsersRecommend.csv')\n",
    "    a = df.loc[df.posted_year==anio]\n",
    "    b = a.sentiment_analysis.count()\n",
    "    c = a.title.to_list()\n",
    "    return {'Puesto 1':c[0],'Puesto 2':c[1],'Puesto 3':c[2]}\n",
    "    \n",
    "def UsersNotRecommend(anio:int): \n",
    "    '''Devuelve el top 3 de juegos MENOS recomendados por usuarios para el año dado. (reviews.recommend = \n",
    "    False y comentarios negativos). Ejemplo de retorno: [{\"Puesto 1\" : X}, {\"Puesto 2\" : Y},{\"Puesto 3\" : Z}]\n",
    "    con Input:anio=Año, se puede usar como input = [2011,2012,2014,2015,2023]'''\n",
    "    df = pd.read_csv('./UsersNotRecommend.csv')\n",
    "    d = df.loc[df.posted_year==anio]\n",
    "    e = d.sentiment_analysis.count()\n",
    "    f = d.title.to_list()\n",
    "    return {'Puesto 1':f[0],'Puesto 2':f[1],'Puesto 3':f[2]}\n",
    "    \n",
    "def sentiment_analysis(anio:int): \n",
    "    '''Según el año de lanzamiento, se devuelve una lista con la cantidad de registros de reseñas\n",
    "    de usuarios que se encuentren categorizados con un análisis de sentimiento. Con Input:anio=Año,\n",
    "    se puede usar como input = [2010,2011,2012,2013,2014,2015,2016,2017,2018]'''\n",
    "    df = pd.read_csv('./sentimientos.csv')\n",
    "    d = df[df['release_year']==anio]\n",
    "    e = d['review'].count()\n",
    "    f = d[d['sentiment_analysis']==0.0].count()\n",
    "    g = d[d['sentiment_analysis']==1.0].count()\n",
    "    h = d[d['sentiment_analysis']==2.0].count()\n",
    "    neg = (f/e)*len(d)\n",
    "    neu = (g/e)*len(d)\n",
    "    pos = (h/e)*len(d)\n",
    "    a = neg.to_list()\n",
    "    b = neu.to_list()\n",
    "    c = pos.to_list()\n",
    "    return {'Negative':int(a[0]), 'Neutral':int(b[0]),'Positive':int(c[0])}\n",
    "\n",
    "def recomendacion_juego(titulo):\n",
    "    '''Ingresando el titulo de un producto, deberíamos recibir una lista con 5 juegos recomendados similares al ingresado.\n",
    "    Inputs posibles = ['Lost Summoner Kitty','Ironbound','Real Pool 3D - Poolians','Battle Royale Trainer','SNOW - All Access Pro Pass',\n",
    "                     'Caviar - Endless Stress Reliever']'''\n",
    "    f = pd.read_csv('./recomendacion_juego.csv')\n",
    "    tfidf = TfidfVectorizer(stop_words = 'english')\n",
    "    f['review'] = f['review'].fillna('')\n",
    "    tfidf_matriz = tfidf.fit_transform(f['review']) \n",
    "    coseno_sim = linear_kernel(tfidf_matriz,tfidf_matriz)\n",
    "    indices = pd.Series(f.index, index = f['title'])\n",
    "    idx = indices[titulo]\n",
    "    simil = list(enumerate(coseno_sim[idx]))\n",
    "    simil = sorted(simil, key = lambda x: x[0],reverse=True)\n",
    "    simil = simil[1:11]\n",
    "    juego_index = [f[0] for f in simil]\n",
    "    lista = f['title'].iloc[juego_index].to_list()[:5]\n",
    "    return {'Recomendacion_juego':lista}\n",
    "    \n",
    "def recomendacion_usuario(user_id):\n",
    "    '''Ingresando el id de un usuario, deberíamos recibir una lista con 5 juegos recomendados para dicho usuario.\n",
    "    Inputs posibles = [76561197970982479,'js41637',76561198087216220, 'L3afBlower']'''\n",
    "    g = pd.read_csv('./recomendacion_usuario.csv')\n",
    "    tfidf = TfidfVectorizer(stop_words = 'english')\n",
    "    g['user_id'] = g['user_id'].fillna('')\n",
    "    tfidf_matriz = tfidf.fit_transform(g['user_id']) \n",
    "    coseno_sim = linear_kernel(tfidf_matriz,tfidf_matriz)\n",
    "    indices = pd.Series(g.index, index = g['user_id'])\n",
    "    idx = indices[user_id]\n",
    "    simil = list(enumerate(coseno_sim[idx]))\n",
    "    simil = sorted(simil, key = lambda x: x[0],reverse=True)\n",
    "    simil = simil[1:11]\n",
    "    usuario_index = [g[0] for g in simil]\n",
    "    lista = g['title'].iloc[usuario_index].to_list()[:5]\n",
    "    return {'Recomendacion_usuario':lista}"
   ]
  },
  {
   "cell_type": "code",
   "execution_count": 2,
   "id": "d1dfac48",
   "metadata": {},
   "outputs": [
    {
     "name": "stdout",
     "output_type": "stream",
     "text": [
      "{'Año de lanzamiento': 2017}\n",
      "{'Usuario por género': 'milez1987', 'Horas jugadas': [{'Año': 2010, 'Horas': 4}, {'Año': 2011, 'Horas': 22}, {'Año': 2011, 'Horas': 7}]}\n",
      "{'Puesto 1': 'M.EXE', 'Puesto 2': 'Expect The Unexpected', 'Puesto 3': 'Dungeon Rushers: Crawler RPG'}\n",
      "{'Puesto 1': 'EURGAVA™ - Fight for Haaria', 'Puesto 2': 'Space Ripper', 'Puesto 3': 'Holy Potatoes! We’re in Space?! Soundtrack'}\n",
      "{'Negative': 39, 'Neutral': 376, 'Positive': 154}\n",
      "{'Recomendacion_juego': ['Lost Summoner Kitty', 'Lost Summoner Kitty']}\n",
      "{'Recomendacion_usuario': ['EXIT 2 - Directions', 'Russian Roads', 'Russian Roads', 'Russian Roads', 'LOGistICAL: South Africa']}\n"
     ]
    }
   ],
   "source": [
    "print(PlayTimeGenre('Sports')) \n",
    "print(UserForGenre('Sports'))\n",
    "print(UsersRecommend(2015))\n",
    "print(UsersNotRecommend(2023))\n",
    "print(sentiment_analysis(2016))\n",
    "print(recomendacion_juego('Battle Royale Trainer'))\n",
    "print(recomendacion_usuario('L3afBlower'))"
   ]
  },
  {
   "cell_type": "markdown",
   "id": "403b79e5",
   "metadata": {},
   "source": [
    "<h6 align=right><i>Cohorte</i>:DataPT04</h6>\n",
    "<h6 align=right><i>Mexico - 2023</i></h6>\n",
    "<h6 align=left><i>Pag. 3</i></h6>"
   ]
  },
  {
   "cell_type": "code",
   "execution_count": null,
   "id": "a361bd11",
   "metadata": {},
   "outputs": [],
   "source": []
  }
 ],
 "metadata": {
  "kernelspec": {
   "display_name": "Python 3 (ipykernel)",
   "language": "python",
   "name": "python3"
  },
  "language_info": {
   "codemirror_mode": {
    "name": "ipython",
    "version": 3
   },
   "file_extension": ".py",
   "mimetype": "text/x-python",
   "name": "python",
   "nbconvert_exporter": "python",
   "pygments_lexer": "ipython3",
   "version": "3.11.3"
  }
 },
 "nbformat": 4,
 "nbformat_minor": 5
}
